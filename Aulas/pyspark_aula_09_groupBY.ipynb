{
 "cells": [
  {
   "cell_type": "code",
   "execution_count": null,
   "id": "7dd55f6f",
   "metadata": {},
   "outputs": [],
   "source": [
    "from pyspark.sql import SparkSession\n",
    "import pyspark.sql.functions as F\n",
    "\n",
    "spark = (\n",
    "    SparkSession.builder.appName(\"pyspark_aula_07\")\n",
    "    .config(\"spark.sql.repl.eagerEval.enabled\", True)\n",
    "    .getOrCreate()\n",
    ")\n",
    "\n",
    "df = spark.read.parquet(\".bases/LOGINS.parquet\")"
   ]
  },
  {
   "cell_type": "code",
   "execution_count": 13,
   "id": "ecfc52b1",
   "metadata": {},
   "outputs": [
    {
     "data": {
      "text/html": [
       "<table border='1'>\n",
       "<tr><th>year(data_de_nascimento)</th><th>count</th></tr>\n",
       "<tr><td>1959</td><td>8</td></tr>\n",
       "<tr><td>1990</td><td>7</td></tr>\n",
       "<tr><td>1975</td><td>7</td></tr>\n",
       "<tr><td>1977</td><td>5</td></tr>\n",
       "<tr><td>1924</td><td>9</td></tr>\n",
       "<tr><td>2003</td><td>7</td></tr>\n",
       "<tr><td>2007</td><td>12</td></tr>\n",
       "<tr><td>2018</td><td>13</td></tr>\n",
       "<tr><td>1974</td><td>7</td></tr>\n",
       "<tr><td>2015</td><td>9</td></tr>\n",
       "<tr><td>2023</td><td>2</td></tr>\n",
       "<tr><td>1927</td><td>6</td></tr>\n",
       "<tr><td>1955</td><td>13</td></tr>\n",
       "<tr><td>2006</td><td>14</td></tr>\n",
       "<tr><td>2022</td><td>9</td></tr>\n",
       "<tr><td>1978</td><td>6</td></tr>\n",
       "<tr><td>1908</td><td>8</td></tr>\n",
       "<tr><td>1925</td><td>7</td></tr>\n",
       "<tr><td>1961</td><td>7</td></tr>\n",
       "<tr><td>2013</td><td>9</td></tr>\n",
       "</table>\n",
       "only showing top 20 rows\n"
      ],
      "text/plain": [
       "+------------------------+-----+\n",
       "|year(data_de_nascimento)|count|\n",
       "+------------------------+-----+\n",
       "|                    1959|    8|\n",
       "|                    1990|    7|\n",
       "|                    1975|    7|\n",
       "|                    1977|    5|\n",
       "|                    1924|    9|\n",
       "|                    2003|    7|\n",
       "|                    2007|   12|\n",
       "|                    2018|   13|\n",
       "|                    1974|    7|\n",
       "|                    2015|    9|\n",
       "|                    2023|    2|\n",
       "|                    1927|    6|\n",
       "|                    1955|   13|\n",
       "|                    2006|   14|\n",
       "|                    2022|    9|\n",
       "|                    1978|    6|\n",
       "|                    1908|    8|\n",
       "|                    1925|    7|\n",
       "|                    1961|    7|\n",
       "|                    2013|    9|\n",
       "+------------------------+-----+\n",
       "only showing top 20 rows"
      ]
     },
     "execution_count": 13,
     "metadata": {},
     "output_type": "execute_result"
    }
   ],
   "source": [
    "(\n",
    "    df\n",
    "    # .groupBy('estado','cor_favorita').count().groupBy('estado').sum('count') # somando os valores de count por estado\n",
    "    # .groupBy('estado','cor_favorita').count().groupBy('estado').avg('count') # media dos valores de count por estado\n",
    "    # .groupBy('estado','cor_favorita').count().groupBy('estado').min('count') # minimo dos valores de count por estado\n",
    "    # .groupBy('estado','cor_favorita').count().groupBy('estado').max('count') # maximo dos valores de count por estado\n",
    "    .groupBy(F.year('data_de_nascimento')).count()\n",
    ")\n"
   ]
  },
  {
   "cell_type": "code",
   "execution_count": 8,
   "id": "807e2d29",
   "metadata": {},
   "outputs": [
    {
     "data": {
      "text/html": [
       "<table border='1'>\n",
       "<tr><th>estado</th><th>avg(count)</th></tr>\n",
       "<tr><td>SC</td><td>3.142857142857143</td></tr>\n",
       "<tr><td>RO</td><td>2.4375</td></tr>\n",
       "<tr><td>PI</td><td>2.5</td></tr>\n",
       "<tr><td>AM</td><td>2.4285714285714284</td></tr>\n",
       "<tr><td>RR</td><td>2.5384615384615383</td></tr>\n",
       "<tr><td>GO</td><td>2.8125</td></tr>\n",
       "<tr><td>TO</td><td>2.4285714285714284</td></tr>\n",
       "<tr><td>MT</td><td>2.0714285714285716</td></tr>\n",
       "<tr><td>SP</td><td>3.2666666666666666</td></tr>\n",
       "<tr><td>ES</td><td>2.533333333333333</td></tr>\n",
       "<tr><td>PB</td><td>2.2666666666666666</td></tr>\n",
       "<tr><td>RS</td><td>2.6</td></tr>\n",
       "<tr><td>MS</td><td>3.0</td></tr>\n",
       "<tr><td>AL</td><td>2.4</td></tr>\n",
       "<tr><td>MG</td><td>2.875</td></tr>\n",
       "<tr><td>PA</td><td>2.0</td></tr>\n",
       "<tr><td>BA</td><td>3.0</td></tr>\n",
       "<tr><td>SE</td><td>2.933333333333333</td></tr>\n",
       "<tr><td>PE</td><td>2.4285714285714284</td></tr>\n",
       "<tr><td>CE</td><td>2.8125</td></tr>\n",
       "</table>\n",
       "only showing top 20 rows\n"
      ],
      "text/plain": [
       "+------+------------------+\n",
       "|estado|        avg(count)|\n",
       "+------+------------------+\n",
       "|    SC| 3.142857142857143|\n",
       "|    RO|            2.4375|\n",
       "|    PI|               2.5|\n",
       "|    AM|2.4285714285714284|\n",
       "|    RR|2.5384615384615383|\n",
       "|    GO|            2.8125|\n",
       "|    TO|2.4285714285714284|\n",
       "|    MT|2.0714285714285716|\n",
       "|    SP|3.2666666666666666|\n",
       "|    ES| 2.533333333333333|\n",
       "|    PB|2.2666666666666666|\n",
       "|    RS|               2.6|\n",
       "|    MS|               3.0|\n",
       "|    AL|               2.4|\n",
       "|    MG|             2.875|\n",
       "|    PA|               2.0|\n",
       "|    BA|               3.0|\n",
       "|    SE| 2.933333333333333|\n",
       "|    PE|2.4285714285714284|\n",
       "|    CE|            2.8125|\n",
       "+------+------------------+\n",
       "only showing top 20 rows"
      ]
     },
     "execution_count": 8,
     "metadata": {},
     "output_type": "execute_result"
    }
   ],
   "source": []
  }
 ],
 "metadata": {
  "kernelspec": {
   "display_name": ".venv",
   "language": "python",
   "name": "python3"
  },
  "language_info": {
   "codemirror_mode": {
    "name": "ipython",
    "version": 3
   },
   "file_extension": ".py",
   "mimetype": "text/x-python",
   "name": "python",
   "nbconvert_exporter": "python",
   "pygments_lexer": "ipython3",
   "version": "3.12.4"
  }
 },
 "nbformat": 4,
 "nbformat_minor": 5
}
