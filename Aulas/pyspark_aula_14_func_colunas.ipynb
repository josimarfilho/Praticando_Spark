{
 "cells": [
  {
   "cell_type": "code",
   "execution_count": 1,
   "id": "7485ee78",
   "metadata": {},
   "outputs": [],
   "source": [
    "from pyspark.sql import SparkSession\n",
    "import pyspark.sql.functions as F\n",
    "\n",
    "spark = (\n",
    "    SparkSession.builder.appName(\"pyspark_aula_12\")\n",
    "    .config(\"spark.sql.repl.eagerEval.enabled\", True)\n",
    "    .getOrCreate()\n",
    ")"
   ]
  },
  {
   "cell_type": "code",
   "execution_count": null,
   "id": "c98b6dd4",
   "metadata": {},
   "outputs": [],
   "source": [
    "df = spark.read.parquet(\"./bases/LOGINS.parquet\")"
   ]
  },
  {
   "cell_type": "code",
   "execution_count": null,
   "id": "88b778a3",
   "metadata": {},
   "outputs": [
    {
     "data": {
      "text/html": [
       "<table border='1'>\n",
       "<tr><th>cpf</th><th>email</th><th>senha</th><th>data_de_nascimento</th></tr>\n",
       "<tr><td>618.239.504-42</td><td>da-motalorenzo@bo...</td><td>zV2Hi*+o&amp;!</td><td>2013-10-22</td></tr>\n",
       "<tr><td>174.892.065-02</td><td>da-rochapietra@gm...</td><td>!mS6RsesHw</td><td>2015-09-30</td></tr>\n",
       "<tr><td>309.482.175-88</td><td>duarteheloisa@gma...</td><td>*_9^hDGjQp</td><td>2013-06-30</td></tr>\n",
       "</table>\n"
      ],
      "text/plain": [
       "+--------------+--------------------+----------+------------------+\n",
       "|           cpf|               email|     senha|data_de_nascimento|\n",
       "+--------------+--------------------+----------+------------------+\n",
       "|618.239.504-42|da-motalorenzo@bo...|zV2Hi*+o&!|        2013-10-22|\n",
       "|174.892.065-02|da-rochapietra@gm...|!mS6RsesHw|        2015-09-30|\n",
       "|309.482.175-88|duarteheloisa@gma...|*_9^hDGjQp|        2013-06-30|\n",
       "+--------------+--------------------+----------+------------------+"
      ]
     },
     "execution_count": 18,
     "metadata": {},
     "output_type": "execute_result"
    }
   ],
   "source": [
    "(\n",
    "    df\n",
    "    .select('cpf', 'email', 'senha', 'data_de_nascimento')\n",
    "    # .withColumn('tel', F.regexp_replace(F.col('telefone'), ' ','')) #remove espaços\n",
    "    # .withColumn('tel', F.regexp_replace(F.col('telefone'), '(\\D)','')) # remove os caracteres especiais\n",
    "    # .withColumn('tel', F.regexp_replace(F.col('telefone'), '(\\D)','').cast('int')) # Realizando parse de string para int\n",
    "    # .orderBy(F.desc('tel'))\n",
    "    # .orderBy(F.asc_nulls_first('tel'))\n",
    "    .where(F.year('data_de_nascimento').between(2012,2015)) # Entre\n",
    "    # .where(F.col('email').contains('joao')) # Contém\n",
    "    .where(F.col('email').startswith('d')) # Inicia com\n",
    ")"
   ]
  },
  {
   "cell_type": "code",
   "execution_count": null,
   "id": "4266314c",
   "metadata": {},
   "outputs": [
    {
     "data": {
      "text/html": [
       "<table border='1'>\n",
       "<tr><th>cpf</th><th>email</th><th>senha</th><th>data_de_nascimento</th><th>estado</th><th>data_cadastro</th><th>ipv4</th><th>cor_favorita</th><th>profissao</th><th>telefone</th><th>tel</th></tr>\n",
       "<tr><td>217.639.540-99</td><td>jribeiro@bol.com.br</td><td>MEf1X7fj_0</td><td>2021-10-05</td><td>PA</td><td>2023-03-02</td><td>71.22.224.5</td><td>Marrom</td><td>Geólogo</td><td>21 1432 4092</td><td>2114324092</td></tr>\n",
       "<tr><td>136.894.750-66</td><td>barrossarah@bol.c...</td><td>zm1eLH9t%o</td><td>1975-05-21</td><td>CE</td><td>2023-01-11</td><td>79.204.112.52</td><td>Magenta</td><td>Auxiliar De Servi...</td><td>11 7350 7069</td><td>1173507069</td></tr>\n",
       "<tr><td>748.591.320-41</td><td>nalves@yahoo.com.br</td><td>$U0HLVZti5</td><td>1931-12-14</td><td>RS</td><td>2023-03-01</td><td>131.147.18.150</td><td>Violeta</td><td>Escoteiro</td><td>21 2856 4753</td><td>2128564753</td></tr>\n",
       "<tr><td>265.793.184-73</td><td>jazevedo@ig.com.br</td><td>*aObIfCg@1</td><td>2008-03-07</td><td>AM</td><td>2023-03-01</td><td>182.108.108.197</td><td>Rosa</td><td>Estampador De Tec...</td><td>11 7568 9493</td><td>1175689493</td></tr>\n",
       "<tr><td>918.524.730-88</td><td>moreiralivia@uol....</td><td>o3Yi$eNs_n</td><td>1914-01-17</td><td>RJ</td><td>2023-01-22</td><td>63.34.144.217</td><td>Laranja</td><td>Agente De Defesa ...</td><td>11 2462 1478</td><td>1124621478</td></tr>\n",
       "<tr><td>514.063.978-57</td><td>cavalcantiviniciu...</td><td>ZyH*9UtWx)</td><td>2011-02-21</td><td>PA</td><td>2023-02-10</td><td>55.111.42.71</td><td>Verde Escuro</td><td>Atuário</td><td>11 7741 4671</td><td>1177414671</td></tr>\n",
       "<tr><td>928.701.456-67</td><td>da-cunhaana-julia...</td><td>)2XbB$axPv</td><td>1969-01-24</td><td>PA</td><td>2023-01-12</td><td>187.203.37.154</td><td>Violeta</td><td>Prático</td><td>21 3348 1594</td><td>2133481594</td></tr>\n",
       "<tr><td>869.271.345-73</td><td>miguel76@yahoo.co...</td><td>*Q$JUx5n#3</td><td>2018-03-31</td><td>MA</td><td>2023-02-27</td><td>80.229.217.105</td><td>Cinza</td><td>Técnico Em Segura...</td><td>11 1252 6498</td><td>1112526498</td></tr>\n",
       "<tr><td>361.280.594-06</td><td>alice20@hotmail.com</td><td>@0JRBP$&amp;j)</td><td>2012-02-08</td><td>SE</td><td>2023-01-02</td><td>129.116.136.189</td><td>Verde Claro</td><td>Otorrinolaringolo...</td><td>11 6808 5565</td><td>1168085565</td></tr>\n",
       "<tr><td>716.548.902-94</td><td>pedro-henriquemou...</td><td>Og!5B2*m)o</td><td>1996-04-10</td><td>GO</td><td>2023-01-07</td><td>25.92.123.244</td><td>Cinza</td><td>Cortador De Cana-...</td><td>11 4184 8361</td><td>1141848361</td></tr>\n",
       "<tr><td>360.179.485-39</td><td>joao-gabriel42@ig...</td><td>K9W5Mcerk(</td><td>2012-12-30</td><td>CE</td><td>2023-02-11</td><td>64.227.160.247</td><td>Amarelo</td><td>Nefrologista</td><td>21 2369 3996</td><td>2123693996</td></tr>\n",
       "<tr><td>539.216.084-06</td><td>benjamin34@uol.co...</td><td>RH^c7vTsX!</td><td>2006-03-28</td><td>DF</td><td>2023-02-08</td><td>6.42.198.179</td><td>Marrom</td><td>Telegrafista</td><td>21 0155 0726</td><td>2101550726</td></tr>\n",
       "<tr><td>957.102.438-41</td><td>calebe52@ig.com.br</td><td>3VGXSE)t!6</td><td>1993-04-24</td><td>SE</td><td>2023-01-07</td><td>218.214.242.30</td><td>Roxo</td><td>Profissional De C...</td><td>11 0384 7507</td><td>1103847507</td></tr>\n",
       "<tr><td>306.481.975-57</td><td>ana-juliaaraujo@u...</td><td>Vur0uW9xA*</td><td>1936-07-28</td><td>PI</td><td>2023-03-02</td><td>120.103.76.29</td><td>Branco</td><td>Biotecnólogo</td><td>11 7920 2821</td><td>1179202821</td></tr>\n",
       "<tr><td>731.602.589-12</td><td>castromirella@yah...</td><td>z9qQ0X_m%@</td><td>1935-04-06</td><td>SC</td><td>2023-01-24</td><td>125.137.127.84</td><td>Ciano</td><td>Cortador De Cana-...</td><td>21 1503 8540</td><td>2115038540</td></tr>\n",
       "<tr><td>983.521.760-21</td><td>davi-lucas45@bol....</td><td>uaWqUFiV_4</td><td>1946-07-13</td><td>PI</td><td>2023-03-10</td><td>1.122.154.219</td><td>Roxo</td><td>Ortopedista</td><td>11 1709 2950</td><td>1117092950</td></tr>\n",
       "<tr><td>172.690.485-76</td><td>csouza@ig.com.br</td><td>&amp;*4(B%z$dd</td><td>1979-09-03</td><td>DF</td><td>2023-02-03</td><td>165.88.248.55</td><td>Branco</td><td>Cientista Político</td><td>11 9349 7217</td><td>1193497217</td></tr>\n",
       "<tr><td>652.439.807-65</td><td>luiza17@bol.com.br</td><td>^c40dFYUq3</td><td>2020-08-28</td><td>RN</td><td>2023-02-07</td><td>223.81.136.76</td><td>Laranja</td><td>Carpinteiro</td><td>21 3405 8122</td><td>2134058122</td></tr>\n",
       "<tr><td>139.758.240-50</td><td>danilo36@hotmail.com</td><td>_AUlAa*b3A</td><td>1956-05-29</td><td>PB</td><td>2023-02-23</td><td>94.189.215.1</td><td>Roxo</td><td>Flanelinha</td><td>21 4367 0610</td><td>2143670610</td></tr>\n",
       "<tr><td>130.298.476-40</td><td>arezende@uol.com.br</td><td>#W9^XgvTyR</td><td>2017-09-02</td><td>MA</td><td>2023-03-01</td><td>129.103.171.217</td><td>Rosa</td><td>Pediatra</td><td>21 3144 7568</td><td>2131447568</td></tr>\n",
       "</table>\n"
      ],
      "text/plain": [
       "+--------------+--------------------+----------+------------------+------+-------------+---------------+------------+--------------------+------------+----------+\n",
       "|           cpf|               email|     senha|data_de_nascimento|estado|data_cadastro|           ipv4|cor_favorita|           profissao|    telefone|       tel|\n",
       "+--------------+--------------------+----------+------------------+------+-------------+---------------+------------+--------------------+------------+----------+\n",
       "|217.639.540-99| jribeiro@bol.com.br|MEf1X7fj_0|        2021-10-05|    PA|   2023-03-02|    71.22.224.5|      Marrom|             Geólogo|21 1432 4092|2114324092|\n",
       "|136.894.750-66|barrossarah@bol.c...|zm1eLH9t%o|        1975-05-21|    CE|   2023-01-11|  79.204.112.52|     Magenta|Auxiliar De Servi...|11 7350 7069|1173507069|\n",
       "|748.591.320-41| nalves@yahoo.com.br|$U0HLVZti5|        1931-12-14|    RS|   2023-03-01| 131.147.18.150|     Violeta|           Escoteiro|21 2856 4753|2128564753|\n",
       "|265.793.184-73|  jazevedo@ig.com.br|*aObIfCg@1|        2008-03-07|    AM|   2023-03-01|182.108.108.197|        Rosa|Estampador De Tec...|11 7568 9493|1175689493|\n",
       "|918.524.730-88|moreiralivia@uol....|o3Yi$eNs_n|        1914-01-17|    RJ|   2023-01-22|  63.34.144.217|     Laranja|Agente De Defesa ...|11 2462 1478|1124621478|\n",
       "|514.063.978-57|cavalcantiviniciu...|ZyH*9UtWx)|        2011-02-21|    PA|   2023-02-10|   55.111.42.71|Verde Escuro|             Atuário|11 7741 4671|1177414671|\n",
       "|928.701.456-67|da-cunhaana-julia...|)2XbB$axPv|        1969-01-24|    PA|   2023-01-12| 187.203.37.154|     Violeta|             Prático|21 3348 1594|2133481594|\n",
       "|869.271.345-73|miguel76@yahoo.co...|*Q$JUx5n#3|        2018-03-31|    MA|   2023-02-27| 80.229.217.105|       Cinza|Técnico Em Segura...|11 1252 6498|1112526498|\n",
       "|361.280.594-06| alice20@hotmail.com|@0JRBP$&j)|        2012-02-08|    SE|   2023-01-02|129.116.136.189| Verde Claro|Otorrinolaringolo...|11 6808 5565|1168085565|\n",
       "|716.548.902-94|pedro-henriquemou...|Og!5B2*m)o|        1996-04-10|    GO|   2023-01-07|  25.92.123.244|       Cinza|Cortador De Cana-...|11 4184 8361|1141848361|\n",
       "|360.179.485-39|joao-gabriel42@ig...|K9W5Mcerk(|        2012-12-30|    CE|   2023-02-11| 64.227.160.247|     Amarelo|        Nefrologista|21 2369 3996|2123693996|\n",
       "|539.216.084-06|benjamin34@uol.co...|RH^c7vTsX!|        2006-03-28|    DF|   2023-02-08|   6.42.198.179|      Marrom|        Telegrafista|21 0155 0726|2101550726|\n",
       "|957.102.438-41|  calebe52@ig.com.br|3VGXSE)t!6|        1993-04-24|    SE|   2023-01-07| 218.214.242.30|        Roxo|Profissional De C...|11 0384 7507|1103847507|\n",
       "|306.481.975-57|ana-juliaaraujo@u...|Vur0uW9xA*|        1936-07-28|    PI|   2023-03-02|  120.103.76.29|      Branco|        Biotecnólogo|11 7920 2821|1179202821|\n",
       "|731.602.589-12|castromirella@yah...|z9qQ0X_m%@|        1935-04-06|    SC|   2023-01-24| 125.137.127.84|       Ciano|Cortador De Cana-...|21 1503 8540|2115038540|\n",
       "|983.521.760-21|davi-lucas45@bol....|uaWqUFiV_4|        1946-07-13|    PI|   2023-03-10|  1.122.154.219|        Roxo|         Ortopedista|11 1709 2950|1117092950|\n",
       "|172.690.485-76|    csouza@ig.com.br|&*4(B%z$dd|        1979-09-03|    DF|   2023-02-03|  165.88.248.55|      Branco|  Cientista Político|11 9349 7217|1193497217|\n",
       "|652.439.807-65|  luiza17@bol.com.br|^c40dFYUq3|        2020-08-28|    RN|   2023-02-07|  223.81.136.76|     Laranja|         Carpinteiro|21 3405 8122|2134058122|\n",
       "|139.758.240-50|danilo36@hotmail.com|_AUlAa*b3A|        1956-05-29|    PB|   2023-02-23|   94.189.215.1|        Roxo|          Flanelinha|21 4367 0610|2143670610|\n",
       "|130.298.476-40| arezende@uol.com.br|#W9^XgvTyR|        2017-09-02|    MA|   2023-03-01|129.103.171.217|        Rosa|            Pediatra|21 3144 7568|2131447568|\n",
       "+--------------+--------------------+----------+------------------+------+-------------+---------------+------------+--------------------+------------+----------+"
      ]
     },
     "execution_count": 24,
     "metadata": {},
     "output_type": "execute_result"
    }
   ],
   "source": [
    "# Retornando campos Null e not null\n",
    "(\n",
    "    df\n",
    "    .withColumn('tel', F.regexp_replace(F.col('telefone'), ' ','').cast('int'))\n",
    "    # .where(F.col('tel').isin('SP', 'RJ'))\n",
    "    .where(~F.col('tel').isNull()) # o ~ serve para negar, ou seja, ele retorna os campos que nao tem o valor null\n",
    ")"
   ]
  }
 ],
 "metadata": {
  "kernelspec": {
   "display_name": ".venv",
   "language": "python",
   "name": "python3"
  },
  "language_info": {
   "codemirror_mode": {
    "name": "ipython",
    "version": 3
   },
   "file_extension": ".py",
   "mimetype": "text/x-python",
   "name": "python",
   "nbconvert_exporter": "python",
   "pygments_lexer": "ipython3",
   "version": "3.12.4"
  }
 },
 "nbformat": 4,
 "nbformat_minor": 5
}
