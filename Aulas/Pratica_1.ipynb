{
 "cells": [
  {
   "cell_type": "code",
   "execution_count": 1,
   "id": "7beb2876",
   "metadata": {},
   "outputs": [],
   "source": [
    "from pyspark.sql import SparkSession\n",
    "import pyspark.sql.functions as F\n",
    "\n",
    "spark = (\n",
    "    SparkSession.builder.appName(\"pyspark_aula_04\")\n",
    "    .config(\"spark.sql.repl.eagerEval.enabled\", True)\n",
    "    .getOrCreate()\n",
    ")\n",
    "\n",
    "df = spark.read.csv(\"./desafio/titanic.csv\", sep=',', header=True)"
   ]
  },
  {
   "cell_type": "code",
   "execution_count": 24,
   "id": "419fb063",
   "metadata": {},
   "outputs": [
    {
     "data": {
      "text/html": [
       "<table border='1'>\n",
       "<tr><th>PassengerId</th><th>Survived</th><th>Pclass</th><th>Name</th><th>Sex</th><th>Age</th><th>SibSp</th><th>Parch</th><th>Ticket</th><th>Fare</th><th>Cabin</th><th>Embarked</th></tr>\n",
       "<tr><td>1</td><td>0</td><td>3</td><td>Braund, Mr. Owen ...</td><td>male</td><td>22</td><td>1</td><td>0</td><td>A/5 21171</td><td>7.25</td><td>null</td><td>S</td></tr>\n",
       "<tr><td>2</td><td>1</td><td>1</td><td>Cumings, Mrs. Joh...</td><td>female</td><td>38</td><td>1</td><td>0</td><td>PC 17599</td><td>71.2833</td><td>C85</td><td>C</td></tr>\n",
       "<tr><td>3</td><td>1</td><td>3</td><td>Heikkinen, Miss. ...</td><td>female</td><td>26</td><td>0</td><td>0</td><td>STON/O2. 3101282</td><td>7.925</td><td>null</td><td>S</td></tr>\n",
       "<tr><td>4</td><td>1</td><td>1</td><td>Futrelle, Mrs. Ja...</td><td>female</td><td>35</td><td>1</td><td>0</td><td>113803</td><td>53.1</td><td>C123</td><td>S</td></tr>\n",
       "<tr><td>5</td><td>0</td><td>3</td><td>Allen, Mr. Willia...</td><td>male</td><td>35</td><td>0</td><td>0</td><td>373450</td><td>8.05</td><td>null</td><td>S</td></tr>\n",
       "</table>\n"
      ],
      "text/plain": [
       "+-----------+--------+------+--------------------+------+---+-----+-----+----------------+-------+-----+--------+\n",
       "|PassengerId|Survived|Pclass|                Name|   Sex|Age|SibSp|Parch|          Ticket|   Fare|Cabin|Embarked|\n",
       "+-----------+--------+------+--------------------+------+---+-----+-----+----------------+-------+-----+--------+\n",
       "|          1|       0|     3|Braund, Mr. Owen ...|  male| 22|    1|    0|       A/5 21171|   7.25| null|       S|\n",
       "|          2|       1|     1|Cumings, Mrs. Joh...|female| 38|    1|    0|        PC 17599|71.2833|  C85|       C|\n",
       "|          3|       1|     3|Heikkinen, Miss. ...|female| 26|    0|    0|STON/O2. 3101282|  7.925| null|       S|\n",
       "|          4|       1|     1|Futrelle, Mrs. Ja...|female| 35|    1|    0|          113803|   53.1| C123|       S|\n",
       "|          5|       0|     3|Allen, Mr. Willia...|  male| 35|    0|    0|          373450|   8.05| null|       S|\n",
       "+-----------+--------+------+--------------------+------+---+-----+-----+----------------+-------+-----+--------+"
      ]
     },
     "execution_count": 24,
     "metadata": {},
     "output_type": "execute_result"
    }
   ],
   "source": [
    "df.limit(5)"
   ]
  },
  {
   "cell_type": "code",
   "execution_count": 34,
   "id": "7eac77f6",
   "metadata": {},
   "outputs": [
    {
     "data": {
      "text/plain": [
       "891"
      ]
     },
     "execution_count": 34,
     "metadata": {},
     "output_type": "execute_result"
    }
   ],
   "source": [
    "total_registros = df.count()\n",
    "total_registros"
   ]
  },
  {
   "cell_type": "code",
   "execution_count": 25,
   "id": "1ef70f4d",
   "metadata": {},
   "outputs": [
    {
     "data": {
      "text/plain": [
       "342"
      ]
     },
     "execution_count": 25,
     "metadata": {},
     "output_type": "execute_result"
    }
   ],
   "source": [
    "total_sobreviventes = df.filter(F.col('Survived') == 1).count()\n",
    "total_sobreviventes"
   ]
  },
  {
   "cell_type": "code",
   "execution_count": 14,
   "id": "dddeafa7",
   "metadata": {},
   "outputs": [
    {
     "data": {
      "text/plain": [
       "38.34080717488789"
      ]
     },
     "execution_count": 14,
     "metadata": {},
     "output_type": "execute_result"
    }
   ],
   "source": [
    "proporcao_sobreviventes = (total_sobreviventes / total_registros)*100\n",
    "proporcao_sobreviventes"
   ]
  },
  {
   "cell_type": "code",
   "execution_count": 29,
   "id": "46f76cc6",
   "metadata": {},
   "outputs": [
    {
     "data": {
      "text/plain": [
       "Row(avg(Age)=30.62617924528302)"
      ]
     },
     "execution_count": 29,
     "metadata": {},
     "output_type": "execute_result"
    }
   ],
   "source": [
    "media_idade_nao_sobreviventes = df.filter(F.col('Survived') == 0).select(F.avg('Age')).collect()[0]\n",
    "media_idade_nao_sobreviventes"
   ]
  },
  {
   "cell_type": "code",
   "execution_count": 7,
   "id": "caac5d71",
   "metadata": {},
   "outputs": [
    {
     "data": {
      "text/plain": [
       "119"
      ]
     },
     "execution_count": 7,
     "metadata": {},
     "output_type": "execute_result"
    }
   ],
   "source": [
    "a = df.filter((F.col('Pclass') == 3) & (F.col('Survived')==1)).count()\n",
    "a\n",
    "\n",
    "# Passageiros_3_classe_sobreviveram = df.filter(F.col('Survived') == 1).select(F.col('Pclass') == 3).count()\n",
    "# Passageiros_3_classe_sobreviveram"
   ]
  },
  {
   "cell_type": "code",
   "execution_count": 32,
   "id": "883e5037",
   "metadata": {},
   "outputs": [
    {
     "data": {
      "text/plain": [
       "74.20382165605095"
      ]
     },
     "execution_count": 32,
     "metadata": {},
     "output_type": "execute_result"
    }
   ],
   "source": [
    "total_mulheres = df.filter(F.col('Sex') == 'female').count()\n",
    "mulheres_sobrevivente = df.filter((F.col('Survived') == 1) & (F.col('Sex') == 'female')).count()\n",
    "\n",
    "proporcao_mulhers_sobreviventes = (mulheres_sobrevivente / total_mulheres)*100\n",
    "proporcao_mulhers_sobreviventes"
   ]
  },
  {
   "cell_type": "code",
   "execution_count": 33,
   "id": "d320930f",
   "metadata": {},
   "outputs": [
    {
     "data": {
      "text/plain": [
       "Row(avg(Fare)=48.39540760233917)"
      ]
     },
     "execution_count": 33,
     "metadata": {},
     "output_type": "execute_result"
    }
   ],
   "source": [
    "#Preço medio de passagens\n",
    "\n",
    "preco_medio_passagem = df.filter(F.col('Survived') == 1).select(F.avg('Fare')).collect()[0]\n",
    "preco_medio_passagem"
   ]
  },
  {
   "cell_type": "code",
   "execution_count": 40,
   "id": "4770e2d6",
   "metadata": {},
   "outputs": [
    {
     "data": {
      "text/plain": [
       "64.75869809203144"
      ]
     },
     "execution_count": 40,
     "metadata": {},
     "output_type": "execute_result"
    }
   ],
   "source": [
    "# Proporção de passageiros do sexo masculino\n",
    "\n",
    "proporcao_de_homens = df.filter(F.col('sex') == 'male').count()\n",
    "proporcao_de_homens = (proporcao_de_homens/total_registros) * 100\n",
    "proporcao_de_homens\n"
   ]
  },
  {
   "cell_type": "code",
   "execution_count": 8,
   "id": "d7b5bb0f",
   "metadata": {},
   "outputs": [
    {
     "data": {
      "text/plain": [
       "24.236252545824847"
      ]
     },
     "execution_count": 8,
     "metadata": {},
     "output_type": "execute_result"
    }
   ],
   "source": [
    "total_passageiros_3_classe = df.filter(F.col('Pclass') == 3).count()\n",
    "Passageiros_3_classe_sobreviveram = df.filter((F.col('Survived') == 1) & (F.col('Pclass') == 3)).count()\n",
    "\n",
    "proporcao_3_classe_sobreviventes = (Passageiros_3_classe_sobreviveram / total_passageiros_3_classe)*100\n",
    "proporcao_3_classe_sobreviventes\n"
   ]
  },
  {
   "cell_type": "code",
   "execution_count": null,
   "id": "91c0c344",
   "metadata": {},
   "outputs": [],
   "source": [
    "media_idade_nao_sobreviventes = df.filter(F.col('Survived') == 0).select(F.avg('Age')).collect()[0]\n",
    "media_idade_nao_sobreviventes"
   ]
  },
  {
   "cell_type": "code",
   "execution_count": 9,
   "id": "a9230dbd",
   "metadata": {},
   "outputs": [],
   "source": [
    "df = spark.read.csv(\"./desafio/Mall_Customers.csv\", sep=',', header=True)"
   ]
  },
  {
   "cell_type": "code",
   "execution_count": 10,
   "id": "b16e8810",
   "metadata": {},
   "outputs": [
    {
     "data": {
      "text/html": [
       "<table border='1'>\n",
       "<tr><th>CustomerID</th><th>Gender</th><th>Age</th><th>Annual Income (k$)</th><th>Spending Score (1-100)</th></tr>\n",
       "<tr><td>1</td><td>Male</td><td>19</td><td>15</td><td>39</td></tr>\n",
       "<tr><td>2</td><td>Male</td><td>21</td><td>15</td><td>81</td></tr>\n",
       "<tr><td>3</td><td>Female</td><td>20</td><td>16</td><td>6</td></tr>\n",
       "<tr><td>4</td><td>Female</td><td>23</td><td>16</td><td>77</td></tr>\n",
       "<tr><td>5</td><td>Female</td><td>31</td><td>17</td><td>40</td></tr>\n",
       "<tr><td>6</td><td>Female</td><td>22</td><td>17</td><td>76</td></tr>\n",
       "<tr><td>7</td><td>Female</td><td>35</td><td>18</td><td>6</td></tr>\n",
       "<tr><td>8</td><td>Female</td><td>23</td><td>18</td><td>94</td></tr>\n",
       "<tr><td>9</td><td>Male</td><td>64</td><td>19</td><td>3</td></tr>\n",
       "<tr><td>10</td><td>Female</td><td>30</td><td>19</td><td>72</td></tr>\n",
       "<tr><td>11</td><td>Male</td><td>67</td><td>19</td><td>14</td></tr>\n",
       "<tr><td>12</td><td>Female</td><td>35</td><td>19</td><td>99</td></tr>\n",
       "<tr><td>13</td><td>Female</td><td>58</td><td>20</td><td>15</td></tr>\n",
       "<tr><td>14</td><td>Female</td><td>24</td><td>20</td><td>77</td></tr>\n",
       "<tr><td>15</td><td>Male</td><td>37</td><td>20</td><td>13</td></tr>\n",
       "<tr><td>16</td><td>Male</td><td>22</td><td>20</td><td>79</td></tr>\n",
       "<tr><td>17</td><td>Female</td><td>35</td><td>21</td><td>35</td></tr>\n",
       "<tr><td>18</td><td>Male</td><td>20</td><td>21</td><td>66</td></tr>\n",
       "<tr><td>19</td><td>Male</td><td>52</td><td>23</td><td>29</td></tr>\n",
       "<tr><td>20</td><td>Female</td><td>35</td><td>23</td><td>98</td></tr>\n",
       "</table>\n",
       "only showing top 20 rows\n"
      ],
      "text/plain": [
       "+----------+------+---+------------------+----------------------+\n",
       "|CustomerID|Gender|Age|Annual Income (k$)|Spending Score (1-100)|\n",
       "+----------+------+---+------------------+----------------------+\n",
       "|         1|  Male| 19|                15|                    39|\n",
       "|         2|  Male| 21|                15|                    81|\n",
       "|         3|Female| 20|                16|                     6|\n",
       "|         4|Female| 23|                16|                    77|\n",
       "|         5|Female| 31|                17|                    40|\n",
       "|         6|Female| 22|                17|                    76|\n",
       "|         7|Female| 35|                18|                     6|\n",
       "|         8|Female| 23|                18|                    94|\n",
       "|         9|  Male| 64|                19|                     3|\n",
       "|        10|Female| 30|                19|                    72|\n",
       "|        11|  Male| 67|                19|                    14|\n",
       "|        12|Female| 35|                19|                    99|\n",
       "|        13|Female| 58|                20|                    15|\n",
       "|        14|Female| 24|                20|                    77|\n",
       "|        15|  Male| 37|                20|                    13|\n",
       "|        16|  Male| 22|                20|                    79|\n",
       "|        17|Female| 35|                21|                    35|\n",
       "|        18|  Male| 20|                21|                    66|\n",
       "|        19|  Male| 52|                23|                    29|\n",
       "|        20|Female| 35|                23|                    98|\n",
       "+----------+------+---+------------------+----------------------+\n",
       "only showing top 20 rows"
      ]
     },
     "execution_count": 10,
     "metadata": {},
     "output_type": "execute_result"
    }
   ],
   "source": [
    "df"
   ]
  },
  {
   "cell_type": "code",
   "execution_count": 14,
   "id": "ac76ecec",
   "metadata": {},
   "outputs": [
    {
     "data": {
      "text/plain": [
       "Row(avg(Age)=38.85)"
      ]
     },
     "execution_count": 14,
     "metadata": {},
     "output_type": "execute_result"
    }
   ],
   "source": [
    "media_idade = df.select(F.avg('Age')).collect()[0]\n",
    "media_idade\n"
   ]
  },
  {
   "cell_type": "code",
   "execution_count": 16,
   "id": "15cb8669",
   "metadata": {},
   "outputs": [
    {
     "data": {
      "text/plain": [
       "112"
      ]
     },
     "execution_count": 16,
     "metadata": {},
     "output_type": "execute_result"
    }
   ],
   "source": [
    "quantidade_mulheres = df.filter(F.col('Gender') == 'Female').count()\n",
    "quantidade_mulheres"
   ]
  },
  {
   "cell_type": "code",
   "execution_count": 17,
   "id": "b8a9a128",
   "metadata": {},
   "outputs": [
    {
     "data": {
      "text/plain": [
       "Row(avg(Annual Income (k$))=60.56)"
      ]
     },
     "execution_count": 17,
     "metadata": {},
     "output_type": "execute_result"
    }
   ],
   "source": [
    "renda_anual = df.select(F.avg('Annual Income (k$)')).collect()[0]\n",
    "renda_anual"
   ]
  },
  {
   "cell_type": "code",
   "execution_count": 19,
   "id": "b16e9e7f",
   "metadata": {},
   "outputs": [
    {
     "data": {
      "text/plain": [
       "Row(stddev_samp(Age)=13.96900733155888)"
      ]
     },
     "execution_count": 19,
     "metadata": {},
     "output_type": "execute_result"
    }
   ],
   "source": [
    "desvio_padrao = df.select(F.stddev('Age')).collect()[0]\n",
    "desvio_padrao"
   ]
  },
  {
   "cell_type": "code",
   "execution_count": 20,
   "id": "3066c45b",
   "metadata": {},
   "outputs": [
    {
     "data": {
      "text/plain": [
       "38"
      ]
     },
     "execution_count": 20,
     "metadata": {},
     "output_type": "execute_result"
    }
   ],
   "source": [
    "renda_superior_80 = df.filter(F.col('Annual Income (k$)') > 80).count()\n",
    "renda_superior_80"
   ]
  },
  {
   "cell_type": "code",
   "execution_count": 22,
   "id": "a150e904",
   "metadata": {},
   "outputs": [
    {
     "data": {
      "text/plain": [
       "'42'"
      ]
     },
     "execution_count": 22,
     "metadata": {},
     "output_type": "execute_result"
    }
   ],
   "source": [
    "df_moda = df.groupBy(\"Spending Score (1-100)\").count()\n",
    "moda = df_moda.orderBy(F.desc(\"count\")).first()[\"Spending Score (1-100)\"]\n",
    "moda"
   ]
  }
 ],
 "metadata": {
  "kernelspec": {
   "display_name": ".venv",
   "language": "python",
   "name": "python3"
  },
  "language_info": {
   "codemirror_mode": {
    "name": "ipython",
    "version": 3
   },
   "file_extension": ".py",
   "mimetype": "text/x-python",
   "name": "python",
   "nbconvert_exporter": "python",
   "pygments_lexer": "ipython3",
   "version": "3.12.4"
  }
 },
 "nbformat": 4,
 "nbformat_minor": 5
}
