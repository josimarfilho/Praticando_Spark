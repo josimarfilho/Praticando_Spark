{
 "cells": [
  {
   "cell_type": "code",
   "execution_count": 2,
   "id": "5c90a3f7",
   "metadata": {},
   "outputs": [],
   "source": [
    "from pyspark.sql import SparkSession\n",
    "import pyspark.sql.functions as F\n",
    "\n",
    "spark = (\n",
    "    SparkSession.builder.appName(\"pyspark_aula_07\")\n",
    "    .config(\"spark.sql.repl.eagerEval.enabled\", True)\n",
    "    .getOrCreate()\n",
    ")\n",
    "\n",
    "df = spark.read.parquet(\"./bases/LOGINS.parquet\")\n"
   ]
  },
  {
   "cell_type": "code",
   "execution_count": null,
   "id": "66b80d89",
   "metadata": {},
   "outputs": [],
   "source": [
    "df = df.withColumn('num', F.dayofmonth(df.data_de_nascimento))"
   ]
  },
  {
   "cell_type": "code",
   "execution_count": 13,
   "id": "c8bd95ae",
   "metadata": {},
   "outputs": [
    {
     "data": {
      "text/html": [
       "<table border='1'>\n",
       "<tr><th>cor_favorita</th><th>count(1)</th><th>sum(num)</th><th>avg(num)</th></tr>\n",
       "<tr><td>Preto</td><td>57</td><td>893</td><td>15.666666666666666</td></tr>\n",
       "<tr><td>Violeta</td><td>47</td><td>773</td><td>16.4468085106383</td></tr>\n",
       "<tr><td>Rosa</td><td>81</td><td>1146</td><td>14.148148148148149</td></tr>\n",
       "<tr><td>Marrom</td><td>62</td><td>916</td><td>14.774193548387096</td></tr>\n",
       "<tr><td>Ciano</td><td>59</td><td>1085</td><td>18.389830508474578</td></tr>\n",
       "<tr><td>Laranja</td><td>53</td><td>956</td><td>18.037735849056602</td></tr>\n",
       "<tr><td>Azul</td><td>76</td><td>1295</td><td>17.039473684210527</td></tr>\n",
       "<tr><td>Verde Claro</td><td>66</td><td>1179</td><td>17.863636363636363</td></tr>\n",
       "<tr><td>Roxo</td><td>64</td><td>1025</td><td>16.015625</td></tr>\n",
       "<tr><td>Branco</td><td>66</td><td>1085</td><td>16.439393939393938</td></tr>\n",
       "<tr><td>Verde Escuro</td><td>65</td><td>1103</td><td>16.96923076923077</td></tr>\n",
       "<tr><td>Azul Escuro</td><td>62</td><td>1042</td><td>16.806451612903224</td></tr>\n",
       "<tr><td>Verde</td><td>53</td><td>858</td><td>16.18867924528302</td></tr>\n",
       "<tr><td>Magenta</td><td>54</td><td>935</td><td>17.314814814814813</td></tr>\n",
       "<tr><td>Cinza</td><td>75</td><td>1208</td><td>16.106666666666666</td></tr>\n",
       "<tr><td>Amarelo</td><td>60</td><td>828</td><td>13.8</td></tr>\n",
       "</table>\n"
      ],
      "text/plain": [
       "+------------+--------+--------+------------------+\n",
       "|cor_favorita|count(1)|sum(num)|          avg(num)|\n",
       "+------------+--------+--------+------------------+\n",
       "|       Preto|      57|     893|15.666666666666666|\n",
       "|     Violeta|      47|     773|  16.4468085106383|\n",
       "|        Rosa|      81|    1146|14.148148148148149|\n",
       "|      Marrom|      62|     916|14.774193548387096|\n",
       "|       Ciano|      59|    1085|18.389830508474578|\n",
       "|     Laranja|      53|     956|18.037735849056602|\n",
       "|        Azul|      76|    1295|17.039473684210527|\n",
       "| Verde Claro|      66|    1179|17.863636363636363|\n",
       "|        Roxo|      64|    1025|         16.015625|\n",
       "|      Branco|      66|    1085|16.439393939393938|\n",
       "|Verde Escuro|      65|    1103| 16.96923076923077|\n",
       "| Azul Escuro|      62|    1042|16.806451612903224|\n",
       "|       Verde|      53|     858| 16.18867924528302|\n",
       "|     Magenta|      54|     935|17.314814814814813|\n",
       "|       Cinza|      75|    1208|16.106666666666666|\n",
       "|     Amarelo|      60|     828|              13.8|\n",
       "+------------+--------+--------+------------------+"
      ]
     },
     "execution_count": 13,
     "metadata": {},
     "output_type": "execute_result"
    }
   ],
   "source": [
    "df.groupBy('cor_favorita').agg(F.count('*'), F.sum('num'), F.avg('num'))"
   ]
  }
 ],
 "metadata": {
  "kernelspec": {
   "display_name": ".venv",
   "language": "python",
   "name": "python3"
  },
  "language_info": {
   "codemirror_mode": {
    "name": "ipython",
    "version": 3
   },
   "file_extension": ".py",
   "mimetype": "text/x-python",
   "name": "python",
   "nbconvert_exporter": "python",
   "pygments_lexer": "ipython3",
   "version": "3.12.4"
  }
 },
 "nbformat": 4,
 "nbformat_minor": 5
}
