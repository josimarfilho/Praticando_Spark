{
 "cells": [
  {
   "cell_type": "code",
   "execution_count": 1,
   "id": "dfd4afcc",
   "metadata": {},
   "outputs": [],
   "source": [
    "from pyspark.sql import SparkSession\n",
    "import pyspark.sql.functions as F\n",
    "\n",
    "spark = (\n",
    "    SparkSession.builder.appName(\"pyspark_aula_07\")\n",
    "    .config(\"spark.sql.repl.eagerEval.enabled\", True)\n",
    "    .getOrCreate()\n",
    ")"
   ]
  },
  {
   "cell_type": "code",
   "execution_count": null,
   "id": "f19ccafc",
   "metadata": {},
   "outputs": [],
   "source": [
    "autores = spark.read.parquet(\"./bases/AUTORES.parquet\")\n",
    "\n",
    "livros = spark.read.parquet(\"./bases/LIVROS.parquet\")\n",
    "\n",
    "clientes = spark.read.parquet(\"./bases/CLIENTES.parquet\")\n",
    "\n",
    "compras = spark.read.parquet(\"./bases/COMPRAS.parquet\")"
   ]
  },
  {
   "cell_type": "markdown",
   "id": "48318b63",
   "metadata": {},
   "source": [
    "# Realizando JOINs"
   ]
  },
  {
   "cell_type": "code",
   "execution_count": null,
   "id": "ea742c6d",
   "metadata": {},
   "outputs": [],
   "source": [
    "# LEFT JOIN\n",
    "# autores.join(other=livros, on='id', how='left')\n",
    "\n",
    "# RIGHT JOIN\n",
    "# autores.join(other=livros, on='id', how='right')\n",
    "\n",
    "# INNER JOIN\n",
    "# autores.join(other=livros, on=['id'], how='inner')\n",
    "\n",
    "# compras.join(other=livros, on=compras.cd_livro == livros.id, how='inner')\n",
    "\n",
    "#Podemos otimizar o codigo da seguinte forma\n",
    "compras.join(livros, compras.cd_livro == livros.id, 'inner')\n",
    "\n",
    "\n"
   ]
  },
  {
   "cell_type": "code",
   "execution_count": 20,
   "id": "576d0bd7",
   "metadata": {},
   "outputs": [
    {
     "data": {
      "text/html": [
       "<table border='1'>\n",
       "<tr><th>id</th><th>cartao_data_expiracao</th><th>cartao_numero</th><th>cartao_bandeira</th><th>cartao_cvc</th><th>codigo_transacao_bancaria</th><th>data</th><th>hora</th><th>ipv4</th><th>ipv6</th><th>cep_entrega</th><th>cd_livro</th><th>cd_cliente</th><th>id</th><th>cnpj_editora</th><th>data_lancamento</th><th>ean</th><th>isbn10</th><th>numero_paginas</th><th>preco</th></tr>\n",
       "<tr><td>012478</td><td>07/23</td><td>30072722359174</td><td>American Express</td><td>689</td><td>GB51SZOU538484531...</td><td>2020-01-27</td><td>17:08:10</td><td>40.179.153.24</td><td>9bcd:ee0c:af68:33...</td><td>25921298</td><td>019458805</td><td>8703114</td><td>102961160</td><td>54.317.982/0001-79</td><td>2011-09-19</td><td>4367115749184</td><td>0-06-594558-1</td><td>516</td><td>113.84</td></tr>\n",
       "<tr><td>012478</td><td>07/23</td><td>30072722359174</td><td>American Express</td><td>689</td><td>GB51SZOU538484531...</td><td>2020-01-27</td><td>17:08:10</td><td>40.179.153.24</td><td>9bcd:ee0c:af68:33...</td><td>25921298</td><td>019458805</td><td>8703114</td><td>043636240</td><td>16.938.042/0001-08</td><td>2019-05-11</td><td>1239569754256</td><td>0-611-23680-X</td><td>371</td><td>207.67</td></tr>\n",
       "<tr><td>012478</td><td>07/23</td><td>30072722359174</td><td>American Express</td><td>689</td><td>GB51SZOU538484531...</td><td>2020-01-27</td><td>17:08:10</td><td>40.179.153.24</td><td>9bcd:ee0c:af68:33...</td><td>25921298</td><td>019458805</td><td>8703114</td><td>052928059</td><td>57.624.038/0001-52</td><td>2003-08-03</td><td>5462162528221</td><td>1-109-29542-1</td><td>198</td><td>107.89</td></tr>\n",
       "<tr><td>012478</td><td>07/23</td><td>30072722359174</td><td>American Express</td><td>689</td><td>GB51SZOU538484531...</td><td>2020-01-27</td><td>17:08:10</td><td>40.179.153.24</td><td>9bcd:ee0c:af68:33...</td><td>25921298</td><td>019458805</td><td>8703114</td><td>088482271</td><td>16.249.378/0001-63</td><td>2022-09-07</td><td>5713629047213</td><td>1-229-68842-0</td><td>632</td><td>143.95</td></tr>\n",
       "<tr><td>012478</td><td>07/23</td><td>30072722359174</td><td>American Express</td><td>689</td><td>GB51SZOU538484531...</td><td>2020-01-27</td><td>17:08:10</td><td>40.179.153.24</td><td>9bcd:ee0c:af68:33...</td><td>25921298</td><td>019458805</td><td>8703114</td><td>028125446</td><td>90.425.178/0001-77</td><td>2011-07-25</td><td>2226757040245</td><td>0-657-66391-3</td><td>384</td><td>156.49</td></tr>\n",
       "<tr><td>012478</td><td>07/23</td><td>30072722359174</td><td>American Express</td><td>689</td><td>GB51SZOU538484531...</td><td>2020-01-27</td><td>17:08:10</td><td>40.179.153.24</td><td>9bcd:ee0c:af68:33...</td><td>25921298</td><td>019458805</td><td>8703114</td><td>055610005</td><td>20.756.194/0001-67</td><td>2006-03-22</td><td>2114468195241</td><td>0-455-43278-3</td><td>419</td><td>37.08</td></tr>\n",
       "<tr><td>012478</td><td>07/23</td><td>30072722359174</td><td>American Express</td><td>689</td><td>GB51SZOU538484531...</td><td>2020-01-27</td><td>17:08:10</td><td>40.179.153.24</td><td>9bcd:ee0c:af68:33...</td><td>25921298</td><td>019458805</td><td>8703114</td><td>049806867</td><td>93.617.240/0001-10</td><td>2022-02-17</td><td>3166123637398</td><td>1-4822-8784-6</td><td>378</td><td>162.97</td></tr>\n",
       "<tr><td>012478</td><td>07/23</td><td>30072722359174</td><td>American Express</td><td>689</td><td>GB51SZOU538484531...</td><td>2020-01-27</td><td>17:08:10</td><td>40.179.153.24</td><td>9bcd:ee0c:af68:33...</td><td>25921298</td><td>019458805</td><td>8703114</td><td>102803370</td><td>48.760.531/0001-09</td><td>2011-12-13</td><td>2550608407612</td><td>0-399-05121-X</td><td>732</td><td>75.62</td></tr>\n",
       "<tr><td>012478</td><td>07/23</td><td>30072722359174</td><td>American Express</td><td>689</td><td>GB51SZOU538484531...</td><td>2020-01-27</td><td>17:08:10</td><td>40.179.153.24</td><td>9bcd:ee0c:af68:33...</td><td>25921298</td><td>019458805</td><td>8703114</td><td>084858867</td><td>10.752.843/0001-06</td><td>2015-04-30</td><td>6207011925788</td><td>1-03-549652-6</td><td>635</td><td>237.67</td></tr>\n",
       "<tr><td>012478</td><td>07/23</td><td>30072722359174</td><td>American Express</td><td>689</td><td>GB51SZOU538484531...</td><td>2020-01-27</td><td>17:08:10</td><td>40.179.153.24</td><td>9bcd:ee0c:af68:33...</td><td>25921298</td><td>019458805</td><td>8703114</td><td>059303729</td><td>05.129.783/0001-21</td><td>2001-08-25</td><td>1641133648784</td><td>0-620-46508-5</td><td>107</td><td>61.41</td></tr>\n",
       "<tr><td>012478</td><td>07/23</td><td>30072722359174</td><td>American Express</td><td>689</td><td>GB51SZOU538484531...</td><td>2020-01-27</td><td>17:08:10</td><td>40.179.153.24</td><td>9bcd:ee0c:af68:33...</td><td>25921298</td><td>019458805</td><td>8703114</td><td>064175052</td><td>65.301.927/0001-07</td><td>2008-05-29</td><td>6905480714673</td><td>1-876722-64-9</td><td>795</td><td>85.56</td></tr>\n",
       "<tr><td>012478</td><td>07/23</td><td>30072722359174</td><td>American Express</td><td>689</td><td>GB51SZOU538484531...</td><td>2020-01-27</td><td>17:08:10</td><td>40.179.153.24</td><td>9bcd:ee0c:af68:33...</td><td>25921298</td><td>019458805</td><td>8703114</td><td>080608956</td><td>90.563.247/0001-09</td><td>2011-10-05</td><td>0332981484891</td><td>1-925760-25-1</td><td>203</td><td>107.63</td></tr>\n",
       "<tr><td>012478</td><td>07/23</td><td>30072722359174</td><td>American Express</td><td>689</td><td>GB51SZOU538484531...</td><td>2020-01-27</td><td>17:08:10</td><td>40.179.153.24</td><td>9bcd:ee0c:af68:33...</td><td>25921298</td><td>019458805</td><td>8703114</td><td>018453254</td><td>95.367.280/0001-87</td><td>2012-11-02</td><td>0507454098268</td><td>0-609-21722-4</td><td>043</td><td>52.94</td></tr>\n",
       "<tr><td>012478</td><td>07/23</td><td>30072722359174</td><td>American Express</td><td>689</td><td>GB51SZOU538484531...</td><td>2020-01-27</td><td>17:08:10</td><td>40.179.153.24</td><td>9bcd:ee0c:af68:33...</td><td>25921298</td><td>019458805</td><td>8703114</td><td>021765997</td><td>59.374.801/0001-60</td><td>2014-05-17</td><td>4743679337089</td><td>1-85580-232-5</td><td>499</td><td>143.43</td></tr>\n",
       "<tr><td>012478</td><td>07/23</td><td>30072722359174</td><td>American Express</td><td>689</td><td>GB51SZOU538484531...</td><td>2020-01-27</td><td>17:08:10</td><td>40.179.153.24</td><td>9bcd:ee0c:af68:33...</td><td>25921298</td><td>019458805</td><td>8703114</td><td>023911383</td><td>98.526.047/0001-98</td><td>2005-11-12</td><td>4165252098109</td><td>1-369-22273-4</td><td>599</td><td>121.0</td></tr>\n",
       "<tr><td>012478</td><td>07/23</td><td>30072722359174</td><td>American Express</td><td>689</td><td>GB51SZOU538484531...</td><td>2020-01-27</td><td>17:08:10</td><td>40.179.153.24</td><td>9bcd:ee0c:af68:33...</td><td>25921298</td><td>019458805</td><td>8703114</td><td>029667220</td><td>20.136.498/0001-21</td><td>2008-09-22</td><td>9813450961422</td><td>0-466-92503-4</td><td>474</td><td>175.32</td></tr>\n",
       "<tr><td>012478</td><td>07/23</td><td>30072722359174</td><td>American Express</td><td>689</td><td>GB51SZOU538484531...</td><td>2020-01-27</td><td>17:08:10</td><td>40.179.153.24</td><td>9bcd:ee0c:af68:33...</td><td>25921298</td><td>019458805</td><td>8703114</td><td>030099528</td><td>28.103.975/0001-64</td><td>2000-02-06</td><td>9164658045347</td><td>0-904222-71-3</td><td>292</td><td>208.39</td></tr>\n",
       "<tr><td>012478</td><td>07/23</td><td>30072722359174</td><td>American Express</td><td>689</td><td>GB51SZOU538484531...</td><td>2020-01-27</td><td>17:08:10</td><td>40.179.153.24</td><td>9bcd:ee0c:af68:33...</td><td>25921298</td><td>019458805</td><td>8703114</td><td>034553086</td><td>29.507.683/0001-50</td><td>2016-12-29</td><td>7318970609554</td><td>1-4989-7802-9</td><td>540</td><td>113.52</td></tr>\n",
       "<tr><td>012478</td><td>07/23</td><td>30072722359174</td><td>American Express</td><td>689</td><td>GB51SZOU538484531...</td><td>2020-01-27</td><td>17:08:10</td><td>40.179.153.24</td><td>9bcd:ee0c:af68:33...</td><td>25921298</td><td>019458805</td><td>8703114</td><td>035350343</td><td>25.491.073/0001-54</td><td>2003-11-29</td><td>7630092024962</td><td>1-957157-95-X</td><td>109</td><td>58.61</td></tr>\n",
       "<tr><td>012478</td><td>07/23</td><td>30072722359174</td><td>American Express</td><td>689</td><td>GB51SZOU538484531...</td><td>2020-01-27</td><td>17:08:10</td><td>40.179.153.24</td><td>9bcd:ee0c:af68:33...</td><td>25921298</td><td>019458805</td><td>8703114</td><td>017477529</td><td>39.507.184/0001-16</td><td>2005-09-23</td><td>5930606400018</td><td>1-393-77728-7</td><td>747</td><td>232.65</td></tr>\n",
       "</table>\n",
       "only showing top 20 rows\n"
      ],
      "text/plain": [
       "+------+---------------------+--------------+----------------+----------+-------------------------+----------+--------+-------------+--------------------+-----------+---------+----------+---------+------------------+---------------+-------------+-------------+--------------+------+\n",
       "|    id|cartao_data_expiracao| cartao_numero| cartao_bandeira|cartao_cvc|codigo_transacao_bancaria|      data|    hora|         ipv4|                ipv6|cep_entrega| cd_livro|cd_cliente|       id|      cnpj_editora|data_lancamento|          ean|       isbn10|numero_paginas| preco|\n",
       "+------+---------------------+--------------+----------------+----------+-------------------------+----------+--------+-------------+--------------------+-----------+---------+----------+---------+------------------+---------------+-------------+-------------+--------------+------+\n",
       "|012478|                07/23|30072722359174|American Express|       689|     GB51SZOU538484531...|2020-01-27|17:08:10|40.179.153.24|9bcd:ee0c:af68:33...|   25921298|019458805|   8703114|102961160|54.317.982/0001-79|     2011-09-19|4367115749184|0-06-594558-1|           516|113.84|\n",
       "|012478|                07/23|30072722359174|American Express|       689|     GB51SZOU538484531...|2020-01-27|17:08:10|40.179.153.24|9bcd:ee0c:af68:33...|   25921298|019458805|   8703114|043636240|16.938.042/0001-08|     2019-05-11|1239569754256|0-611-23680-X|           371|207.67|\n",
       "|012478|                07/23|30072722359174|American Express|       689|     GB51SZOU538484531...|2020-01-27|17:08:10|40.179.153.24|9bcd:ee0c:af68:33...|   25921298|019458805|   8703114|052928059|57.624.038/0001-52|     2003-08-03|5462162528221|1-109-29542-1|           198|107.89|\n",
       "|012478|                07/23|30072722359174|American Express|       689|     GB51SZOU538484531...|2020-01-27|17:08:10|40.179.153.24|9bcd:ee0c:af68:33...|   25921298|019458805|   8703114|088482271|16.249.378/0001-63|     2022-09-07|5713629047213|1-229-68842-0|           632|143.95|\n",
       "|012478|                07/23|30072722359174|American Express|       689|     GB51SZOU538484531...|2020-01-27|17:08:10|40.179.153.24|9bcd:ee0c:af68:33...|   25921298|019458805|   8703114|028125446|90.425.178/0001-77|     2011-07-25|2226757040245|0-657-66391-3|           384|156.49|\n",
       "|012478|                07/23|30072722359174|American Express|       689|     GB51SZOU538484531...|2020-01-27|17:08:10|40.179.153.24|9bcd:ee0c:af68:33...|   25921298|019458805|   8703114|055610005|20.756.194/0001-67|     2006-03-22|2114468195241|0-455-43278-3|           419| 37.08|\n",
       "|012478|                07/23|30072722359174|American Express|       689|     GB51SZOU538484531...|2020-01-27|17:08:10|40.179.153.24|9bcd:ee0c:af68:33...|   25921298|019458805|   8703114|049806867|93.617.240/0001-10|     2022-02-17|3166123637398|1-4822-8784-6|           378|162.97|\n",
       "|012478|                07/23|30072722359174|American Express|       689|     GB51SZOU538484531...|2020-01-27|17:08:10|40.179.153.24|9bcd:ee0c:af68:33...|   25921298|019458805|   8703114|102803370|48.760.531/0001-09|     2011-12-13|2550608407612|0-399-05121-X|           732| 75.62|\n",
       "|012478|                07/23|30072722359174|American Express|       689|     GB51SZOU538484531...|2020-01-27|17:08:10|40.179.153.24|9bcd:ee0c:af68:33...|   25921298|019458805|   8703114|084858867|10.752.843/0001-06|     2015-04-30|6207011925788|1-03-549652-6|           635|237.67|\n",
       "|012478|                07/23|30072722359174|American Express|       689|     GB51SZOU538484531...|2020-01-27|17:08:10|40.179.153.24|9bcd:ee0c:af68:33...|   25921298|019458805|   8703114|059303729|05.129.783/0001-21|     2001-08-25|1641133648784|0-620-46508-5|           107| 61.41|\n",
       "|012478|                07/23|30072722359174|American Express|       689|     GB51SZOU538484531...|2020-01-27|17:08:10|40.179.153.24|9bcd:ee0c:af68:33...|   25921298|019458805|   8703114|064175052|65.301.927/0001-07|     2008-05-29|6905480714673|1-876722-64-9|           795| 85.56|\n",
       "|012478|                07/23|30072722359174|American Express|       689|     GB51SZOU538484531...|2020-01-27|17:08:10|40.179.153.24|9bcd:ee0c:af68:33...|   25921298|019458805|   8703114|080608956|90.563.247/0001-09|     2011-10-05|0332981484891|1-925760-25-1|           203|107.63|\n",
       "|012478|                07/23|30072722359174|American Express|       689|     GB51SZOU538484531...|2020-01-27|17:08:10|40.179.153.24|9bcd:ee0c:af68:33...|   25921298|019458805|   8703114|018453254|95.367.280/0001-87|     2012-11-02|0507454098268|0-609-21722-4|           043| 52.94|\n",
       "|012478|                07/23|30072722359174|American Express|       689|     GB51SZOU538484531...|2020-01-27|17:08:10|40.179.153.24|9bcd:ee0c:af68:33...|   25921298|019458805|   8703114|021765997|59.374.801/0001-60|     2014-05-17|4743679337089|1-85580-232-5|           499|143.43|\n",
       "|012478|                07/23|30072722359174|American Express|       689|     GB51SZOU538484531...|2020-01-27|17:08:10|40.179.153.24|9bcd:ee0c:af68:33...|   25921298|019458805|   8703114|023911383|98.526.047/0001-98|     2005-11-12|4165252098109|1-369-22273-4|           599| 121.0|\n",
       "|012478|                07/23|30072722359174|American Express|       689|     GB51SZOU538484531...|2020-01-27|17:08:10|40.179.153.24|9bcd:ee0c:af68:33...|   25921298|019458805|   8703114|029667220|20.136.498/0001-21|     2008-09-22|9813450961422|0-466-92503-4|           474|175.32|\n",
       "|012478|                07/23|30072722359174|American Express|       689|     GB51SZOU538484531...|2020-01-27|17:08:10|40.179.153.24|9bcd:ee0c:af68:33...|   25921298|019458805|   8703114|030099528|28.103.975/0001-64|     2000-02-06|9164658045347|0-904222-71-3|           292|208.39|\n",
       "|012478|                07/23|30072722359174|American Express|       689|     GB51SZOU538484531...|2020-01-27|17:08:10|40.179.153.24|9bcd:ee0c:af68:33...|   25921298|019458805|   8703114|034553086|29.507.683/0001-50|     2016-12-29|7318970609554|1-4989-7802-9|           540|113.52|\n",
       "|012478|                07/23|30072722359174|American Express|       689|     GB51SZOU538484531...|2020-01-27|17:08:10|40.179.153.24|9bcd:ee0c:af68:33...|   25921298|019458805|   8703114|035350343|25.491.073/0001-54|     2003-11-29|7630092024962|1-957157-95-X|           109| 58.61|\n",
       "|012478|                07/23|30072722359174|American Express|       689|     GB51SZOU538484531...|2020-01-27|17:08:10|40.179.153.24|9bcd:ee0c:af68:33...|   25921298|019458805|   8703114|017477529|39.507.184/0001-16|     2005-09-23|5930606400018|1-393-77728-7|           747|232.65|\n",
       "+------+---------------------+--------------+----------------+----------+-------------------------+----------+--------+-------------+--------------------+-----------+---------+----------+---------+------------------+---------------+-------------+-------------+--------------+------+\n",
       "only showing top 20 rows"
      ]
     },
     "execution_count": 20,
     "metadata": {},
     "output_type": "execute_result"
    }
   ],
   "source": [
    "cond = [(compras.cd_livro == livros.id) & (livros.preco < 20) | (compras.cartao_bandeira == 'American Express')]\n",
    "\n",
    "compras.join(livros, cond, 'inner')"
   ]
  },
  {
   "cell_type": "markdown",
   "id": "45581a28",
   "metadata": {},
   "source": [
    "# Testando outros tipos de Joins"
   ]
  },
  {
   "cell_type": "code",
   "execution_count": 23,
   "id": "b528a8de",
   "metadata": {},
   "outputs": [
    {
     "data": {
      "text/html": [
       "<table border='1'>\n",
       "<tr><th>id</th><th>titulo</th><th>autor</th></tr>\n",
       "<tr><td>106042959</td><td>1984 </td><td>George Orwell</td></tr>\n",
       "<tr><td>028590563</td><td>Brás, Bexiga e Ba...</td><td>Antônio de Alcânt...</td></tr>\n",
       "</table>\n"
      ],
      "text/plain": [
       "+---------+--------------------+--------------------+\n",
       "|       id|              titulo|               autor|\n",
       "+---------+--------------------+--------------------+\n",
       "|106042959|               1984 |       George Orwell|\n",
       "|028590563|Brás, Bexiga e Ba...|Antônio de Alcânt...|\n",
       "+---------+--------------------+--------------------+"
      ]
     },
     "execution_count": 23,
     "metadata": {},
     "output_type": "execute_result"
    }
   ],
   "source": [
    "df1= autores.where(autores.id.isin(['106042959', '028590563']))\n",
    "df1"
   ]
  },
  {
   "cell_type": "code",
   "execution_count": 25,
   "id": "27f39bc5",
   "metadata": {},
   "outputs": [
    {
     "data": {
      "text/html": [
       "<table border='1'>\n",
       "<tr><th>id</th><th>cnpj_editora</th><th>data_lancamento</th><th>ean</th><th>isbn10</th><th>numero_paginas</th><th>preco</th></tr>\n",
       "<tr><td>028590563</td><td>83.652.071/0001-04</td><td>2017-10-01</td><td>4098655700235</td><td>0-09-656628-0</td><td>580</td><td>18.31</td></tr>\n",
       "</table>\n"
      ],
      "text/plain": [
       "+---------+------------------+---------------+-------------+-------------+--------------+-----+\n",
       "|       id|      cnpj_editora|data_lancamento|          ean|       isbn10|numero_paginas|preco|\n",
       "+---------+------------------+---------------+-------------+-------------+--------------+-----+\n",
       "|028590563|83.652.071/0001-04|     2017-10-01|4098655700235|0-09-656628-0|           580|18.31|\n",
       "+---------+------------------+---------------+-------------+-------------+--------------+-----+"
      ]
     },
     "execution_count": 25,
     "metadata": {},
     "output_type": "execute_result"
    }
   ],
   "source": [
    "df2 = livros.where(livros.id.isin('028590563'))\n",
    "df2"
   ]
  },
  {
   "cell_type": "code",
   "execution_count": 26,
   "id": "d3b6796a",
   "metadata": {},
   "outputs": [
    {
     "data": {
      "text/html": [
       "<table border='1'>\n",
       "<tr><th>id</th><th>titulo</th><th>autor</th><th>cnpj_editora</th><th>data_lancamento</th><th>ean</th><th>isbn10</th><th>numero_paginas</th><th>preco</th></tr>\n",
       "<tr><td>028590563</td><td>Brás, Bexiga e Ba...</td><td>Antônio de Alcânt...</td><td>83.652.071/0001-04</td><td>2017-10-01</td><td>4098655700235</td><td>0-09-656628-0</td><td>580</td><td>18.31</td></tr>\n",
       "</table>\n"
      ],
      "text/plain": [
       "+---------+--------------------+--------------------+------------------+---------------+-------------+-------------+--------------+-----+\n",
       "|       id|              titulo|               autor|      cnpj_editora|data_lancamento|          ean|       isbn10|numero_paginas|preco|\n",
       "+---------+--------------------+--------------------+------------------+---------------+-------------+-------------+--------------+-----+\n",
       "|028590563|Brás, Bexiga e Ba...|Antônio de Alcânt...|83.652.071/0001-04|     2017-10-01|4098655700235|0-09-656628-0|           580|18.31|\n",
       "+---------+--------------------+--------------------+------------------+---------------+-------------+-------------+--------------+-----+"
      ]
     },
     "execution_count": 26,
     "metadata": {},
     "output_type": "execute_result"
    }
   ],
   "source": [
    "#inner join\n",
    "df1.join(df2, 'id', 'inner')"
   ]
  },
  {
   "cell_type": "code",
   "execution_count": 27,
   "id": "e64b5e33",
   "metadata": {},
   "outputs": [
    {
     "data": {
      "text/html": [
       "<table border='1'>\n",
       "<tr><th>id</th><th>titulo</th><th>autor</th><th>cnpj_editora</th><th>data_lancamento</th><th>ean</th><th>isbn10</th><th>numero_paginas</th><th>preco</th></tr>\n",
       "<tr><td>106042959</td><td>1984 </td><td>George Orwell</td><td>null</td><td>null</td><td>null</td><td>null</td><td>null</td><td>null</td></tr>\n",
       "<tr><td>028590563</td><td>Brás, Bexiga e Ba...</td><td>Antônio de Alcânt...</td><td>83.652.071/0001-04</td><td>2017-10-01</td><td>4098655700235</td><td>0-09-656628-0</td><td>580</td><td>18.31</td></tr>\n",
       "</table>\n"
      ],
      "text/plain": [
       "+---------+--------------------+--------------------+------------------+---------------+-------------+-------------+--------------+-----+\n",
       "|       id|              titulo|               autor|      cnpj_editora|data_lancamento|          ean|       isbn10|numero_paginas|preco|\n",
       "+---------+--------------------+--------------------+------------------+---------------+-------------+-------------+--------------+-----+\n",
       "|106042959|               1984 |       George Orwell|              null|           null|         null|         null|          null| null|\n",
       "|028590563|Brás, Bexiga e Ba...|Antônio de Alcânt...|83.652.071/0001-04|     2017-10-01|4098655700235|0-09-656628-0|           580|18.31|\n",
       "+---------+--------------------+--------------------+------------------+---------------+-------------+-------------+--------------+-----+"
      ]
     },
     "execution_count": 27,
     "metadata": {},
     "output_type": "execute_result"
    }
   ],
   "source": [
    "# left join\n",
    "df1.join(df2, 'id', 'left')"
   ]
  },
  {
   "cell_type": "code",
   "execution_count": 28,
   "id": "131383f4",
   "metadata": {},
   "outputs": [
    {
     "data": {
      "text/html": [
       "<table border='1'>\n",
       "<tr><th>id</th><th>titulo</th><th>autor</th><th>cnpj_editora</th><th>data_lancamento</th><th>ean</th><th>isbn10</th><th>numero_paginas</th><th>preco</th></tr>\n",
       "<tr><td>028590563</td><td>Brás, Bexiga e Ba...</td><td>Antônio de Alcânt...</td><td>83.652.071/0001-04</td><td>2017-10-01</td><td>4098655700235</td><td>0-09-656628-0</td><td>580</td><td>18.31</td></tr>\n",
       "</table>\n"
      ],
      "text/plain": [
       "+---------+--------------------+--------------------+------------------+---------------+-------------+-------------+--------------+-----+\n",
       "|       id|              titulo|               autor|      cnpj_editora|data_lancamento|          ean|       isbn10|numero_paginas|preco|\n",
       "+---------+--------------------+--------------------+------------------+---------------+-------------+-------------+--------------+-----+\n",
       "|028590563|Brás, Bexiga e Ba...|Antônio de Alcânt...|83.652.071/0001-04|     2017-10-01|4098655700235|0-09-656628-0|           580|18.31|\n",
       "+---------+--------------------+--------------------+------------------+---------------+-------------+-------------+--------------+-----+"
      ]
     },
     "execution_count": 28,
     "metadata": {},
     "output_type": "execute_result"
    }
   ],
   "source": [
    "# right join\n",
    "df1.join(df2, 'id', 'right')"
   ]
  },
  {
   "cell_type": "code",
   "execution_count": 29,
   "id": "3b77555f",
   "metadata": {},
   "outputs": [
    {
     "data": {
      "text/html": [
       "<table border='1'>\n",
       "<tr><th>id</th><th>titulo</th><th>autor</th><th>cnpj_editora</th><th>data_lancamento</th><th>ean</th><th>isbn10</th><th>numero_paginas</th><th>preco</th></tr>\n",
       "<tr><td>028590563</td><td>Brás, Bexiga e Ba...</td><td>Antônio de Alcânt...</td><td>83.652.071/0001-04</td><td>2017-10-01</td><td>4098655700235</td><td>0-09-656628-0</td><td>580</td><td>18.31</td></tr>\n",
       "<tr><td>106042959</td><td>1984 </td><td>George Orwell</td><td>null</td><td>null</td><td>null</td><td>null</td><td>null</td><td>null</td></tr>\n",
       "</table>\n"
      ],
      "text/plain": [
       "+---------+--------------------+--------------------+------------------+---------------+-------------+-------------+--------------+-----+\n",
       "|       id|              titulo|               autor|      cnpj_editora|data_lancamento|          ean|       isbn10|numero_paginas|preco|\n",
       "+---------+--------------------+--------------------+------------------+---------------+-------------+-------------+--------------+-----+\n",
       "|028590563|Brás, Bexiga e Ba...|Antônio de Alcânt...|83.652.071/0001-04|     2017-10-01|4098655700235|0-09-656628-0|           580|18.31|\n",
       "|106042959|               1984 |       George Orwell|              null|           null|         null|         null|          null| null|\n",
       "+---------+--------------------+--------------------+------------------+---------------+-------------+-------------+--------------+-----+"
      ]
     },
     "execution_count": 29,
     "metadata": {},
     "output_type": "execute_result"
    }
   ],
   "source": [
    "# full join\n",
    "df1.join(df2, 'id', 'full') "
   ]
  },
  {
   "cell_type": "code",
   "execution_count": 32,
   "id": "c95f833d",
   "metadata": {},
   "outputs": [
    {
     "data": {
      "text/html": [
       "<table border='1'>\n",
       "<tr><th>id</th><th>titulo</th><th>autor</th></tr>\n",
       "<tr><td>106042959</td><td>1984 </td><td>George Orwell</td></tr>\n",
       "</table>\n"
      ],
      "text/plain": [
       "+---------+------+-------------+\n",
       "|       id|titulo|        autor|\n",
       "+---------+------+-------------+\n",
       "|106042959| 1984 |George Orwell|\n",
       "+---------+------+-------------+"
      ]
     },
     "execution_count": 32,
     "metadata": {},
     "output_type": "execute_result"
    }
   ],
   "source": [
    "# anti join\n",
    "df1.join(df2, 'id', 'anti')"
   ]
  },
  {
   "cell_type": "code",
   "execution_count": null,
   "id": "3b99ae91",
   "metadata": {},
   "outputs": [],
   "source": []
  }
 ],
 "metadata": {
  "kernelspec": {
   "display_name": ".venv",
   "language": "python",
   "name": "python3"
  },
  "language_info": {
   "codemirror_mode": {
    "name": "ipython",
    "version": 3
   },
   "file_extension": ".py",
   "mimetype": "text/x-python",
   "name": "python",
   "nbconvert_exporter": "python",
   "pygments_lexer": "ipython3",
   "version": "3.12.4"
  }
 },
 "nbformat": 4,
 "nbformat_minor": 5
}
