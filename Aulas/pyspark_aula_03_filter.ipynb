{
 "cells": [
  {
   "cell_type": "markdown",
   "id": "76e6c82e",
   "metadata": {},
   "source": [
    "# utilizando filtros em um DataFrame"
   ]
  },
  {
   "cell_type": "code",
   "execution_count": 4,
   "id": "dab147ac",
   "metadata": {},
   "outputs": [],
   "source": [
    "from pyspark.sql import SparkSession\n",
    "\n",
    "spark = (\n",
    "    SparkSession.builder.appName(\"pyspark_aula_03\")\n",
    "    .config(\"spark.sql.repl.eagerEval.enabled\", True)\n",
    "    .getOrCreate()\n",
    ")"
   ]
  },
  {
   "cell_type": "code",
   "execution_count": null,
   "id": "eabb6b16",
   "metadata": {},
   "outputs": [],
   "source": [
    "df = spark.read.parquet(\"./bases/LOGINS.parquet\")"
   ]
  },
  {
   "cell_type": "code",
   "execution_count": 6,
   "id": "4f8d3d36",
   "metadata": {},
   "outputs": [
    {
     "data": {
      "text/html": [
       "\n",
       "            <div>\n",
       "                <p><b>SparkSession - in-memory</b></p>\n",
       "                \n",
       "        <div>\n",
       "            <p><b>SparkContext</b></p>\n",
       "\n",
       "            <p><a href=\"http://DESKTOP-5GAGVV6:4042\">Spark UI</a></p>\n",
       "\n",
       "            <dl>\n",
       "              <dt>Version</dt>\n",
       "                <dd><code>v3.3.2</code></dd>\n",
       "              <dt>Master</dt>\n",
       "                <dd><code>local[*]</code></dd>\n",
       "              <dt>AppName</dt>\n",
       "                <dd><code>pyspark_aula_03</code></dd>\n",
       "            </dl>\n",
       "        </div>\n",
       "        \n",
       "            </div>\n",
       "        "
      ],
      "text/plain": [
       "<pyspark.sql.session.SparkSession at 0x24e360e6db0>"
      ]
     },
     "execution_count": 6,
     "metadata": {},
     "output_type": "execute_result"
    }
   ],
   "source": [
    "spark"
   ]
  },
  {
   "cell_type": "code",
   "execution_count": 7,
   "id": "5162a075",
   "metadata": {},
   "outputs": [
    {
     "data": {
      "text/html": [
       "<table border='1'>\n",
       "<tr><th>cpf</th><th>email</th><th>senha</th><th>data_de_nascimento</th><th>estado</th><th>data_cadastro</th><th>ipv4</th><th>cor_favorita</th><th>profissao</th><th>telefone</th></tr>\n",
       "<tr><td>981.507.362-12</td><td>pedro-lucas53@gma...</td><td>+7^7E%xFBc</td><td>2006-12-18</td><td>RR</td><td>2023-02-26</td><td>99.107.250.210</td><td>Roxo</td><td>Jogador De Golfe</td><td>31 7785-4046</td></tr>\n",
       "<tr><td>493.705.168-75</td><td>rezendeisaac@hotm...</td><td>_O_2GRnGOe</td><td>1992-06-17</td><td>GO</td><td>2023-02-16</td><td>197.11.26.213</td><td>Ciano</td><td>Atleta De Arremes...</td><td>(031) 0803-6753</td></tr>\n",
       "<tr><td>398.471.625-73</td><td>felipepires@uol.c...</td><td>*Aw5EOAvy9</td><td>1921-11-11</td><td>MG</td><td>2023-01-02</td><td>181.90.63.58</td><td>Azul</td><td>Papiloscopista</td><td>11 9674-0553</td></tr>\n",
       "<tr><td>092.618.354-06</td><td>stellamoraes@bol....</td><td>mw0AWYAs#s</td><td>2021-06-01</td><td>AC</td><td>2023-01-08</td><td>26.121.127.94</td><td>Marrom</td><td>Aeromoça</td><td>+55 (071) 3033 9177</td></tr>\n",
       "<tr><td>509.427.136-99</td><td>wcarvalho@ig.com.br</td><td>pGD%!2Pq5X</td><td>1969-10-28</td><td>AP</td><td>2023-02-14</td><td>76.184.52.163</td><td>Laranja</td><td>Fonoaudiólogo</td><td>+55 (071) 6272 2468</td></tr>\n",
       "<tr><td>218.795.460-94</td><td>da-conceicaodavi-...</td><td>uhBbFxPA&amp;9</td><td>1986-05-19</td><td>MG</td><td>2023-03-07</td><td>192.93.0.24</td><td>Rosa</td><td>Taxista</td><td>+55 84 0652 9691</td></tr>\n",
       "<tr><td>715.836.940-48</td><td>efreitas@bol.com.br</td><td>s#q9VZt&amp;xl</td><td>2018-04-20</td><td>MG</td><td>2023-01-13</td><td>76.251.188.148</td><td>Branco</td><td>Produtor De Audio...</td><td>+55 (084) 1363 0052</td></tr>\n",
       "<tr><td>475.698.032-56</td><td>wnunes@bol.com.br</td><td>_8az1W%n7g</td><td>1996-05-12</td><td>SE</td><td>2023-02-04</td><td>139.196.176.154</td><td>Azul</td><td>Cadeirinha</td><td>(071) 1640-3388</td></tr>\n",
       "<tr><td>217.639.540-99</td><td>jribeiro@bol.com.br</td><td>MEf1X7fj_0</td><td>2021-10-05</td><td>PA</td><td>2023-03-02</td><td>71.22.224.5</td><td>Marrom</td><td>Geólogo</td><td>21 1432 4092</td></tr>\n",
       "<tr><td>261.938.750-77</td><td>murilo05@gmail.com</td><td>Te&amp;gO7GkKs</td><td>1917-01-05</td><td>MT</td><td>2023-02-21</td><td>136.54.123.165</td><td>Marrom</td><td>Técnico De Som</td><td>+55 (084) 5878-3346</td></tr>\n",
       "<tr><td>520.831.796-68</td><td>joaquim57@ig.com.br</td><td>&amp;2E1NY+ARc</td><td>1912-05-25</td><td>BA</td><td>2023-01-25</td><td>78.196.255.126</td><td>Rosa</td><td>Esteticista</td><td>41 7914-3753</td></tr>\n",
       "<tr><td>413.087.526-44</td><td>alexiada-rocha@ig...</td><td>@f@!Z!2c*2</td><td>1920-05-26</td><td>MS</td><td>2023-02-18</td><td>182.61.65.201</td><td>Laranja</td><td>Microfonista</td><td>(021) 3739-2944</td></tr>\n",
       "<tr><td>509.287.143-14</td><td>pmendes@gmail.com</td><td>M+^XDBfe(2</td><td>1938-03-11</td><td>RR</td><td>2023-01-19</td><td>61.234.208.17</td><td>Verde Claro</td><td>Fiscal</td><td>+55 (084) 5940-1932</td></tr>\n",
       "<tr><td>563.170.492-70</td><td>renan46@bol.com.br</td><td>Rp%2pVqfe$</td><td>1922-09-01</td><td>PA</td><td>2023-02-01</td><td>122.203.83.177</td><td>Verde Escuro</td><td>Contabilista</td><td>+55 41 6248 5773</td></tr>\n",
       "<tr><td>098.712.346-78</td><td>manuelada-rosa@ho...</td><td>#hEIEOztQ3</td><td>2013-01-10</td><td>SE</td><td>2023-01-07</td><td>175.18.73.211</td><td>Violeta</td><td>Seguidor De Compras</td><td>51 0278 0564</td></tr>\n",
       "<tr><td>345.709.261-34</td><td>usales@ig.com.br</td><td>b_8xaY$ozJ</td><td>1992-10-16</td><td>AM</td><td>2023-01-05</td><td>97.93.29.75</td><td>Rosa</td><td>Almirante</td><td>(084) 8993-4521</td></tr>\n",
       "<tr><td>318.254.906-51</td><td>pereiranicolas@ho...</td><td>YA9I85Wb+2</td><td>1945-11-18</td><td>MA</td><td>2023-01-24</td><td>182.195.33.137</td><td>Amarelo</td><td>Consultor De Moda</td><td>(084) 4591 3795</td></tr>\n",
       "<tr><td>610.287.453-62</td><td>cardosolivia@ig.c...</td><td>yXkDW7Ebh*</td><td>1915-11-15</td><td>GO</td><td>2023-01-22</td><td>195.194.63.184</td><td>Laranja</td><td>Barbeiro</td><td>+55 61 8967-9563</td></tr>\n",
       "<tr><td>615.790.842-49</td><td>brenda39@ig.com.br</td><td>XS$84Hpsnw</td><td>1964-02-01</td><td>RJ</td><td>2023-02-16</td><td>21.252.226.29</td><td>Branco</td><td>Promotor De Vendas</td><td>+55 (021) 4751 2004</td></tr>\n",
       "<tr><td>624.095.138-24</td><td>luizapeixoto@gmai...</td><td>TbKy82Kda$</td><td>1959-02-01</td><td>DF</td><td>2023-02-25</td><td>105.107.23.13</td><td>Ciano</td><td>Implantodontista</td><td>84 1293 1906</td></tr>\n",
       "</table>\n",
       "only showing top 20 rows\n"
      ],
      "text/plain": [
       "+--------------+--------------------+----------+------------------+------+-------------+---------------+------------+--------------------+-------------------+\n",
       "|           cpf|               email|     senha|data_de_nascimento|estado|data_cadastro|           ipv4|cor_favorita|           profissao|           telefone|\n",
       "+--------------+--------------------+----------+------------------+------+-------------+---------------+------------+--------------------+-------------------+\n",
       "|981.507.362-12|pedro-lucas53@gma...|+7^7E%xFBc|        2006-12-18|    RR|   2023-02-26| 99.107.250.210|        Roxo|    Jogador De Golfe|       31 7785-4046|\n",
       "|493.705.168-75|rezendeisaac@hotm...|_O_2GRnGOe|        1992-06-17|    GO|   2023-02-16|  197.11.26.213|       Ciano|Atleta De Arremes...|    (031) 0803-6753|\n",
       "|398.471.625-73|felipepires@uol.c...|*Aw5EOAvy9|        1921-11-11|    MG|   2023-01-02|   181.90.63.58|        Azul|      Papiloscopista|       11 9674-0553|\n",
       "|092.618.354-06|stellamoraes@bol....|mw0AWYAs#s|        2021-06-01|    AC|   2023-01-08|  26.121.127.94|      Marrom|            Aeromoça|+55 (071) 3033 9177|\n",
       "|509.427.136-99| wcarvalho@ig.com.br|pGD%!2Pq5X|        1969-10-28|    AP|   2023-02-14|  76.184.52.163|     Laranja|       Fonoaudiólogo|+55 (071) 6272 2468|\n",
       "|218.795.460-94|da-conceicaodavi-...|uhBbFxPA&9|        1986-05-19|    MG|   2023-03-07|    192.93.0.24|        Rosa|             Taxista|   +55 84 0652 9691|\n",
       "|715.836.940-48| efreitas@bol.com.br|s#q9VZt&xl|        2018-04-20|    MG|   2023-01-13| 76.251.188.148|      Branco|Produtor De Audio...|+55 (084) 1363 0052|\n",
       "|475.698.032-56|   wnunes@bol.com.br|_8az1W%n7g|        1996-05-12|    SE|   2023-02-04|139.196.176.154|        Azul|          Cadeirinha|    (071) 1640-3388|\n",
       "|217.639.540-99| jribeiro@bol.com.br|MEf1X7fj_0|        2021-10-05|    PA|   2023-03-02|    71.22.224.5|      Marrom|             Geólogo|       21 1432 4092|\n",
       "|261.938.750-77|  murilo05@gmail.com|Te&gO7GkKs|        1917-01-05|    MT|   2023-02-21| 136.54.123.165|      Marrom|      Técnico De Som|+55 (084) 5878-3346|\n",
       "|520.831.796-68| joaquim57@ig.com.br|&2E1NY+ARc|        1912-05-25|    BA|   2023-01-25| 78.196.255.126|        Rosa|         Esteticista|       41 7914-3753|\n",
       "|413.087.526-44|alexiada-rocha@ig...|@f@!Z!2c*2|        1920-05-26|    MS|   2023-02-18|  182.61.65.201|     Laranja|        Microfonista|    (021) 3739-2944|\n",
       "|509.287.143-14|   pmendes@gmail.com|M+^XDBfe(2|        1938-03-11|    RR|   2023-01-19|  61.234.208.17| Verde Claro|              Fiscal|+55 (084) 5940-1932|\n",
       "|563.170.492-70|  renan46@bol.com.br|Rp%2pVqfe$|        1922-09-01|    PA|   2023-02-01| 122.203.83.177|Verde Escuro|        Contabilista|   +55 41 6248 5773|\n",
       "|098.712.346-78|manuelada-rosa@ho...|#hEIEOztQ3|        2013-01-10|    SE|   2023-01-07|  175.18.73.211|     Violeta| Seguidor De Compras|       51 0278 0564|\n",
       "|345.709.261-34|    usales@ig.com.br|b_8xaY$ozJ|        1992-10-16|    AM|   2023-01-05|    97.93.29.75|        Rosa|           Almirante|    (084) 8993-4521|\n",
       "|318.254.906-51|pereiranicolas@ho...|YA9I85Wb+2|        1945-11-18|    MA|   2023-01-24| 182.195.33.137|     Amarelo|   Consultor De Moda|    (084) 4591 3795|\n",
       "|610.287.453-62|cardosolivia@ig.c...|yXkDW7Ebh*|        1915-11-15|    GO|   2023-01-22| 195.194.63.184|     Laranja|            Barbeiro|   +55 61 8967-9563|\n",
       "|615.790.842-49|  brenda39@ig.com.br|XS$84Hpsnw|        1964-02-01|    RJ|   2023-02-16|  21.252.226.29|      Branco|  Promotor De Vendas|+55 (021) 4751 2004|\n",
       "|624.095.138-24|luizapeixoto@gmai...|TbKy82Kda$|        1959-02-01|    DF|   2023-02-25|  105.107.23.13|       Ciano|    Implantodontista|       84 1293 1906|\n",
       "+--------------+--------------------+----------+------------------+------+-------------+---------------+------------+--------------------+-------------------+\n",
       "only showing top 20 rows"
      ]
     },
     "execution_count": 7,
     "metadata": {},
     "output_type": "execute_result"
    }
   ],
   "source": [
    "df"
   ]
  },
  {
   "cell_type": "code",
   "execution_count": 8,
   "id": "7680263e",
   "metadata": {},
   "outputs": [
    {
     "data": {
      "text/html": [
       "<table border='1'>\n",
       "<tr><th>cpf</th><th>email</th><th>senha</th><th>data_de_nascimento</th><th>estado</th><th>data_cadastro</th><th>ipv4</th><th>cor_favorita</th><th>profissao</th><th>telefone</th></tr>\n",
       "<tr><td>023.965.814-06</td><td>daniela34@ig.com.br</td><td>a6erVAf%)9</td><td>1924-10-14</td><td>PB</td><td>2023-01-03</td><td>204.207.148.123</td><td>Amarelo</td><td>Ortodontista</td><td>+55 31 5756 9535</td></tr>\n",
       "<tr><td>189.462.350-98</td><td>onunes@hotmail.com</td><td>pIKUqi2)!5</td><td>1951-05-15</td><td>PB</td><td>2023-01-11</td><td>198.91.114.111</td><td>Laranja</td><td>Político</td><td>0800-590-6357</td></tr>\n",
       "<tr><td>279.430.816-50</td><td>gmartins@bol.com.br</td><td>_d3VPWjvc2</td><td>1941-07-24</td><td>PB</td><td>2023-01-27</td><td>167.248.54.174</td><td>Azul Escuro</td><td>Tecnólogo Em Proc...</td><td>+55 21 0579-4147</td></tr>\n",
       "<tr><td>518.490.623-15</td><td>ana08@yahoo.com.br</td><td>Dg9epjTlI)</td><td>2003-10-20</td><td>PB</td><td>2023-02-02</td><td>104.37.135.232</td><td>Marrom</td><td>Skatista</td><td>+55 (021) 4307 4419</td></tr>\n",
       "<tr><td>162.047.598-76</td><td>stephany89@hotmai...</td><td>t%^1USz$DN</td><td>1944-06-16</td><td>PB</td><td>2023-02-01</td><td>68.193.32.227</td><td>Magenta</td><td>Cartunista</td><td>(071) 3336 6068</td></tr>\n",
       "<tr><td>785.469.302-10</td><td>martinsbeatriz@uo...</td><td>tn0qTo9$&amp;N</td><td>1969-09-24</td><td>PB</td><td>2023-01-05</td><td>123.135.60.13</td><td>Verde Claro</td><td>Copeiro</td><td>71 0790-7505</td></tr>\n",
       "<tr><td>672.549.308-47</td><td>sarah76@bol.com.br</td><td>V^a2T8%p)$</td><td>1912-03-17</td><td>PB</td><td>2023-03-03</td><td>4.68.100.185</td><td>Amarelo</td><td>Tecnólogo Em Proc...</td><td>51 3990 9542</td></tr>\n",
       "<tr><td>285.609.317-59</td><td>claricerocha@gmai...</td><td>aT@4HKEkUI</td><td>1964-11-21</td><td>PB</td><td>2023-03-14</td><td>29.171.64.135</td><td>Laranja</td><td>Peão De Rodeiro</td><td>+55 11 6134-3382</td></tr>\n",
       "<tr><td>295.031.768-59</td><td>piresenzo-gabriel...</td><td>I2!Te0r_#P</td><td>1958-03-28</td><td>PB</td><td>2023-01-10</td><td>94.51.224.152</td><td>Amarelo</td><td>Espeleologista</td><td>0500-415-3076</td></tr>\n",
       "<tr><td>968.031.572-02</td><td>correialeticia@ho...</td><td>F+0Gl&amp;gOLj</td><td>2015-02-19</td><td>PB</td><td>2023-01-28</td><td>137.121.8.37</td><td>Ciano</td><td>Psiquiatra</td><td>61 3171 0390</td></tr>\n",
       "<tr><td>368.250.974-74</td><td>gfernandes@ig.com.br</td><td>vlJ35Dhx+_</td><td>1946-08-30</td><td>PB</td><td>2023-03-06</td><td>39.229.21.9</td><td>Branco</td><td>Nefrologista</td><td>(081) 1668-0671</td></tr>\n",
       "<tr><td>368.290.754-83</td><td>vianalaura@bol.co...</td><td>j1YtLeOs!3</td><td>2007-08-21</td><td>PB</td><td>2023-02-03</td><td>13.48.10.2</td><td>Magenta</td><td>Engenheiro Mecatr...</td><td>21 9084 1048</td></tr>\n",
       "<tr><td>367.408.952-10</td><td>eduarda90@ig.com.br</td><td>1ZCXbqif!Q</td><td>1923-04-29</td><td>PB</td><td>2023-02-02</td><td>190.97.27.99</td><td>Rosa</td><td>Atleta De Arremes...</td><td>+55 (031) 1407 8991</td></tr>\n",
       "<tr><td>718.526.309-30</td><td>xsales@uol.com.br</td><td>8Z6q5QCzN!</td><td>1994-04-03</td><td>PB</td><td>2023-01-30</td><td>117.171.210.60</td><td>Azul Escuro</td><td>Faxineiro</td><td>+55 31 7767 7960</td></tr>\n",
       "<tr><td>735.169.048-01</td><td>fernandaviana@gma...</td><td>9tR^6Wqagl</td><td>1929-03-02</td><td>PB</td><td>2023-02-04</td><td>126.184.239.121</td><td>Azul</td><td>Tecnólogo Em Espo...</td><td>+55 (011) 8742 5441</td></tr>\n",
       "<tr><td>104.958.726-01</td><td>cunhajuliana@ig.c...</td><td>!oS3zb3&amp;t3</td><td>1938-12-09</td><td>PB</td><td>2023-02-02</td><td>159.189.154.242</td><td>Azul Escuro</td><td>Bioquímico</td><td>(061) 7110 9766</td></tr>\n",
       "<tr><td>042.185.693-98</td><td>ramosmaria-vitori...</td><td>%F4ZTe9fN@</td><td>1910-01-11</td><td>PB</td><td>2023-01-17</td><td>112.163.112.71</td><td>Azul</td><td>Toxicologista</td><td>+55 (071) 8276-0640</td></tr>\n",
       "<tr><td>759.816.034-10</td><td>sophiapinto@gmail...</td><td>!A@6AELeOV</td><td>1973-10-01</td><td>PB</td><td>2023-02-22</td><td>140.162.175.20</td><td>Amarelo</td><td>Cinematográfo</td><td>+55 61 3425-9225</td></tr>\n",
       "<tr><td>963.542.718-28</td><td>lunada-cruz@bol.c...</td><td>(Z5WkfrP$c</td><td>2000-06-13</td><td>PB</td><td>2023-01-27</td><td>129.148.149.12</td><td>Roxo</td><td>Advogado</td><td>+55 84 3978 9135</td></tr>\n",
       "<tr><td>186.942.307-04</td><td>usouza@uol.com.br</td><td>vQ0Ku@T$%I</td><td>1908-09-28</td><td>PB</td><td>2023-02-16</td><td>37.20.9.87</td><td>Magenta</td><td>Matemático</td><td>(021) 1526-5985</td></tr>\n",
       "</table>\n",
       "only showing top 20 rows\n"
      ],
      "text/plain": [
       "+--------------+--------------------+----------+------------------+------+-------------+---------------+------------+--------------------+-------------------+\n",
       "|           cpf|               email|     senha|data_de_nascimento|estado|data_cadastro|           ipv4|cor_favorita|           profissao|           telefone|\n",
       "+--------------+--------------------+----------+------------------+------+-------------+---------------+------------+--------------------+-------------------+\n",
       "|023.965.814-06| daniela34@ig.com.br|a6erVAf%)9|        1924-10-14|    PB|   2023-01-03|204.207.148.123|     Amarelo|        Ortodontista|   +55 31 5756 9535|\n",
       "|189.462.350-98|  onunes@hotmail.com|pIKUqi2)!5|        1951-05-15|    PB|   2023-01-11| 198.91.114.111|     Laranja|            Político|      0800-590-6357|\n",
       "|279.430.816-50| gmartins@bol.com.br|_d3VPWjvc2|        1941-07-24|    PB|   2023-01-27| 167.248.54.174| Azul Escuro|Tecnólogo Em Proc...|   +55 21 0579-4147|\n",
       "|518.490.623-15|  ana08@yahoo.com.br|Dg9epjTlI)|        2003-10-20|    PB|   2023-02-02| 104.37.135.232|      Marrom|            Skatista|+55 (021) 4307 4419|\n",
       "|162.047.598-76|stephany89@hotmai...|t%^1USz$DN|        1944-06-16|    PB|   2023-02-01|  68.193.32.227|     Magenta|          Cartunista|    (071) 3336 6068|\n",
       "|785.469.302-10|martinsbeatriz@uo...|tn0qTo9$&N|        1969-09-24|    PB|   2023-01-05|  123.135.60.13| Verde Claro|             Copeiro|       71 0790-7505|\n",
       "|672.549.308-47|  sarah76@bol.com.br|V^a2T8%p)$|        1912-03-17|    PB|   2023-03-03|   4.68.100.185|     Amarelo|Tecnólogo Em Proc...|       51 3990 9542|\n",
       "|285.609.317-59|claricerocha@gmai...|aT@4HKEkUI|        1964-11-21|    PB|   2023-03-14|  29.171.64.135|     Laranja|     Peão De Rodeiro|   +55 11 6134-3382|\n",
       "|295.031.768-59|piresenzo-gabriel...|I2!Te0r_#P|        1958-03-28|    PB|   2023-01-10|  94.51.224.152|     Amarelo|      Espeleologista|      0500-415-3076|\n",
       "|968.031.572-02|correialeticia@ho...|F+0Gl&gOLj|        2015-02-19|    PB|   2023-01-28|   137.121.8.37|       Ciano|          Psiquiatra|       61 3171 0390|\n",
       "|368.250.974-74|gfernandes@ig.com.br|vlJ35Dhx+_|        1946-08-30|    PB|   2023-03-06|    39.229.21.9|      Branco|        Nefrologista|    (081) 1668-0671|\n",
       "|368.290.754-83|vianalaura@bol.co...|j1YtLeOs!3|        2007-08-21|    PB|   2023-02-03|     13.48.10.2|     Magenta|Engenheiro Mecatr...|       21 9084 1048|\n",
       "|367.408.952-10| eduarda90@ig.com.br|1ZCXbqif!Q|        1923-04-29|    PB|   2023-02-02|   190.97.27.99|        Rosa|Atleta De Arremes...|+55 (031) 1407 8991|\n",
       "|718.526.309-30|   xsales@uol.com.br|8Z6q5QCzN!|        1994-04-03|    PB|   2023-01-30| 117.171.210.60| Azul Escuro|           Faxineiro|   +55 31 7767 7960|\n",
       "|735.169.048-01|fernandaviana@gma...|9tR^6Wqagl|        1929-03-02|    PB|   2023-02-04|126.184.239.121|        Azul|Tecnólogo Em Espo...|+55 (011) 8742 5441|\n",
       "|104.958.726-01|cunhajuliana@ig.c...|!oS3zb3&t3|        1938-12-09|    PB|   2023-02-02|159.189.154.242| Azul Escuro|          Bioquímico|    (061) 7110 9766|\n",
       "|042.185.693-98|ramosmaria-vitori...|%F4ZTe9fN@|        1910-01-11|    PB|   2023-01-17| 112.163.112.71|        Azul|       Toxicologista|+55 (071) 8276-0640|\n",
       "|759.816.034-10|sophiapinto@gmail...|!A@6AELeOV|        1973-10-01|    PB|   2023-02-22| 140.162.175.20|     Amarelo|       Cinematográfo|   +55 61 3425-9225|\n",
       "|963.542.718-28|lunada-cruz@bol.c...|(Z5WkfrP$c|        2000-06-13|    PB|   2023-01-27| 129.148.149.12|        Roxo|            Advogado|   +55 84 3978 9135|\n",
       "|186.942.307-04|   usouza@uol.com.br|vQ0Ku@T$%I|        1908-09-28|    PB|   2023-02-16|     37.20.9.87|     Magenta|          Matemático|    (021) 1526-5985|\n",
       "+--------------+--------------------+----------+------------------+------+-------------+---------------+------------+--------------------+-------------------+\n",
       "only showing top 20 rows"
      ]
     },
     "execution_count": 8,
     "metadata": {},
     "output_type": "execute_result"
    }
   ],
   "source": [
    "df.filter(df['estado'] == 'PB')"
   ]
  },
  {
   "cell_type": "code",
   "execution_count": 10,
   "id": "45b09f08",
   "metadata": {},
   "outputs": [
    {
     "data": {
      "text/html": [
       "<table border='1'>\n",
       "<tr><th>cpf</th><th>email</th><th>senha</th><th>data_de_nascimento</th><th>estado</th><th>data_cadastro</th><th>ipv4</th><th>cor_favorita</th><th>profissao</th><th>telefone</th></tr>\n",
       "<tr><td>573.619.804-57</td><td>hnogueira@ig.com.br</td><td>&amp;9Ejtll$PF</td><td>1949-03-06</td><td>SP</td><td>2023-01-27</td><td>168.162.247.252</td><td>Cinza</td><td>Instalador De Lin...</td><td>(031) 9148 3933</td></tr>\n",
       "<tr><td>734.801.926-96</td><td>pedro-miguel43@bo...</td><td>*72CCJdxX0</td><td>1965-09-14</td><td>SP</td><td>2023-02-22</td><td>222.145.189.67</td><td>Roxo</td><td>Coach</td><td>51 9026 3441</td></tr>\n",
       "<tr><td>869.072.315-30</td><td>luiz-gustavorocha...</td><td>$62UN05c(9</td><td>1980-10-19</td><td>SP</td><td>2023-01-04</td><td>53.167.75.100</td><td>Verde Claro</td><td>Lactarista Hospit...</td><td>+55 31 1296 8466</td></tr>\n",
       "<tr><td>291.358.407-14</td><td>lavinia54@ig.com.br</td><td>NyI@+8Kd!1</td><td>1982-01-28</td><td>SP</td><td>2023-02-26</td><td>79.132.46.55</td><td>Preto</td><td>Profissional De R...</td><td>+55 51 5526 8284</td></tr>\n",
       "<tr><td>460.125.983-51</td><td>lazevedo@gmail.com</td><td>uC0O7QdE&amp;B</td><td>1972-07-14</td><td>SP</td><td>2023-01-24</td><td>221.155.104.128</td><td>Preto</td><td>Atleta De Arremes...</td><td>+55 71 9251-1645</td></tr>\n",
       "<tr><td>837.410.256-07</td><td>martinsmaysa@bol....</td><td>(Z8RNs%un6</td><td>1972-08-21</td><td>SP</td><td>2023-02-24</td><td>157.119.230.252</td><td>Cinza</td><td>Laboratorista</td><td>+55 (084) 4945-6200</td></tr>\n",
       "<tr><td>730.184.526-07</td><td>fviana@ig.com.br</td><td>1(3oLDln$8</td><td>1938-10-23</td><td>SP</td><td>2023-03-02</td><td>99.31.171.138</td><td>Verde Escuro</td><td>Profissional De I...</td><td>0900-429-5628</td></tr>\n",
       "<tr><td>874.092.613-31</td><td>bruno71@yahoo.com.br</td><td>HF1FfNe5&amp;H</td><td>1946-11-25</td><td>SP</td><td>2023-03-03</td><td>14.80.253.67</td><td>Violeta</td><td>Confeiteiro</td><td>(084) 0687-3775</td></tr>\n",
       "<tr><td>490.372.518-97</td><td>castrocatarina@gm...</td><td>8hQ)9EiVZP</td><td>1983-06-10</td><td>SP</td><td>2023-01-21</td><td>5.188.180.112</td><td>Azul Escuro</td><td>Epidemiólogo</td><td>61 5994-2692</td></tr>\n",
       "<tr><td>914.528.630-24</td><td>da-cruzjoaquim@gm...</td><td>v#o7OgfF&amp;4</td><td>1951-01-03</td><td>SP</td><td>2023-01-01</td><td>82.252.94.185</td><td>Cinza</td><td>Ombudsman</td><td>(031) 4940-4068</td></tr>\n",
       "<tr><td>305.768.142-53</td><td>ocorreia@ig.com.br</td><td>&amp;w4EZmC4I&amp;</td><td>1987-11-01</td><td>SP</td><td>2023-01-21</td><td>5.228.186.166</td><td>Verde</td><td>Administrador Púb...</td><td>(051) 9858-2959</td></tr>\n",
       "<tr><td>518.236.097-59</td><td>moraesgustavo-hen...</td><td>_%Xi0ZASk5</td><td>1917-02-17</td><td>SP</td><td>2023-03-07</td><td>130.120.64.80</td><td>Verde Claro</td><td>Balconista</td><td>(031) 6968 3473</td></tr>\n",
       "<tr><td>172.860.945-30</td><td>maria-vitoriasilv...</td><td>(92(Y+VmM!</td><td>2007-09-01</td><td>SP</td><td>2023-01-05</td><td>154.240.64.53</td><td>Roxo</td><td>Caça-Talentos/Olh...</td><td>51 2257 7179</td></tr>\n",
       "<tr><td>596.014.728-94</td><td>anogueira@gmail.com</td><td>3vKnjQq(^c</td><td>1965-03-06</td><td>SP</td><td>2023-01-22</td><td>208.2.27.239</td><td>Amarelo</td><td>Cadista</td><td>(061) 3133 8356</td></tr>\n",
       "<tr><td>420.168.957-30</td><td>leonardo09@bol.co...</td><td>m)9GQD#GGa</td><td>1979-03-01</td><td>SP</td><td>2023-03-10</td><td>152.0.169.107</td><td>Ciano</td><td>Tosador</td><td>71 8459 4427</td></tr>\n",
       "<tr><td>076.541.328-08</td><td>ycorreia@yahoo.co...</td><td>N6S1Xk0YD)</td><td>2003-07-25</td><td>SP</td><td>2023-02-22</td><td>108.16.1.197</td><td>Magenta</td><td>Jogador De Handebol</td><td>+55 71 9877-2831</td></tr>\n",
       "<tr><td>534.261.807-07</td><td>epinto@yahoo.com.br</td><td>1)Xx6G96ah</td><td>2001-08-17</td><td>SP</td><td>2023-01-14</td><td>27.25.142.17</td><td>Amarelo</td><td>Engenheiro Agrônomo</td><td>0900-777-1741</td></tr>\n",
       "<tr><td>072.658.934-92</td><td>maria-luiza28@bol...</td><td>XQO^*9Emhi</td><td>1964-06-04</td><td>SP</td><td>2023-02-24</td><td>61.60.243.221</td><td>Amarelo</td><td>Babysitter</td><td>+55 84 8481-6437</td></tr>\n",
       "<tr><td>973.425.018-32</td><td>gpereira@ig.com.br</td><td>fiCb^5Kk@7</td><td>1923-01-01</td><td>SP</td><td>2023-01-23</td><td>163.128.209.1</td><td>Cinza</td><td>Aeromoça</td><td>+55 81 2459 0657</td></tr>\n",
       "<tr><td>890.712.456-67</td><td>nmendes@bol.com.br</td><td>_$@JH@Mt$2</td><td>1987-04-27</td><td>SP</td><td>2023-01-17</td><td>27.20.197.16</td><td>Preto</td><td>Comissário De Bordo</td><td>+55 21 0100 7037</td></tr>\n",
       "</table>\n",
       "only showing top 20 rows\n"
      ],
      "text/plain": [
       "+--------------+--------------------+----------+------------------+------+-------------+---------------+------------+--------------------+-------------------+\n",
       "|           cpf|               email|     senha|data_de_nascimento|estado|data_cadastro|           ipv4|cor_favorita|           profissao|           telefone|\n",
       "+--------------+--------------------+----------+------------------+------+-------------+---------------+------------+--------------------+-------------------+\n",
       "|573.619.804-57| hnogueira@ig.com.br|&9Ejtll$PF|        1949-03-06|    SP|   2023-01-27|168.162.247.252|       Cinza|Instalador De Lin...|    (031) 9148 3933|\n",
       "|734.801.926-96|pedro-miguel43@bo...|*72CCJdxX0|        1965-09-14|    SP|   2023-02-22| 222.145.189.67|        Roxo|               Coach|       51 9026 3441|\n",
       "|869.072.315-30|luiz-gustavorocha...|$62UN05c(9|        1980-10-19|    SP|   2023-01-04|  53.167.75.100| Verde Claro|Lactarista Hospit...|   +55 31 1296 8466|\n",
       "|291.358.407-14| lavinia54@ig.com.br|NyI@+8Kd!1|        1982-01-28|    SP|   2023-02-26|   79.132.46.55|       Preto|Profissional De R...|   +55 51 5526 8284|\n",
       "|460.125.983-51|  lazevedo@gmail.com|uC0O7QdE&B|        1972-07-14|    SP|   2023-01-24|221.155.104.128|       Preto|Atleta De Arremes...|   +55 71 9251-1645|\n",
       "|837.410.256-07|martinsmaysa@bol....|(Z8RNs%un6|        1972-08-21|    SP|   2023-02-24|157.119.230.252|       Cinza|       Laboratorista|+55 (084) 4945-6200|\n",
       "|730.184.526-07|    fviana@ig.com.br|1(3oLDln$8|        1938-10-23|    SP|   2023-03-02|  99.31.171.138|Verde Escuro|Profissional De I...|      0900-429-5628|\n",
       "|874.092.613-31|bruno71@yahoo.com.br|HF1FfNe5&H|        1946-11-25|    SP|   2023-03-03|   14.80.253.67|     Violeta|         Confeiteiro|    (084) 0687-3775|\n",
       "|490.372.518-97|castrocatarina@gm...|8hQ)9EiVZP|        1983-06-10|    SP|   2023-01-21|  5.188.180.112| Azul Escuro|        Epidemiólogo|       61 5994-2692|\n",
       "|914.528.630-24|da-cruzjoaquim@gm...|v#o7OgfF&4|        1951-01-03|    SP|   2023-01-01|  82.252.94.185|       Cinza|           Ombudsman|    (031) 4940-4068|\n",
       "|305.768.142-53|  ocorreia@ig.com.br|&w4EZmC4I&|        1987-11-01|    SP|   2023-01-21|  5.228.186.166|       Verde|Administrador Púb...|    (051) 9858-2959|\n",
       "|518.236.097-59|moraesgustavo-hen...|_%Xi0ZASk5|        1917-02-17|    SP|   2023-03-07|  130.120.64.80| Verde Claro|          Balconista|    (031) 6968 3473|\n",
       "|172.860.945-30|maria-vitoriasilv...|(92(Y+VmM!|        2007-09-01|    SP|   2023-01-05|  154.240.64.53|        Roxo|Caça-Talentos/Olh...|       51 2257 7179|\n",
       "|596.014.728-94| anogueira@gmail.com|3vKnjQq(^c|        1965-03-06|    SP|   2023-01-22|   208.2.27.239|     Amarelo|             Cadista|    (061) 3133 8356|\n",
       "|420.168.957-30|leonardo09@bol.co...|m)9GQD#GGa|        1979-03-01|    SP|   2023-03-10|  152.0.169.107|       Ciano|             Tosador|       71 8459 4427|\n",
       "|076.541.328-08|ycorreia@yahoo.co...|N6S1Xk0YD)|        2003-07-25|    SP|   2023-02-22|   108.16.1.197|     Magenta| Jogador De Handebol|   +55 71 9877-2831|\n",
       "|534.261.807-07| epinto@yahoo.com.br|1)Xx6G96ah|        2001-08-17|    SP|   2023-01-14|   27.25.142.17|     Amarelo| Engenheiro Agrônomo|      0900-777-1741|\n",
       "|072.658.934-92|maria-luiza28@bol...|XQO^*9Emhi|        1964-06-04|    SP|   2023-02-24|  61.60.243.221|     Amarelo|          Babysitter|   +55 84 8481-6437|\n",
       "|973.425.018-32|  gpereira@ig.com.br|fiCb^5Kk@7|        1923-01-01|    SP|   2023-01-23|  163.128.209.1|       Cinza|            Aeromoça|   +55 81 2459 0657|\n",
       "|890.712.456-67|  nmendes@bol.com.br|_$@JH@Mt$2|        1987-04-27|    SP|   2023-01-17|   27.20.197.16|       Preto| Comissário De Bordo|   +55 21 0100 7037|\n",
       "+--------------+--------------------+----------+------------------+------+-------------+---------------+------------+--------------------+-------------------+\n",
       "only showing top 20 rows"
      ]
     },
     "execution_count": 10,
     "metadata": {},
     "output_type": "execute_result"
    }
   ],
   "source": [
    "df.filter('estado = \"SP\"')"
   ]
  },
  {
   "cell_type": "code",
   "execution_count": 12,
   "id": "ef072dee",
   "metadata": {},
   "outputs": [
    {
     "data": {
      "text/html": [
       "<table border='1'>\n",
       "<tr><th>cpf</th><th>email</th><th>senha</th><th>data_de_nascimento</th><th>estado</th><th>data_cadastro</th><th>ipv4</th><th>cor_favorita</th><th>profissao</th><th>telefone</th></tr>\n",
       "<tr><td>735.169.048-01</td><td>fernandaviana@gma...</td><td>9tR^6Wqagl</td><td>1929-03-02</td><td>PB</td><td>2023-02-04</td><td>126.184.239.121</td><td>Azul</td><td>Tecnólogo Em Espo...</td><td>+55 (011) 8742 5441</td></tr>\n",
       "<tr><td>042.185.693-98</td><td>ramosmaria-vitori...</td><td>%F4ZTe9fN@</td><td>1910-01-11</td><td>PB</td><td>2023-01-17</td><td>112.163.112.71</td><td>Azul</td><td>Toxicologista</td><td>+55 (071) 8276-0640</td></tr>\n",
       "</table>\n"
      ],
      "text/plain": [
       "+--------------+--------------------+----------+------------------+------+-------------+---------------+------------+--------------------+-------------------+\n",
       "|           cpf|               email|     senha|data_de_nascimento|estado|data_cadastro|           ipv4|cor_favorita|           profissao|           telefone|\n",
       "+--------------+--------------------+----------+------------------+------+-------------+---------------+------------+--------------------+-------------------+\n",
       "|735.169.048-01|fernandaviana@gma...|9tR^6Wqagl|        1929-03-02|    PB|   2023-02-04|126.184.239.121|        Azul|Tecnólogo Em Espo...|+55 (011) 8742 5441|\n",
       "|042.185.693-98|ramosmaria-vitori...|%F4ZTe9fN@|        1910-01-11|    PB|   2023-01-17| 112.163.112.71|        Azul|       Toxicologista|+55 (071) 8276-0640|\n",
       "+--------------+--------------------+----------+------------------+------+-------------+---------------+------------+--------------------+-------------------+"
      ]
     },
     "execution_count": 12,
     "metadata": {},
     "output_type": "execute_result"
    }
   ],
   "source": [
    "df.filter((df.estado == 'PB') & (df.cor_favorita == 'Azul'))"
   ]
  },
  {
   "cell_type": "code",
   "execution_count": 14,
   "id": "47ad3382",
   "metadata": {},
   "outputs": [
    {
     "data": {
      "text/html": [
       "<table border='1'>\n",
       "<tr><th>cpf</th><th>email</th><th>senha</th><th>data_de_nascimento</th><th>estado</th><th>data_cadastro</th><th>ipv4</th><th>cor_favorita</th><th>profissao</th><th>telefone</th></tr>\n",
       "<tr><td>398.471.625-73</td><td>felipepires@uol.c...</td><td>*Aw5EOAvy9</td><td>1921-11-11</td><td>MG</td><td>2023-01-02</td><td>181.90.63.58</td><td>Azul</td><td>Papiloscopista</td><td>11 9674-0553</td></tr>\n",
       "<tr><td>085.427.631-90</td><td>pedro-lucas79@yah...</td><td>B)9P4q+tLR</td><td>1944-03-01</td><td>MG</td><td>2023-01-06</td><td>171.175.90.138</td><td>Azul</td><td>Tecnólogo Em Espo...</td><td>+55 (081) 4438 9837</td></tr>\n",
       "<tr><td>940.578.623-74</td><td>fernandolopes@yah...</td><td>DE5Il)Thu*</td><td>1945-04-04</td><td>MG</td><td>2023-03-09</td><td>211.163.192.56</td><td>Azul</td><td>Tenente</td><td>0300-025-4031</td></tr>\n",
       "</table>\n"
      ],
      "text/plain": [
       "+--------------+--------------------+----------+------------------+------+-------------+--------------+------------+--------------------+-------------------+\n",
       "|           cpf|               email|     senha|data_de_nascimento|estado|data_cadastro|          ipv4|cor_favorita|           profissao|           telefone|\n",
       "+--------------+--------------------+----------+------------------+------+-------------+--------------+------------+--------------------+-------------------+\n",
       "|398.471.625-73|felipepires@uol.c...|*Aw5EOAvy9|        1921-11-11|    MG|   2023-01-02|  181.90.63.58|        Azul|      Papiloscopista|       11 9674-0553|\n",
       "|085.427.631-90|pedro-lucas79@yah...|B)9P4q+tLR|        1944-03-01|    MG|   2023-01-06|171.175.90.138|        Azul|Tecnólogo Em Espo...|+55 (081) 4438 9837|\n",
       "|940.578.623-74|fernandolopes@yah...|DE5Il)Thu*|        1945-04-04|    MG|   2023-03-09|211.163.192.56|        Azul|             Tenente|      0300-025-4031|\n",
       "+--------------+--------------------+----------+------------------+------+-------------+--------------+------------+--------------------+-------------------+"
      ]
     },
     "execution_count": 14,
     "metadata": {},
     "output_type": "execute_result"
    }
   ],
   "source": [
    "df.filter(df.estado == 'MG').filter(df.cor_favorita == 'Azul')"
   ]
  },
  {
   "cell_type": "code",
   "execution_count": 15,
   "id": "0a7025f1",
   "metadata": {},
   "outputs": [
    {
     "data": {
      "text/html": [
       "<table border='1'>\n",
       "<tr><th>cpf</th><th>email</th><th>senha</th><th>data_de_nascimento</th><th>estado</th><th>data_cadastro</th><th>ipv4</th><th>cor_favorita</th><th>profissao</th><th>telefone</th></tr>\n",
       "<tr><td>398.471.625-73</td><td>felipepires@uol.c...</td><td>*Aw5EOAvy9</td><td>1921-11-11</td><td>MG</td><td>2023-01-02</td><td>181.90.63.58</td><td>Azul</td><td>Papiloscopista</td><td>11 9674-0553</td></tr>\n",
       "<tr><td>475.698.032-56</td><td>wnunes@bol.com.br</td><td>_8az1W%n7g</td><td>1996-05-12</td><td>SE</td><td>2023-02-04</td><td>139.196.176.154</td><td>Azul</td><td>Cadeirinha</td><td>(071) 1640-3388</td></tr>\n",
       "<tr><td>498.071.356-48</td><td>davi47@bol.com.br</td><td>$XJ)MDIUj7</td><td>1985-08-25</td><td>MA</td><td>2023-03-10</td><td>211.146.130.224</td><td>Azul</td><td>Lenhador</td><td>0800 449 6212</td></tr>\n",
       "<tr><td>472.169.308-78</td><td>fnascimento@gmail...</td><td>tg4*MbRT%)</td><td>1916-10-13</td><td>SE</td><td>2023-01-26</td><td>170.27.50.118</td><td>Azul</td><td>Panificador/Padeiro</td><td>+55 81 3465 6714</td></tr>\n",
       "<tr><td>479.305.682-29</td><td>ebarros@bol.com.br</td><td>@RJR#F9i40</td><td>2022-11-28</td><td>RO</td><td>2023-02-05</td><td>25.193.96.93</td><td>Azul</td><td>Esteticista</td><td>51 8923 1493</td></tr>\n",
       "<tr><td>859.730.624-65</td><td>jesusjoao-pedro@b...</td><td>e6GTOgSu&amp;x</td><td>1934-12-10</td><td>RS</td><td>2023-03-14</td><td>166.167.217.88</td><td>Azul</td><td>Especialista Em A...</td><td>(061) 5783-0665</td></tr>\n",
       "<tr><td>876.534.029-92</td><td>pietrarocha@hotma...</td><td>YqG8G82#M(</td><td>2018-09-20</td><td>BA</td><td>2023-02-07</td><td>7.65.90.115</td><td>Azul</td><td>General</td><td>81 2134-1812</td></tr>\n",
       "<tr><td>387.940.612-03</td><td>renanda-rocha@ig....</td><td>J@7g(ZC2Za</td><td>2016-04-07</td><td>BA</td><td>2023-03-03</td><td>161.182.89.54</td><td>Azul</td><td>Windsurfer</td><td>11 7835-0713</td></tr>\n",
       "<tr><td>673.504.918-75</td><td>da-motaisabelly@g...</td><td>&amp;#1p4%Gqfz</td><td>2003-02-25</td><td>RS</td><td>2023-01-30</td><td>141.112.137.141</td><td>Azul</td><td>Intérprete</td><td>+55 (011) 2871 0453</td></tr>\n",
       "<tr><td>015.289.376-86</td><td>xcardoso@hotmail.com</td><td>2oNEEO5G(H</td><td>1916-09-11</td><td>SC</td><td>2023-02-07</td><td>78.128.223.183</td><td>Azul</td><td>Químico Farmacêutico</td><td>+55 (021) 5075-4981</td></tr>\n",
       "<tr><td>932.567.014-34</td><td>caio40@hotmail.com</td><td>2UQ2p)5q@Y</td><td>1986-01-31</td><td>GO</td><td>2023-01-22</td><td>112.23.224.126</td><td>Azul</td><td>Flautista</td><td>+55 (081) 5756-7067</td></tr>\n",
       "<tr><td>723.419.058-97</td><td>joana43@uol.com.br</td><td>vk7R1o#zI!</td><td>1936-01-31</td><td>RR</td><td>2023-02-07</td><td>23.153.28.160</td><td>Azul</td><td>Jogador De Futebol</td><td>0900 150 4170</td></tr>\n",
       "<tr><td>943.185.762-64</td><td>melissa97@bol.com.br</td><td>MBlZ9BOwp(</td><td>1953-06-09</td><td>PE</td><td>2023-01-16</td><td>97.254.23.196</td><td>Azul</td><td>Físico</td><td>31 6169-0705</td></tr>\n",
       "<tr><td>076.124.398-40</td><td>aragaoaugusto@hot...</td><td>Tou6EjY6+I</td><td>1987-07-10</td><td>RS</td><td>2023-03-09</td><td>202.143.70.72</td><td>Azul</td><td>Tosador</td><td>+55 71 5928-0948</td></tr>\n",
       "<tr><td>796.805.213-03</td><td>samuelfernandes@y...</td><td>h&amp;48Cv73ml</td><td>1961-08-23</td><td>DF</td><td>2023-01-11</td><td>183.76.213.133</td><td>Azul</td><td>Agricultor</td><td>+55 71 2448 9698</td></tr>\n",
       "<tr><td>026.358.719-30</td><td>alexiasilva@yahoo...</td><td>#aMFx)3wI1</td><td>1940-09-13</td><td>RO</td><td>2023-02-22</td><td>52.91.52.76</td><td>Azul</td><td>Baixista</td><td>(061) 3231-7250</td></tr>\n",
       "<tr><td>065.879.124-94</td><td>moreiraisabel@hot...</td><td>t+3h0Usq#E</td><td>2001-05-02</td><td>RJ</td><td>2023-02-22</td><td>90.107.110.81</td><td>Azul</td><td>Capataz</td><td>+55 81 4097 2278</td></tr>\n",
       "<tr><td>791.534.862-00</td><td>melissacavalcanti...</td><td>VIF7Lx2G$+</td><td>1919-02-24</td><td>AC</td><td>2023-01-22</td><td>11.72.46.60</td><td>Azul</td><td>Obstetra</td><td>0500-547-3522</td></tr>\n",
       "<tr><td>604.183.529-33</td><td>marina63@ig.com.br</td><td>^5N!nWoQCn</td><td>1951-10-07</td><td>BA</td><td>2023-02-19</td><td>218.64.246.193</td><td>Azul</td><td>Sexólogo</td><td>(061) 6791 5946</td></tr>\n",
       "<tr><td>083.219.547-23</td><td>paulo88@ig.com.br</td><td>rZsu2S9lC&amp;</td><td>1973-05-22</td><td>AP</td><td>2023-01-14</td><td>125.87.72.93</td><td>Azul</td><td>Empacotador</td><td>+55 (021) 3276 5694</td></tr>\n",
       "</table>\n",
       "only showing top 20 rows\n"
      ],
      "text/plain": [
       "+--------------+--------------------+----------+------------------+------+-------------+---------------+------------+--------------------+-------------------+\n",
       "|           cpf|               email|     senha|data_de_nascimento|estado|data_cadastro|           ipv4|cor_favorita|           profissao|           telefone|\n",
       "+--------------+--------------------+----------+------------------+------+-------------+---------------+------------+--------------------+-------------------+\n",
       "|398.471.625-73|felipepires@uol.c...|*Aw5EOAvy9|        1921-11-11|    MG|   2023-01-02|   181.90.63.58|        Azul|      Papiloscopista|       11 9674-0553|\n",
       "|475.698.032-56|   wnunes@bol.com.br|_8az1W%n7g|        1996-05-12|    SE|   2023-02-04|139.196.176.154|        Azul|          Cadeirinha|    (071) 1640-3388|\n",
       "|498.071.356-48|   davi47@bol.com.br|$XJ)MDIUj7|        1985-08-25|    MA|   2023-03-10|211.146.130.224|        Azul|            Lenhador|      0800 449 6212|\n",
       "|472.169.308-78|fnascimento@gmail...|tg4*MbRT%)|        1916-10-13|    SE|   2023-01-26|  170.27.50.118|        Azul| Panificador/Padeiro|   +55 81 3465 6714|\n",
       "|479.305.682-29|  ebarros@bol.com.br|@RJR#F9i40|        2022-11-28|    RO|   2023-02-05|   25.193.96.93|        Azul|         Esteticista|       51 8923 1493|\n",
       "|859.730.624-65|jesusjoao-pedro@b...|e6GTOgSu&x|        1934-12-10|    RS|   2023-03-14| 166.167.217.88|        Azul|Especialista Em A...|    (061) 5783-0665|\n",
       "|876.534.029-92|pietrarocha@hotma...|YqG8G82#M(|        2018-09-20|    BA|   2023-02-07|    7.65.90.115|        Azul|             General|       81 2134-1812|\n",
       "|387.940.612-03|renanda-rocha@ig....|J@7g(ZC2Za|        2016-04-07|    BA|   2023-03-03|  161.182.89.54|        Azul|          Windsurfer|       11 7835-0713|\n",
       "|673.504.918-75|da-motaisabelly@g...|&#1p4%Gqfz|        2003-02-25|    RS|   2023-01-30|141.112.137.141|        Azul|          Intérprete|+55 (011) 2871 0453|\n",
       "|015.289.376-86|xcardoso@hotmail.com|2oNEEO5G(H|        1916-09-11|    SC|   2023-02-07| 78.128.223.183|        Azul|Químico Farmacêutico|+55 (021) 5075-4981|\n",
       "|932.567.014-34|  caio40@hotmail.com|2UQ2p)5q@Y|        1986-01-31|    GO|   2023-01-22| 112.23.224.126|        Azul|           Flautista|+55 (081) 5756-7067|\n",
       "|723.419.058-97|  joana43@uol.com.br|vk7R1o#zI!|        1936-01-31|    RR|   2023-02-07|  23.153.28.160|        Azul|  Jogador De Futebol|      0900 150 4170|\n",
       "|943.185.762-64|melissa97@bol.com.br|MBlZ9BOwp(|        1953-06-09|    PE|   2023-01-16|  97.254.23.196|        Azul|              Físico|       31 6169-0705|\n",
       "|076.124.398-40|aragaoaugusto@hot...|Tou6EjY6+I|        1987-07-10|    RS|   2023-03-09|  202.143.70.72|        Azul|             Tosador|   +55 71 5928-0948|\n",
       "|796.805.213-03|samuelfernandes@y...|h&48Cv73ml|        1961-08-23|    DF|   2023-01-11| 183.76.213.133|        Azul|          Agricultor|   +55 71 2448 9698|\n",
       "|026.358.719-30|alexiasilva@yahoo...|#aMFx)3wI1|        1940-09-13|    RO|   2023-02-22|    52.91.52.76|        Azul|            Baixista|    (061) 3231-7250|\n",
       "|065.879.124-94|moreiraisabel@hot...|t+3h0Usq#E|        2001-05-02|    RJ|   2023-02-22|  90.107.110.81|        Azul|             Capataz|   +55 81 4097 2278|\n",
       "|791.534.862-00|melissacavalcanti...|VIF7Lx2G$+|        1919-02-24|    AC|   2023-01-22|    11.72.46.60|        Azul|            Obstetra|      0500-547-3522|\n",
       "|604.183.529-33|  marina63@ig.com.br|^5N!nWoQCn|        1951-10-07|    BA|   2023-02-19| 218.64.246.193|        Azul|            Sexólogo|    (061) 6791 5946|\n",
       "|083.219.547-23|   paulo88@ig.com.br|rZsu2S9lC&|        1973-05-22|    AP|   2023-01-14|   125.87.72.93|        Azul|         Empacotador|+55 (021) 3276 5694|\n",
       "+--------------+--------------------+----------+------------------+------+-------------+---------------+------------+--------------------+-------------------+\n",
       "only showing top 20 rows"
      ]
     },
     "execution_count": 15,
     "metadata": {},
     "output_type": "execute_result"
    }
   ],
   "source": [
    "df.filter((df.cor_favorita == 'Azul') | (df.cor_favorita == 'Vermelho'))"
   ]
  },
  {
   "cell_type": "code",
   "execution_count": 16,
   "id": "db36972b",
   "metadata": {},
   "outputs": [
    {
     "data": {
      "text/html": [
       "<table border='1'>\n",
       "<tr><th>cpf</th><th>email</th><th>senha</th><th>data_de_nascimento</th><th>estado</th><th>data_cadastro</th><th>ipv4</th><th>cor_favorita</th><th>profissao</th><th>telefone</th></tr>\n",
       "<tr><td>398.471.625-73</td><td>felipepires@uol.c...</td><td>*Aw5EOAvy9</td><td>1921-11-11</td><td>MG</td><td>2023-01-02</td><td>181.90.63.58</td><td>Azul</td><td>Papiloscopista</td><td>11 9674-0553</td></tr>\n",
       "<tr><td>475.698.032-56</td><td>wnunes@bol.com.br</td><td>_8az1W%n7g</td><td>1996-05-12</td><td>SE</td><td>2023-02-04</td><td>139.196.176.154</td><td>Azul</td><td>Cadeirinha</td><td>(071) 1640-3388</td></tr>\n",
       "<tr><td>498.071.356-48</td><td>davi47@bol.com.br</td><td>$XJ)MDIUj7</td><td>1985-08-25</td><td>MA</td><td>2023-03-10</td><td>211.146.130.224</td><td>Azul</td><td>Lenhador</td><td>0800 449 6212</td></tr>\n",
       "<tr><td>472.169.308-78</td><td>fnascimento@gmail...</td><td>tg4*MbRT%)</td><td>1916-10-13</td><td>SE</td><td>2023-01-26</td><td>170.27.50.118</td><td>Azul</td><td>Panificador/Padeiro</td><td>+55 81 3465 6714</td></tr>\n",
       "<tr><td>479.305.682-29</td><td>ebarros@bol.com.br</td><td>@RJR#F9i40</td><td>2022-11-28</td><td>RO</td><td>2023-02-05</td><td>25.193.96.93</td><td>Azul</td><td>Esteticista</td><td>51 8923 1493</td></tr>\n",
       "<tr><td>859.730.624-65</td><td>jesusjoao-pedro@b...</td><td>e6GTOgSu&amp;x</td><td>1934-12-10</td><td>RS</td><td>2023-03-14</td><td>166.167.217.88</td><td>Azul</td><td>Especialista Em A...</td><td>(061) 5783-0665</td></tr>\n",
       "<tr><td>876.534.029-92</td><td>pietrarocha@hotma...</td><td>YqG8G82#M(</td><td>2018-09-20</td><td>BA</td><td>2023-02-07</td><td>7.65.90.115</td><td>Azul</td><td>General</td><td>81 2134-1812</td></tr>\n",
       "<tr><td>387.940.612-03</td><td>renanda-rocha@ig....</td><td>J@7g(ZC2Za</td><td>2016-04-07</td><td>BA</td><td>2023-03-03</td><td>161.182.89.54</td><td>Azul</td><td>Windsurfer</td><td>11 7835-0713</td></tr>\n",
       "<tr><td>673.504.918-75</td><td>da-motaisabelly@g...</td><td>&amp;#1p4%Gqfz</td><td>2003-02-25</td><td>RS</td><td>2023-01-30</td><td>141.112.137.141</td><td>Azul</td><td>Intérprete</td><td>+55 (011) 2871 0453</td></tr>\n",
       "<tr><td>015.289.376-86</td><td>xcardoso@hotmail.com</td><td>2oNEEO5G(H</td><td>1916-09-11</td><td>SC</td><td>2023-02-07</td><td>78.128.223.183</td><td>Azul</td><td>Químico Farmacêutico</td><td>+55 (021) 5075-4981</td></tr>\n",
       "<tr><td>932.567.014-34</td><td>caio40@hotmail.com</td><td>2UQ2p)5q@Y</td><td>1986-01-31</td><td>GO</td><td>2023-01-22</td><td>112.23.224.126</td><td>Azul</td><td>Flautista</td><td>+55 (081) 5756-7067</td></tr>\n",
       "<tr><td>723.419.058-97</td><td>joana43@uol.com.br</td><td>vk7R1o#zI!</td><td>1936-01-31</td><td>RR</td><td>2023-02-07</td><td>23.153.28.160</td><td>Azul</td><td>Jogador De Futebol</td><td>0900 150 4170</td></tr>\n",
       "<tr><td>943.185.762-64</td><td>melissa97@bol.com.br</td><td>MBlZ9BOwp(</td><td>1953-06-09</td><td>PE</td><td>2023-01-16</td><td>97.254.23.196</td><td>Azul</td><td>Físico</td><td>31 6169-0705</td></tr>\n",
       "<tr><td>076.124.398-40</td><td>aragaoaugusto@hot...</td><td>Tou6EjY6+I</td><td>1987-07-10</td><td>RS</td><td>2023-03-09</td><td>202.143.70.72</td><td>Azul</td><td>Tosador</td><td>+55 71 5928-0948</td></tr>\n",
       "<tr><td>796.805.213-03</td><td>samuelfernandes@y...</td><td>h&amp;48Cv73ml</td><td>1961-08-23</td><td>DF</td><td>2023-01-11</td><td>183.76.213.133</td><td>Azul</td><td>Agricultor</td><td>+55 71 2448 9698</td></tr>\n",
       "<tr><td>026.358.719-30</td><td>alexiasilva@yahoo...</td><td>#aMFx)3wI1</td><td>1940-09-13</td><td>RO</td><td>2023-02-22</td><td>52.91.52.76</td><td>Azul</td><td>Baixista</td><td>(061) 3231-7250</td></tr>\n",
       "<tr><td>065.879.124-94</td><td>moreiraisabel@hot...</td><td>t+3h0Usq#E</td><td>2001-05-02</td><td>RJ</td><td>2023-02-22</td><td>90.107.110.81</td><td>Azul</td><td>Capataz</td><td>+55 81 4097 2278</td></tr>\n",
       "<tr><td>791.534.862-00</td><td>melissacavalcanti...</td><td>VIF7Lx2G$+</td><td>1919-02-24</td><td>AC</td><td>2023-01-22</td><td>11.72.46.60</td><td>Azul</td><td>Obstetra</td><td>0500-547-3522</td></tr>\n",
       "<tr><td>604.183.529-33</td><td>marina63@ig.com.br</td><td>^5N!nWoQCn</td><td>1951-10-07</td><td>BA</td><td>2023-02-19</td><td>218.64.246.193</td><td>Azul</td><td>Sexólogo</td><td>(061) 6791 5946</td></tr>\n",
       "<tr><td>083.219.547-23</td><td>paulo88@ig.com.br</td><td>rZsu2S9lC&amp;</td><td>1973-05-22</td><td>AP</td><td>2023-01-14</td><td>125.87.72.93</td><td>Azul</td><td>Empacotador</td><td>+55 (021) 3276 5694</td></tr>\n",
       "</table>\n",
       "only showing top 20 rows\n"
      ],
      "text/plain": [
       "+--------------+--------------------+----------+------------------+------+-------------+---------------+------------+--------------------+-------------------+\n",
       "|           cpf|               email|     senha|data_de_nascimento|estado|data_cadastro|           ipv4|cor_favorita|           profissao|           telefone|\n",
       "+--------------+--------------------+----------+------------------+------+-------------+---------------+------------+--------------------+-------------------+\n",
       "|398.471.625-73|felipepires@uol.c...|*Aw5EOAvy9|        1921-11-11|    MG|   2023-01-02|   181.90.63.58|        Azul|      Papiloscopista|       11 9674-0553|\n",
       "|475.698.032-56|   wnunes@bol.com.br|_8az1W%n7g|        1996-05-12|    SE|   2023-02-04|139.196.176.154|        Azul|          Cadeirinha|    (071) 1640-3388|\n",
       "|498.071.356-48|   davi47@bol.com.br|$XJ)MDIUj7|        1985-08-25|    MA|   2023-03-10|211.146.130.224|        Azul|            Lenhador|      0800 449 6212|\n",
       "|472.169.308-78|fnascimento@gmail...|tg4*MbRT%)|        1916-10-13|    SE|   2023-01-26|  170.27.50.118|        Azul| Panificador/Padeiro|   +55 81 3465 6714|\n",
       "|479.305.682-29|  ebarros@bol.com.br|@RJR#F9i40|        2022-11-28|    RO|   2023-02-05|   25.193.96.93|        Azul|         Esteticista|       51 8923 1493|\n",
       "|859.730.624-65|jesusjoao-pedro@b...|e6GTOgSu&x|        1934-12-10|    RS|   2023-03-14| 166.167.217.88|        Azul|Especialista Em A...|    (061) 5783-0665|\n",
       "|876.534.029-92|pietrarocha@hotma...|YqG8G82#M(|        2018-09-20|    BA|   2023-02-07|    7.65.90.115|        Azul|             General|       81 2134-1812|\n",
       "|387.940.612-03|renanda-rocha@ig....|J@7g(ZC2Za|        2016-04-07|    BA|   2023-03-03|  161.182.89.54|        Azul|          Windsurfer|       11 7835-0713|\n",
       "|673.504.918-75|da-motaisabelly@g...|&#1p4%Gqfz|        2003-02-25|    RS|   2023-01-30|141.112.137.141|        Azul|          Intérprete|+55 (011) 2871 0453|\n",
       "|015.289.376-86|xcardoso@hotmail.com|2oNEEO5G(H|        1916-09-11|    SC|   2023-02-07| 78.128.223.183|        Azul|Químico Farmacêutico|+55 (021) 5075-4981|\n",
       "|932.567.014-34|  caio40@hotmail.com|2UQ2p)5q@Y|        1986-01-31|    GO|   2023-01-22| 112.23.224.126|        Azul|           Flautista|+55 (081) 5756-7067|\n",
       "|723.419.058-97|  joana43@uol.com.br|vk7R1o#zI!|        1936-01-31|    RR|   2023-02-07|  23.153.28.160|        Azul|  Jogador De Futebol|      0900 150 4170|\n",
       "|943.185.762-64|melissa97@bol.com.br|MBlZ9BOwp(|        1953-06-09|    PE|   2023-01-16|  97.254.23.196|        Azul|              Físico|       31 6169-0705|\n",
       "|076.124.398-40|aragaoaugusto@hot...|Tou6EjY6+I|        1987-07-10|    RS|   2023-03-09|  202.143.70.72|        Azul|             Tosador|   +55 71 5928-0948|\n",
       "|796.805.213-03|samuelfernandes@y...|h&48Cv73ml|        1961-08-23|    DF|   2023-01-11| 183.76.213.133|        Azul|          Agricultor|   +55 71 2448 9698|\n",
       "|026.358.719-30|alexiasilva@yahoo...|#aMFx)3wI1|        1940-09-13|    RO|   2023-02-22|    52.91.52.76|        Azul|            Baixista|    (061) 3231-7250|\n",
       "|065.879.124-94|moreiraisabel@hot...|t+3h0Usq#E|        2001-05-02|    RJ|   2023-02-22|  90.107.110.81|        Azul|             Capataz|   +55 81 4097 2278|\n",
       "|791.534.862-00|melissacavalcanti...|VIF7Lx2G$+|        1919-02-24|    AC|   2023-01-22|    11.72.46.60|        Azul|            Obstetra|      0500-547-3522|\n",
       "|604.183.529-33|  marina63@ig.com.br|^5N!nWoQCn|        1951-10-07|    BA|   2023-02-19| 218.64.246.193|        Azul|            Sexólogo|    (061) 6791 5946|\n",
       "|083.219.547-23|   paulo88@ig.com.br|rZsu2S9lC&|        1973-05-22|    AP|   2023-01-14|   125.87.72.93|        Azul|         Empacotador|+55 (021) 3276 5694|\n",
       "+--------------+--------------------+----------+------------------+------+-------------+---------------+------------+--------------------+-------------------+\n",
       "only showing top 20 rows"
      ]
     },
     "execution_count": 16,
     "metadata": {},
     "output_type": "execute_result"
    }
   ],
   "source": [
    "# Outra forma de filtrar utilizaznod OR\n",
    "df.filter(df.cor_favorita.isin(['Azul', 'Vermelho']))"
   ]
  },
  {
   "cell_type": "code",
   "execution_count": 17,
   "id": "1769c94f",
   "metadata": {},
   "outputs": [],
   "source": [
    "import pyspark.sql.functions as F"
   ]
  },
  {
   "cell_type": "code",
   "execution_count": 22,
   "id": "2db686f7",
   "metadata": {},
   "outputs": [
    {
     "data": {
      "text/html": [
       "<table border='1'>\n",
       "<tr><th>cpf</th><th>email</th><th>senha</th><th>data_de_nascimento</th><th>estado</th><th>data_cadastro</th><th>ipv4</th><th>cor_favorita</th><th>profissao</th><th>telefone</th></tr>\n",
       "<tr><td>076.124.398-40</td><td>aragaoaugusto@hot...</td><td>Tou6EjY6+I</td><td>1987-07-10</td><td>RS</td><td>2023-03-09</td><td>202.143.70.72</td><td>Azul</td><td>Tosador</td><td>+55 71 5928-0948</td></tr>\n",
       "</table>\n"
      ],
      "text/plain": [
       "+--------------+--------------------+----------+------------------+------+-------------+-------------+------------+---------+----------------+\n",
       "|           cpf|               email|     senha|data_de_nascimento|estado|data_cadastro|         ipv4|cor_favorita|profissao|        telefone|\n",
       "+--------------+--------------------+----------+------------------+------+-------------+-------------+------------+---------+----------------+\n",
       "|076.124.398-40|aragaoaugusto@hot...|Tou6EjY6+I|        1987-07-10|    RS|   2023-03-09|202.143.70.72|        Azul|  Tosador|+55 71 5928-0948|\n",
       "+--------------+--------------------+----------+------------------+------+-------------+-------------+------------+---------+----------------+"
      ]
     },
     "execution_count": 22,
     "metadata": {},
     "output_type": "execute_result"
    }
   ],
   "source": [
    "#Usando os Parametros para garantir que os dados sejam filtrados corretamente. Caso não seja utilizado os parâmetros, os dados serão filtrados de forma errada posi precisaria de uma barra invertida \\\n",
    "\n",
    "(\n",
    "    df\n",
    "    .filter(F.col('estado') == 'RS')\n",
    "    .where(F.col('cor_favorita') == 'Azul')\n",
    "    .where(F.col('profissao') == 'Tosador')\n",
    ")"
   ]
  }
 ],
 "metadata": {
  "kernelspec": {
   "display_name": ".venv",
   "language": "python",
   "name": "python3"
  },
  "language_info": {
   "codemirror_mode": {
    "name": "ipython",
    "version": 3
   },
   "file_extension": ".py",
   "mimetype": "text/x-python",
   "name": "python",
   "nbconvert_exporter": "python",
   "pygments_lexer": "ipython3",
   "version": "3.12.4"
  }
 },
 "nbformat": 4,
 "nbformat_minor": 5
}
