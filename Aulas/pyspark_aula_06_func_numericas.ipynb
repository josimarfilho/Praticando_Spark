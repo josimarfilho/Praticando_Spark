{
 "cells": [
  {
   "cell_type": "markdown",
   "id": "0e46d463",
   "metadata": {},
   "source": [
    "# Exercitando as funções numericas"
   ]
  },
  {
   "cell_type": "code",
   "execution_count": 1,
   "id": "84524080",
   "metadata": {},
   "outputs": [],
   "source": [
    "from pyspark.sql import SparkSession\n",
    "import pyspark.sql.functions as F\n",
    "\n",
    "spark = (\n",
    "    SparkSession.builder.appName(\"pyspark_aula_04\")\n",
    "    .config(\"spark.sql.repl.eagerEval.enabled\", True)\n",
    "    .getOrCreate()\n",
    ")\n",
    "\n",
    "df = spark.read.parquet(\"./bases/IMC.parquet\")"
   ]
  },
  {
   "cell_type": "code",
   "execution_count": 2,
   "id": "8914181e",
   "metadata": {},
   "outputs": [
    {
     "data": {
      "text/html": [
       "<table border='1'>\n",
       "<tr><th>nome</th><th>altura</th><th>peso</th></tr>\n",
       "<tr><td>Pietra Fernandes</td><td>176</td><td>97.88</td></tr>\n",
       "<tr><td>Ana Júlia da Rosa</td><td>163</td><td>80.56</td></tr>\n",
       "<tr><td>Fernando Martins</td><td>150</td><td>85.55</td></tr>\n",
       "<tr><td>Isis Silveira</td><td>173</td><td>70.1</td></tr>\n",
       "<tr><td>Cecília Porto</td><td>190</td><td>93.42</td></tr>\n",
       "<tr><td>Sra. Bruna Almeida</td><td>198</td><td>73.07</td></tr>\n",
       "<tr><td>Maria Julia Silva</td><td>170</td><td>71.36</td></tr>\n",
       "<tr><td>Pedro Henrique da...</td><td>188</td><td>105.57</td></tr>\n",
       "<tr><td>Davi Lucas Campos</td><td>180</td><td>98.49</td></tr>\n",
       "<tr><td>Juan Gonçalves</td><td>175</td><td>71.87</td></tr>\n",
       "</table>\n"
      ],
      "text/plain": [
       "+--------------------+------+------+\n",
       "|                nome|altura|  peso|\n",
       "+--------------------+------+------+\n",
       "|    Pietra Fernandes|   176| 97.88|\n",
       "|   Ana Júlia da Rosa|   163| 80.56|\n",
       "|    Fernando Martins|   150| 85.55|\n",
       "|       Isis Silveira|   173|  70.1|\n",
       "|       Cecília Porto|   190| 93.42|\n",
       "|  Sra. Bruna Almeida|   198| 73.07|\n",
       "|   Maria Julia Silva|   170| 71.36|\n",
       "|Pedro Henrique da...|   188|105.57|\n",
       "|   Davi Lucas Campos|   180| 98.49|\n",
       "|      Juan Gonçalves|   175| 71.87|\n",
       "+--------------------+------+------+"
      ]
     },
     "execution_count": 2,
     "metadata": {},
     "output_type": "execute_result"
    }
   ],
   "source": [
    "df"
   ]
  },
  {
   "cell_type": "code",
   "execution_count": 14,
   "id": "8bd417c7",
   "metadata": {},
   "outputs": [
    {
     "data": {
      "text/html": [
       "<table border='1'>\n",
       "<tr><th>nome</th><th>altura</th><th>peso</th><th>imc</th></tr>\n",
       "<tr><td>Pietra Fernandes</td><td>176</td><td>97.88</td><td>54.4</td></tr>\n",
       "<tr><td>Ana Júlia da Rosa</td><td>163</td><td>80.56</td><td>39.8</td></tr>\n",
       "<tr><td>Fernando Martins</td><td>150</td><td>85.55</td><td>48.8</td></tr>\n",
       "<tr><td>Isis Silveira</td><td>173</td><td>70.1</td><td>28.4</td></tr>\n",
       "<tr><td>Cecília Porto</td><td>190</td><td>93.42</td><td>45.9</td></tr>\n",
       "<tr><td>Sra. Bruna Almeida</td><td>198</td><td>73.07</td><td>27.0</td></tr>\n",
       "<tr><td>Maria Julia Silva</td><td>170</td><td>71.36</td><td>30.0</td></tr>\n",
       "<tr><td>Pedro Henrique da...</td><td>188</td><td>105.57</td><td>59.3</td></tr>\n",
       "<tr><td>Davi Lucas Campos</td><td>180</td><td>98.49</td><td>53.9</td></tr>\n",
       "<tr><td>Juan Gonçalves</td><td>175</td><td>71.87</td><td>29.5</td></tr>\n",
       "</table>\n"
      ],
      "text/plain": [
       "+--------------------+------+------+----+\n",
       "|                nome|altura|  peso| imc|\n",
       "+--------------------+------+------+----+\n",
       "|    Pietra Fernandes|   176| 97.88|54.4|\n",
       "|   Ana Júlia da Rosa|   163| 80.56|39.8|\n",
       "|    Fernando Martins|   150| 85.55|48.8|\n",
       "|       Isis Silveira|   173|  70.1|28.4|\n",
       "|       Cecília Porto|   190| 93.42|45.9|\n",
       "|  Sra. Bruna Almeida|   198| 73.07|27.0|\n",
       "|   Maria Julia Silva|   170| 71.36|30.0|\n",
       "|Pedro Henrique da...|   188|105.57|59.3|\n",
       "|   Davi Lucas Campos|   180| 98.49|53.9|\n",
       "|      Juan Gonçalves|   175| 71.87|29.5|\n",
       "+--------------------+------+------+----+"
      ]
     },
     "execution_count": 14,
     "metadata": {},
     "output_type": "execute_result"
    }
   ],
   "source": [
    "(\n",
    "    df\n",
    "    # .withColumn('round', F.round(df.peso, 1)) # Arredondar para 1 casa decimal\n",
    "    # .withColumn('ceil', F.ceil(df.peso)) # Arredondar para cima\n",
    "    # .withColumn('floor', F.floor(df.peso)) # Arredondar para baixo\n",
    "    # .withColumn('abs', F.abs(df.peso)) # Valor absoluto\n",
    "    # .withColumn('pow', F.pow(df.peso, 2)) # Potência\n",
    "    # .withColumn('sqrt', F.sqrt(F.col('pow'))) # Raiz quadrada\n",
    "    .withColumn('imc', F.round(F.pow(df.peso, 2) / df.altura, 1))\n",
    ")"
   ]
  }
 ],
 "metadata": {
  "kernelspec": {
   "display_name": ".venv",
   "language": "python",
   "name": "python3"
  },
  "language_info": {
   "codemirror_mode": {
    "name": "ipython",
    "version": 3
   },
   "file_extension": ".py",
   "mimetype": "text/x-python",
   "name": "python",
   "nbconvert_exporter": "python",
   "pygments_lexer": "ipython3",
   "version": "3.12.4"
  }
 },
 "nbformat": 4,
 "nbformat_minor": 5
}
