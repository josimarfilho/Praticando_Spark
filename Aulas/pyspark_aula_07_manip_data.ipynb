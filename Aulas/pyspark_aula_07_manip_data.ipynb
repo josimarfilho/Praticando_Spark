{
 "cells": [
  {
   "cell_type": "markdown",
   "id": "1524f7da",
   "metadata": {},
   "source": [
    "# Manipulando Datas"
   ]
  },
  {
   "cell_type": "code",
   "execution_count": 2,
   "id": "ed31adee",
   "metadata": {},
   "outputs": [],
   "source": [
    "from pyspark.sql import SparkSession\n",
    "import pyspark.sql.functions as F\n",
    "\n",
    "spark = (\n",
    "    SparkSession.builder.appName(\"pyspark_aula_07\")\n",
    "    .config(\"spark.sql.repl.eagerEval.enabled\", True)\n",
    "    .getOrCreate()\n",
    ")\n",
    "\n",
    "df = spark.read.parquet(\"./bases/LOGINS.parquet\")"
   ]
  },
  {
   "cell_type": "code",
   "execution_count": null,
   "id": "34f542b4",
   "metadata": {},
   "outputs": [],
   "source": [
    "df = spark.read.parquet(\".bases/LOGINS.parquet\").select('data_de_nascimento', 'data_cadastro')\n",
    "df\n"
   ]
  },
  {
   "cell_type": "code",
   "execution_count": 29,
   "id": "51440dd2",
   "metadata": {},
   "outputs": [
    {
     "name": "stdout",
     "output_type": "stream",
     "text": [
      "+------------------+-------------+----------+\n",
      "|data_de_nascimento|data_cadastro|make_date |\n",
      "+------------------+-------------+----------+\n",
      "|2006-12-18        |2023-02-26   |2022-12-31|\n",
      "|1992-06-17        |2023-02-16   |2022-12-31|\n",
      "|1921-11-11        |2023-01-02   |2022-12-31|\n",
      "|2021-06-01        |2023-01-08   |2022-12-31|\n",
      "|1969-10-28        |2023-02-14   |2022-12-31|\n",
      "|1986-05-19        |2023-03-07   |2022-12-31|\n",
      "|2018-04-20        |2023-01-13   |2022-12-31|\n",
      "|1996-05-12        |2023-02-04   |2022-12-31|\n",
      "|2021-10-05        |2023-03-02   |2022-12-31|\n",
      "|1917-01-05        |2023-02-21   |2022-12-31|\n",
      "|1912-05-25        |2023-01-25   |2022-12-31|\n",
      "|1920-05-26        |2023-02-18   |2022-12-31|\n",
      "|1938-03-11        |2023-01-19   |2022-12-31|\n",
      "|1922-09-01        |2023-02-01   |2022-12-31|\n",
      "|2013-01-10        |2023-01-07   |2022-12-31|\n",
      "|1992-10-16        |2023-01-05   |2022-12-31|\n",
      "|1945-11-18        |2023-01-24   |2022-12-31|\n",
      "|1915-11-15        |2023-01-22   |2022-12-31|\n",
      "|1964-02-01        |2023-02-16   |2022-12-31|\n",
      "|1959-02-01        |2023-02-25   |2022-12-31|\n",
      "+------------------+-------------+----------+\n",
      "only showing top 20 rows\n",
      "\n"
     ]
    }
   ],
   "source": [
    "(\n",
    "    df\n",
    "    # .withColumn('add_month', F.add_months(df.data_cadastro, 1)) # Adicionando um mes ao data_cadastro\n",
    "    # .withColumn('voltar_month', F.add_months(df.data_cadastro, -1)) # Subtraindo um mes ao data_cadastro\n",
    "    # .withColumn('current_date', F.current_date()) # Data atual\n",
    "    # .withColumn('current_timestamp', F.current_timestamp()) # Data e hora atual\n",
    "    # .withColumn('date_add', F.date_add(df.data_cadastro, 5)) # Adicionando 5 dias ao data_cadastro\n",
    "    # .withColumn('date_add2', F.date_add(df.data_cadastro, -50)) # Subtraindo 50 dias ao data_cadastro\n",
    "    # .withColumn('date_sub', F.date_sub(df.data_cadastro, 5)) # Subtraindo 5 dias ao data_cadastro\n",
    "    # .withColumn('date_format', F.date_format(df.data_cadastro, 'd/M/y'))\n",
    "    # .withColumn('datediff', F.datediff(F.current_date(), df.data_de_nascimento)) # Diferenca entre duas datas\n",
    "    # .withColumn('dayofmonth', F.dayofmonth(df.data_de_nascimento)) # Dia do mes\n",
    "    # .withColumn('dayofweek', F.dayofweek(df.data_de_nascimento)) # Dia da semana\n",
    "    # .withColumn('weekofyear', F.weekofyear(df.data_de_nascimento)) # Semana do ano\n",
    "    # .withColumn('year', F.year(df.data_de_nascimento)) # Ano\n",
    "    # .withColumn('month', F.month(df.data_de_nascimento)) # Mes\n",
    "    # .withColumn('day', F.dayofmonth(df.data_de_nascimento)) # Dia\n",
    "    # .withColumn('last_day', F.last_day(df.data_de_nascimento)) # Ultimo dia do mes\n",
    "    # .withColumn('month_between', F.months_between(df.data_cadastro, df.data_de_nascimento)) # Meses entre duas datas\n",
    "    # .withColumn('next_day', F.next_day(df.data_de_nascimento, 'Mon')) # Proximo dia da semana\n",
    "    .withColumn('make_date', F.make_date(F.lit(2022), F.lit(12), F.lit(31)))\n",
    "    .show(20, False)\n",
    "    \n",
    ")"
   ]
  }
 ],
 "metadata": {
  "kernelspec": {
   "display_name": ".venv",
   "language": "python",
   "name": "python3"
  },
  "language_info": {
   "codemirror_mode": {
    "name": "ipython",
    "version": 3
   },
   "file_extension": ".py",
   "mimetype": "text/x-python",
   "name": "python",
   "nbconvert_exporter": "python",
   "pygments_lexer": "ipython3",
   "version": "3.12.4"
  }
 },
 "nbformat": 4,
 "nbformat_minor": 5
}
