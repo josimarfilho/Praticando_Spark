{
 "cells": [
  {
   "cell_type": "markdown",
   "id": "0c9707ab",
   "metadata": {},
   "source": [
    "# Trabalhando com OrderBy"
   ]
  },
  {
   "cell_type": "code",
   "execution_count": null,
   "id": "91317b48",
   "metadata": {},
   "outputs": [],
   "source": [
    "from pyspark.sql import SparkSession\n",
    "import pyspark.sql.functions as F\n",
    "\n",
    "spark = (\n",
    "    SparkSession.builder.appName(\"pyspark_aula_07\")\n",
    "    .config(\"spark.sql.repl.eagerEval.enabled\", True)\n",
    "    .getOrCreate()\n",
    ")\n",
    "\n",
    "df = spark.read.parquet(\"./bases/LOGINS.parquet\")"
   ]
  },
  {
   "cell_type": "code",
   "execution_count": 5,
   "id": "b9483753",
   "metadata": {},
   "outputs": [
    {
     "data": {
      "text/html": [
       "<table border='1'>\n",
       "<tr><th>cpf</th><th>email</th><th>senha</th><th>data_de_nascimento</th><th>estado</th><th>data_cadastro</th><th>ipv4</th><th>cor_favorita</th><th>profissao</th><th>telefone</th></tr>\n",
       "<tr><td>837.021.546-71</td><td>zpinto@yahoo.com.br</td><td>(5R*_#XVDl</td><td>1955-06-08</td><td>RR</td><td>2023-02-06</td><td>52.26.104.153</td><td>Rosa</td><td>Argumentista</td><td>(081) 8099 9690</td></tr>\n",
       "<tr><td>037.862.951-40</td><td>zlopes@gmail.com</td><td>_LYcJLlu&amp;8</td><td>1966-10-15</td><td>RR</td><td>2023-03-14</td><td>64.236.21.52</td><td>Branco</td><td>Ourives</td><td>+55 61 4893 1165</td></tr>\n",
       "<tr><td>398.051.472-23</td><td>zgomes@uol.com.br</td><td>0QZ0RHjHw%</td><td>1945-02-04</td><td>SE</td><td>2023-02-07</td><td>126.249.226.142</td><td>Magenta</td><td>Cadista</td><td>(021) 0775 2915</td></tr>\n",
       "<tr><td>482.063.597-29</td><td>zgomes@uol.com.br</td><td>zIEEb2Oma^</td><td>1990-04-25</td><td>PI</td><td>2023-03-05</td><td>152.70.106.84</td><td>Verde Escuro</td><td>Baterista</td><td>+55 (061) 9491 2341</td></tr>\n",
       "<tr><td>063.581.249-51</td><td>zfernandes@hotmai...</td><td>+I%Lr!wz0(</td><td>1962-08-22</td><td>MT</td><td>2023-02-12</td><td>53.238.78.76</td><td>Azul</td><td>Fundidor De Placa...</td><td>71 1659-6052</td></tr>\n",
       "<tr><td>341.697.025-06</td><td>ypeixoto@yahoo.co...</td><td>&amp;3H*Q_soD4</td><td>1973-12-18</td><td>BA</td><td>2023-03-15</td><td>36.64.228.53</td><td>Verde Claro</td><td>Ferreiro</td><td>0500-012-9429</td></tr>\n",
       "<tr><td>365.841.029-98</td><td>ypeixoto@hotmail.com</td><td>c$8TxYirOu</td><td>1995-06-11</td><td>SE</td><td>2023-03-13</td><td>160.93.14.250</td><td>Magenta</td><td>Engenheiro Cartog...</td><td>0800-480-3407</td></tr>\n",
       "<tr><td>891.034.672-87</td><td>ynogueira@hotmail...</td><td>@3AJHqIWkV</td><td>2021-07-30</td><td>AL</td><td>2023-01-05</td><td>143.134.33.192</td><td>Azul Escuro</td><td>Torneiro Mecânico</td><td>0500-324-4347</td></tr>\n",
       "<tr><td>794.623.805-38</td><td>ymoura@gmail.com</td><td>*bZGnLObY0</td><td>1946-05-30</td><td>AC</td><td>2023-01-02</td><td>22.66.90.218</td><td>Azul Escuro</td><td>Investigador Part...</td><td>(051) 4288 6754</td></tr>\n",
       "<tr><td>561.438.072-80</td><td>ymoraes@ig.com.br</td><td>c(6&amp;FoouMR</td><td>1998-02-23</td><td>AC</td><td>2023-02-15</td><td>8.207.21.132</td><td>Marrom</td><td>Odontologista Pre...</td><td>(061) 5069 4948</td></tr>\n",
       "<tr><td>054.681.327-53</td><td>ymelo@ig.com.br</td><td>_&amp;(RxJ@b9i</td><td>1941-11-13</td><td>MA</td><td>2023-01-21</td><td>177.136.210.154</td><td>Cinza</td><td>Argumentista</td><td>11 9674-4969</td></tr>\n",
       "<tr><td>854.209.361-51</td><td>ylima@yahoo.com.br</td><td>(w&amp;9QnOv#B</td><td>1954-07-28</td><td>PI</td><td>2023-03-01</td><td>129.24.96.93</td><td>Cinza</td><td>Dj</td><td>(081) 0026 6407</td></tr>\n",
       "<tr><td>974.612.805-11</td><td>yferreira@uol.com.br</td><td>#2KsZ_zn_P</td><td>1981-02-05</td><td>SP</td><td>2023-01-31</td><td>110.94.27.112</td><td>Verde Claro</td><td>Moldador</td><td>+55 (051) 2735 3651</td></tr>\n",
       "<tr><td>562.713.480-17</td><td>ydas-neves@bol.co...</td><td>p@0Ukod4xl</td><td>1940-03-12</td><td>SC</td><td>2023-02-22</td><td>150.110.65.174</td><td>Amarelo</td><td>Técnico Em Rede</td><td>(071) 1865 1558</td></tr>\n",
       "<tr><td>947.615.238-91</td><td>yda-paz@bol.com.br</td><td>wVmsBsEn@4</td><td>1950-11-29</td><td>SC</td><td>2023-02-13</td><td>100.172.217.120</td><td>Magenta</td><td>Surfista</td><td>+55 41 6990 8024</td></tr>\n",
       "<tr><td>395.184.760-39</td><td>yda-luz@uol.com.br</td><td>6^8)1tranG</td><td>1940-09-12</td><td>AM</td><td>2023-01-31</td><td>40.183.73.149</td><td>Marrom</td><td>Tintureiro</td><td>(021) 2493 8417</td></tr>\n",
       "<tr><td>096.741.853-48</td><td>yda-costa@uol.com.br</td><td>x7J&amp;2$a2(7</td><td>2018-08-06</td><td>RS</td><td>2023-03-09</td><td>34.94.78.134</td><td>Branco</td><td>Técnico Em Arquivo</td><td>+55 (081) 5917 4735</td></tr>\n",
       "<tr><td>076.541.328-08</td><td>ycorreia@yahoo.co...</td><td>N6S1Xk0YD)</td><td>2003-07-25</td><td>SP</td><td>2023-02-22</td><td>108.16.1.197</td><td>Magenta</td><td>Jogador De Handebol</td><td>+55 71 9877-2831</td></tr>\n",
       "<tr><td>126.958.304-24</td><td>ycavalcanti@bol.c...</td><td>xoKn)JSQ^7</td><td>2006-10-28</td><td>AM</td><td>2023-02-21</td><td>146.140.176.146</td><td>Azul</td><td>Patinador</td><td>0800-596-5498</td></tr>\n",
       "<tr><td>134.985.067-57</td><td>yago35@bol.com.br</td><td>Mcp&amp;6MYtbL</td><td>1993-12-03</td><td>PE</td><td>2023-02-14</td><td>10.67.124.77</td><td>Magenta</td><td>Engenheiro Mecatr...</td><td>81 5269-9143</td></tr>\n",
       "</table>\n",
       "only showing top 20 rows\n"
      ],
      "text/plain": [
       "+--------------+--------------------+----------+------------------+------+-------------+---------------+------------+--------------------+-------------------+\n",
       "|           cpf|               email|     senha|data_de_nascimento|estado|data_cadastro|           ipv4|cor_favorita|           profissao|           telefone|\n",
       "+--------------+--------------------+----------+------------------+------+-------------+---------------+------------+--------------------+-------------------+\n",
       "|837.021.546-71| zpinto@yahoo.com.br|(5R*_#XVDl|        1955-06-08|    RR|   2023-02-06|  52.26.104.153|        Rosa|        Argumentista|    (081) 8099 9690|\n",
       "|037.862.951-40|    zlopes@gmail.com|_LYcJLlu&8|        1966-10-15|    RR|   2023-03-14|   64.236.21.52|      Branco|             Ourives|   +55 61 4893 1165|\n",
       "|398.051.472-23|   zgomes@uol.com.br|0QZ0RHjHw%|        1945-02-04|    SE|   2023-02-07|126.249.226.142|     Magenta|             Cadista|    (021) 0775 2915|\n",
       "|482.063.597-29|   zgomes@uol.com.br|zIEEb2Oma^|        1990-04-25|    PI|   2023-03-05|  152.70.106.84|Verde Escuro|           Baterista|+55 (061) 9491 2341|\n",
       "|063.581.249-51|zfernandes@hotmai...|+I%Lr!wz0(|        1962-08-22|    MT|   2023-02-12|   53.238.78.76|        Azul|Fundidor De Placa...|       71 1659-6052|\n",
       "|341.697.025-06|ypeixoto@yahoo.co...|&3H*Q_soD4|        1973-12-18|    BA|   2023-03-15|   36.64.228.53| Verde Claro|            Ferreiro|      0500-012-9429|\n",
       "|365.841.029-98|ypeixoto@hotmail.com|c$8TxYirOu|        1995-06-11|    SE|   2023-03-13|  160.93.14.250|     Magenta|Engenheiro Cartog...|      0800-480-3407|\n",
       "|891.034.672-87|ynogueira@hotmail...|@3AJHqIWkV|        2021-07-30|    AL|   2023-01-05| 143.134.33.192| Azul Escuro|   Torneiro Mecânico|      0500-324-4347|\n",
       "|794.623.805-38|    ymoura@gmail.com|*bZGnLObY0|        1946-05-30|    AC|   2023-01-02|   22.66.90.218| Azul Escuro|Investigador Part...|    (051) 4288 6754|\n",
       "|561.438.072-80|   ymoraes@ig.com.br|c(6&FoouMR|        1998-02-23|    AC|   2023-02-15|   8.207.21.132|      Marrom|Odontologista Pre...|    (061) 5069 4948|\n",
       "|054.681.327-53|     ymelo@ig.com.br|_&(RxJ@b9i|        1941-11-13|    MA|   2023-01-21|177.136.210.154|       Cinza|        Argumentista|       11 9674-4969|\n",
       "|854.209.361-51|  ylima@yahoo.com.br|(w&9QnOv#B|        1954-07-28|    PI|   2023-03-01|   129.24.96.93|       Cinza|                  Dj|    (081) 0026 6407|\n",
       "|974.612.805-11|yferreira@uol.com.br|#2KsZ_zn_P|        1981-02-05|    SP|   2023-01-31|  110.94.27.112| Verde Claro|            Moldador|+55 (051) 2735 3651|\n",
       "|562.713.480-17|ydas-neves@bol.co...|p@0Ukod4xl|        1940-03-12|    SC|   2023-02-22| 150.110.65.174|     Amarelo|     Técnico Em Rede|    (071) 1865 1558|\n",
       "|947.615.238-91|  yda-paz@bol.com.br|wVmsBsEn@4|        1950-11-29|    SC|   2023-02-13|100.172.217.120|     Magenta|            Surfista|   +55 41 6990 8024|\n",
       "|395.184.760-39|  yda-luz@uol.com.br|6^8)1tranG|        1940-09-12|    AM|   2023-01-31|  40.183.73.149|      Marrom|          Tintureiro|    (021) 2493 8417|\n",
       "|096.741.853-48|yda-costa@uol.com.br|x7J&2$a2(7|        2018-08-06|    RS|   2023-03-09|   34.94.78.134|      Branco|  Técnico Em Arquivo|+55 (081) 5917 4735|\n",
       "|076.541.328-08|ycorreia@yahoo.co...|N6S1Xk0YD)|        2003-07-25|    SP|   2023-02-22|   108.16.1.197|     Magenta| Jogador De Handebol|   +55 71 9877-2831|\n",
       "|126.958.304-24|ycavalcanti@bol.c...|xoKn)JSQ^7|        2006-10-28|    AM|   2023-02-21|146.140.176.146|        Azul|           Patinador|      0800-596-5498|\n",
       "|134.985.067-57|   yago35@bol.com.br|Mcp&6MYtbL|        1993-12-03|    PE|   2023-02-14|   10.67.124.77|     Magenta|Engenheiro Mecatr...|       81 5269-9143|\n",
       "+--------------+--------------------+----------+------------------+------+-------------+---------------+------------+--------------------+-------------------+\n",
       "only showing top 20 rows"
      ]
     },
     "execution_count": 5,
     "metadata": {},
     "output_type": "execute_result"
    }
   ],
   "source": [
    "df.orderBy(F.desc('email'))"
   ]
  }
 ],
 "metadata": {
  "kernelspec": {
   "display_name": ".venv",
   "language": "python",
   "name": "python3"
  },
  "language_info": {
   "codemirror_mode": {
    "name": "ipython",
    "version": 3
   },
   "file_extension": ".py",
   "mimetype": "text/x-python",
   "name": "python",
   "nbconvert_exporter": "python",
   "pygments_lexer": "ipython3",
   "version": "3.12.4"
  }
 },
 "nbformat": 4,
 "nbformat_minor": 5
}
