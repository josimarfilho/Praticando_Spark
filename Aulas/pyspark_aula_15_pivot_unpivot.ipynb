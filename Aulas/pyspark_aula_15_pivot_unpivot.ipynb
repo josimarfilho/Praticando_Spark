{
 "cells": [
  {
   "cell_type": "code",
   "execution_count": 1,
   "id": "a3da0741",
   "metadata": {},
   "outputs": [],
   "source": [
    "from pyspark.sql import SparkSession\n",
    "import pyspark.sql.functions as F\n",
    "\n",
    "spark = (\n",
    "    SparkSession.builder.appName(\"pyspark_aula_12\")\n",
    "    .config(\"spark.sql.repl.eagerEval.enabled\", True)\n",
    "    .getOrCreate()\n",
    ")"
   ]
  },
  {
   "cell_type": "code",
   "execution_count": 2,
   "id": "75be4918",
   "metadata": {},
   "outputs": [],
   "source": [
    "df = spark.read.parquet(\"./bases/COMPRAS.parquet\")"
   ]
  },
  {
   "cell_type": "markdown",
   "id": "af27b419",
   "metadata": {},
   "source": [
    "# Pivot"
   ]
  },
  {
   "cell_type": "code",
   "execution_count": 3,
   "id": "794a30ed",
   "metadata": {},
   "outputs": [],
   "source": [
    "df2 = (\n",
    "    df\n",
    "    .withColumn('mes', F.date_format('data', 'MMMM'))\n",
    "    .groupBy('cartao_bandeira')\n",
    "    .pivot('mes',['January', 'February'])\n",
    "    .agg(F.count('*'))\n",
    ")"
   ]
  },
  {
   "cell_type": "code",
   "execution_count": 4,
   "id": "e90aaf6a",
   "metadata": {},
   "outputs": [
    {
     "data": {
      "text/html": [
       "<table border='1'>\n",
       "<tr><th>cartao_bandeira</th><th>January</th><th>February</th></tr>\n",
       "<tr><td>VISA 16 digit</td><td>878</td><td>772</td></tr>\n",
       "<tr><td>VISA 13 digit</td><td>420</td><td>350</td></tr>\n",
       "<tr><td>Discover</td><td>454</td><td>406</td></tr>\n",
       "<tr><td>Diners Club / Car...</td><td>397</td><td>395</td></tr>\n",
       "<tr><td>American Express</td><td>385</td><td>353</td></tr>\n",
       "<tr><td>Maestro</td><td>424</td><td>374</td></tr>\n",
       "<tr><td>Mastercard</td><td>415</td><td>359</td></tr>\n",
       "<tr><td>JCB 16 digit</td><td>835</td><td>756</td></tr>\n",
       "<tr><td>VISA 19 digit</td><td>437</td><td>388</td></tr>\n",
       "<tr><td>JCB 15 digit</td><td>386</td><td>374</td></tr>\n",
       "</table>\n"
      ],
      "text/plain": [
       "+--------------------+-------+--------+\n",
       "|     cartao_bandeira|January|February|\n",
       "+--------------------+-------+--------+\n",
       "|       VISA 16 digit|    878|     772|\n",
       "|       VISA 13 digit|    420|     350|\n",
       "|            Discover|    454|     406|\n",
       "|Diners Club / Car...|    397|     395|\n",
       "|    American Express|    385|     353|\n",
       "|             Maestro|    424|     374|\n",
       "|          Mastercard|    415|     359|\n",
       "|        JCB 16 digit|    835|     756|\n",
       "|       VISA 19 digit|    437|     388|\n",
       "|        JCB 15 digit|    386|     374|\n",
       "+--------------------+-------+--------+"
      ]
     },
     "execution_count": 4,
     "metadata": {},
     "output_type": "execute_result"
    }
   ],
   "source": [
    "df2"
   ]
  },
  {
   "cell_type": "markdown",
   "id": "63897d90",
   "metadata": {},
   "source": [
    "# UNPIVOT"
   ]
  },
  {
   "cell_type": "code",
   "execution_count": 22,
   "id": "b7b2fe26",
   "metadata": {},
   "outputs": [
    {
     "data": {
      "text/html": [
       "<table border='1'>\n",
       "<tr><th>cartao_bandeira</th><th>mes</th><th>valorees</th></tr>\n",
       "<tr><td>VISA 16 digit</td><td>Jan</td><td>878</td></tr>\n",
       "<tr><td>VISA 16 digit</td><td>Feb</td><td>772</td></tr>\n",
       "<tr><td>VISA 13 digit</td><td>Jan</td><td>420</td></tr>\n",
       "<tr><td>VISA 13 digit</td><td>Feb</td><td>350</td></tr>\n",
       "<tr><td>Discover</td><td>Jan</td><td>454</td></tr>\n",
       "<tr><td>Discover</td><td>Feb</td><td>406</td></tr>\n",
       "<tr><td>Diners Club / Car...</td><td>Jan</td><td>397</td></tr>\n",
       "<tr><td>Diners Club / Car...</td><td>Feb</td><td>395</td></tr>\n",
       "<tr><td>American Express</td><td>Jan</td><td>385</td></tr>\n",
       "<tr><td>American Express</td><td>Feb</td><td>353</td></tr>\n",
       "<tr><td>Maestro</td><td>Jan</td><td>424</td></tr>\n",
       "<tr><td>Maestro</td><td>Feb</td><td>374</td></tr>\n",
       "<tr><td>Mastercard</td><td>Jan</td><td>415</td></tr>\n",
       "<tr><td>Mastercard</td><td>Feb</td><td>359</td></tr>\n",
       "<tr><td>JCB 16 digit</td><td>Jan</td><td>835</td></tr>\n",
       "<tr><td>JCB 16 digit</td><td>Feb</td><td>756</td></tr>\n",
       "<tr><td>VISA 19 digit</td><td>Jan</td><td>437</td></tr>\n",
       "<tr><td>VISA 19 digit</td><td>Feb</td><td>388</td></tr>\n",
       "<tr><td>JCB 15 digit</td><td>Jan</td><td>386</td></tr>\n",
       "<tr><td>JCB 15 digit</td><td>Feb</td><td>374</td></tr>\n",
       "</table>\n"
      ],
      "text/plain": [
       "+--------------------+---+--------+\n",
       "|     cartao_bandeira|mes|valorees|\n",
       "+--------------------+---+--------+\n",
       "|       VISA 16 digit|Jan|     878|\n",
       "|       VISA 16 digit|Feb|     772|\n",
       "|       VISA 13 digit|Jan|     420|\n",
       "|       VISA 13 digit|Feb|     350|\n",
       "|            Discover|Jan|     454|\n",
       "|            Discover|Feb|     406|\n",
       "|Diners Club / Car...|Jan|     397|\n",
       "|Diners Club / Car...|Feb|     395|\n",
       "|    American Express|Jan|     385|\n",
       "|    American Express|Feb|     353|\n",
       "|             Maestro|Jan|     424|\n",
       "|             Maestro|Feb|     374|\n",
       "|          Mastercard|Jan|     415|\n",
       "|          Mastercard|Feb|     359|\n",
       "|        JCB 16 digit|Jan|     835|\n",
       "|        JCB 16 digit|Feb|     756|\n",
       "|       VISA 19 digit|Jan|     437|\n",
       "|       VISA 19 digit|Feb|     388|\n",
       "|        JCB 15 digit|Jan|     386|\n",
       "|        JCB 15 digit|Feb|     374|\n",
       "+--------------------+---+--------+"
      ]
     },
     "execution_count": 22,
     "metadata": {},
     "output_type": "execute_result"
    }
   ],
   "source": [
    "df2.select('cartao_bandeira', F.expr('stack(2, \"Jan\", January, \"Feb\", February) as (mes, valorees)'))"
   ]
  }
 ],
 "metadata": {
  "kernelspec": {
   "display_name": ".venv",
   "language": "python",
   "name": "python3"
  },
  "language_info": {
   "codemirror_mode": {
    "name": "ipython",
    "version": 3
   },
   "file_extension": ".py",
   "mimetype": "text/x-python",
   "name": "python",
   "nbconvert_exporter": "python",
   "pygments_lexer": "ipython3",
   "version": "3.12.4"
  }
 },
 "nbformat": 4,
 "nbformat_minor": 5
}
