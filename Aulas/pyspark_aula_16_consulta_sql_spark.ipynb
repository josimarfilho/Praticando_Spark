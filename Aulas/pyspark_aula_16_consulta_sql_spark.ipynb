{
 "cells": [
  {
   "cell_type": "code",
   "execution_count": 1,
   "id": "aef05284",
   "metadata": {},
   "outputs": [],
   "source": [
    "from pyspark.sql import SparkSession\n",
    "import pyspark.sql.functions as F\n",
    "\n",
    "spark = (\n",
    "    SparkSession.builder.appName(\"pyspark_aula_12\")\n",
    "    .config(\"spark.sql.repl.eagerEval.enabled\", True)\n",
    "    .getOrCreate()\n",
    ")"
   ]
  },
  {
   "cell_type": "code",
   "execution_count": null,
   "id": "18e80221",
   "metadata": {},
   "outputs": [],
   "source": [
    "df = spark.read.parquet(\"./bases/LOGINS.parquet\")"
   ]
  },
  {
   "cell_type": "markdown",
   "id": "1126b6a2",
   "metadata": {},
   "source": [
    "# Filtrando com PySpark "
   ]
  },
  {
   "cell_type": "code",
   "execution_count": 5,
   "id": "c8321b25",
   "metadata": {},
   "outputs": [
    {
     "data": {
      "text/html": [
       "<table border='1'>\n",
       "<tr><th>cpf</th><th>email</th><th>senha</th><th>data_de_nascimento</th><th>estado</th><th>data_cadastro</th><th>ipv4</th><th>cor_favorita</th><th>profissao</th><th>telefone</th></tr>\n",
       "<tr><td>875.130.249-79</td><td>da-rocharebeca@ho...</td><td>FlOoH0I6)6</td><td>1972-10-05</td><td>PE</td><td>2023-02-11</td><td>126.171.28.31</td><td>Violeta</td><td>Modelista</td><td>+55 84 1130-9822</td></tr>\n",
       "<tr><td>047.528.369-47</td><td>almeidaevelyn@gma...</td><td>@8JmQG4t@x</td><td>1980-11-13</td><td>AL</td><td>2023-02-15</td><td>92.65.10.245</td><td>Marrom</td><td>Paisagista</td><td>+55 (084) 8760-9088</td></tr>\n",
       "<tr><td>089.462.357-56</td><td>vitoria83@ig.com.br</td><td>(8gXQeIeA3</td><td>2014-11-18</td><td>AL</td><td>2023-02-24</td><td>182.161.33.191</td><td>Marrom</td><td>Oculista</td><td>+55 (084) 8655 2371</td></tr>\n",
       "<tr><td>308.942.751-60</td><td>hpires@gmail.com</td><td>#^yq9HIt0h</td><td>1996-03-08</td><td>PE</td><td>2023-02-14</td><td>139.209.144.207</td><td>Ciano</td><td>Estofador</td><td>+55 31 1784 8068</td></tr>\n",
       "<tr><td>149.857.260-01</td><td>mda-costa@hotmail...</td><td>4hf6EYFb$m</td><td>2005-08-07</td><td>AL</td><td>2023-01-08</td><td>101.34.19.246</td><td>Rosa</td><td>Gagsman</td><td>0800 183 2070</td></tr>\n",
       "</table>\n"
      ],
      "text/plain": [
       "+--------------+--------------------+----------+------------------+------+-------------+---------------+------------+----------+-------------------+\n",
       "|           cpf|               email|     senha|data_de_nascimento|estado|data_cadastro|           ipv4|cor_favorita| profissao|           telefone|\n",
       "+--------------+--------------------+----------+------------------+------+-------------+---------------+------------+----------+-------------------+\n",
       "|875.130.249-79|da-rocharebeca@ho...|FlOoH0I6)6|        1972-10-05|    PE|   2023-02-11|  126.171.28.31|     Violeta| Modelista|   +55 84 1130-9822|\n",
       "|047.528.369-47|almeidaevelyn@gma...|@8JmQG4t@x|        1980-11-13|    AL|   2023-02-15|   92.65.10.245|      Marrom|Paisagista|+55 (084) 8760-9088|\n",
       "|089.462.357-56| vitoria83@ig.com.br|(8gXQeIeA3|        2014-11-18|    AL|   2023-02-24| 182.161.33.191|      Marrom|  Oculista|+55 (084) 8655 2371|\n",
       "|308.942.751-60|    hpires@gmail.com|#^yq9HIt0h|        1996-03-08|    PE|   2023-02-14|139.209.144.207|       Ciano| Estofador|   +55 31 1784 8068|\n",
       "|149.857.260-01|mda-costa@hotmail...|4hf6EYFb$m|        2005-08-07|    AL|   2023-01-08|  101.34.19.246|        Rosa|   Gagsman|      0800 183 2070|\n",
       "+--------------+--------------------+----------+------------------+------+-------------+---------------+------------+----------+-------------------+"
      ]
     },
     "execution_count": 5,
     "metadata": {},
     "output_type": "execute_result"
    }
   ],
   "source": [
    "df.where(F.col('estado').isin('PB', 'PE', 'AL')).limit(5)"
   ]
  },
  {
   "cell_type": "markdown",
   "id": "284a5ec3",
   "metadata": {},
   "source": [
    "# Filtrando com SQL"
   ]
  },
  {
   "cell_type": "code",
   "execution_count": 11,
   "id": "252cd439",
   "metadata": {},
   "outputs": [
    {
     "data": {
      "text/html": [
       "<table border='1'>\n",
       "<tr><th>cpf</th><th>email</th><th>senha</th><th>data_de_nascimento</th><th>estado</th><th>data_cadastro</th><th>ipv4</th><th>cor_favorita</th><th>profissao</th><th>telefone</th></tr>\n",
       "<tr><td>875.130.249-79</td><td>da-rocharebeca@ho...</td><td>FlOoH0I6)6</td><td>1972-10-05</td><td>PE</td><td>2023-02-11</td><td>126.171.28.31</td><td>Violeta</td><td>Modelista</td><td>+55 84 1130-9822</td></tr>\n",
       "<tr><td>047.528.369-47</td><td>almeidaevelyn@gma...</td><td>@8JmQG4t@x</td><td>1980-11-13</td><td>AL</td><td>2023-02-15</td><td>92.65.10.245</td><td>Marrom</td><td>Paisagista</td><td>+55 (084) 8760-9088</td></tr>\n",
       "<tr><td>089.462.357-56</td><td>vitoria83@ig.com.br</td><td>(8gXQeIeA3</td><td>2014-11-18</td><td>AL</td><td>2023-02-24</td><td>182.161.33.191</td><td>Marrom</td><td>Oculista</td><td>+55 (084) 8655 2371</td></tr>\n",
       "<tr><td>308.942.751-60</td><td>hpires@gmail.com</td><td>#^yq9HIt0h</td><td>1996-03-08</td><td>PE</td><td>2023-02-14</td><td>139.209.144.207</td><td>Ciano</td><td>Estofador</td><td>+55 31 1784 8068</td></tr>\n",
       "<tr><td>149.857.260-01</td><td>mda-costa@hotmail...</td><td>4hf6EYFb$m</td><td>2005-08-07</td><td>AL</td><td>2023-01-08</td><td>101.34.19.246</td><td>Rosa</td><td>Gagsman</td><td>0800 183 2070</td></tr>\n",
       "</table>\n"
      ],
      "text/plain": [
       "+--------------+--------------------+----------+------------------+------+-------------+---------------+------------+----------+-------------------+\n",
       "|           cpf|               email|     senha|data_de_nascimento|estado|data_cadastro|           ipv4|cor_favorita| profissao|           telefone|\n",
       "+--------------+--------------------+----------+------------------+------+-------------+---------------+------------+----------+-------------------+\n",
       "|875.130.249-79|da-rocharebeca@ho...|FlOoH0I6)6|        1972-10-05|    PE|   2023-02-11|  126.171.28.31|     Violeta| Modelista|   +55 84 1130-9822|\n",
       "|047.528.369-47|almeidaevelyn@gma...|@8JmQG4t@x|        1980-11-13|    AL|   2023-02-15|   92.65.10.245|      Marrom|Paisagista|+55 (084) 8760-9088|\n",
       "|089.462.357-56| vitoria83@ig.com.br|(8gXQeIeA3|        2014-11-18|    AL|   2023-02-24| 182.161.33.191|      Marrom|  Oculista|+55 (084) 8655 2371|\n",
       "|308.942.751-60|    hpires@gmail.com|#^yq9HIt0h|        1996-03-08|    PE|   2023-02-14|139.209.144.207|       Ciano| Estofador|   +55 31 1784 8068|\n",
       "|149.857.260-01|mda-costa@hotmail...|4hf6EYFb$m|        2005-08-07|    AL|   2023-01-08|  101.34.19.246|        Rosa|   Gagsman|      0800 183 2070|\n",
       "+--------------+--------------------+----------+------------------+------+-------------+---------------+------------+----------+-------------------+"
      ]
     },
     "execution_count": 11,
     "metadata": {},
     "output_type": "execute_result"
    }
   ],
   "source": [
    "spark.sql('''\n",
    "    select * \n",
    "    from {tabela}\n",
    "    where estado in ('PB', 'PE', 'AL')\n",
    "    ''', tabela=df).limit(5)"
   ]
  },
  {
   "cell_type": "markdown",
   "id": "5d761c69",
   "metadata": {},
   "source": [
    "#### Existe a opção de criar uma tabela para ser usada no SQL sem a necessidade de utilizar como parametro"
   ]
  },
  {
   "cell_type": "code",
   "execution_count": 12,
   "id": "290b9715",
   "metadata": {},
   "outputs": [],
   "source": [
    "tabela_pb = df.where(F.col('estado') == 'PB')\n",
    "tabela_pe = df.where(F.col('estado') == 'PE')\n",
    "tabela_al = df.where(F.col('estado') == 'AL')"
   ]
  },
  {
   "cell_type": "code",
   "execution_count": 13,
   "id": "14ac8a5c",
   "metadata": {},
   "outputs": [
    {
     "name": "stderr",
     "output_type": "stream",
     "text": [
      "d:\\AMBIENTE DE PROJETOS\\Anaconda_pySpark\\DATASETS\\.venv\\Lib\\site-packages\\pyspark\\sql\\dataframe.py:229: FutureWarning: Deprecated in 2.0, use createOrReplaceTempView instead.\n",
      "  warnings.warn(\"Deprecated in 2.0, use createOrReplaceTempView instead.\", FutureWarning)\n"
     ]
    }
   ],
   "source": [
    "tabela_pb.registerTempTable('tabela_pb')\n",
    "tabela_pe.registerTempTable('tabela_pe')\n",
    "tabela_al.registerTempTable('tabela_al')"
   ]
  },
  {
   "cell_type": "code",
   "execution_count": 14,
   "id": "d2ccf8a8",
   "metadata": {},
   "outputs": [
    {
     "data": {
      "text/html": [
       "<table border='1'>\n",
       "<tr><th>cpf</th><th>email</th><th>senha</th><th>data_de_nascimento</th><th>estado</th><th>data_cadastro</th><th>ipv4</th><th>cor_favorita</th><th>profissao</th><th>telefone</th></tr>\n",
       "<tr><td>023.965.814-06</td><td>daniela34@ig.com.br</td><td>a6erVAf%)9</td><td>1924-10-14</td><td>PB</td><td>2023-01-03</td><td>204.207.148.123</td><td>Amarelo</td><td>Ortodontista</td><td>+55 31 5756 9535</td></tr>\n",
       "<tr><td>189.462.350-98</td><td>onunes@hotmail.com</td><td>pIKUqi2)!5</td><td>1951-05-15</td><td>PB</td><td>2023-01-11</td><td>198.91.114.111</td><td>Laranja</td><td>Político</td><td>0800-590-6357</td></tr>\n",
       "<tr><td>279.430.816-50</td><td>gmartins@bol.com.br</td><td>_d3VPWjvc2</td><td>1941-07-24</td><td>PB</td><td>2023-01-27</td><td>167.248.54.174</td><td>Azul Escuro</td><td>Tecnólogo Em Proc...</td><td>+55 21 0579-4147</td></tr>\n",
       "<tr><td>518.490.623-15</td><td>ana08@yahoo.com.br</td><td>Dg9epjTlI)</td><td>2003-10-20</td><td>PB</td><td>2023-02-02</td><td>104.37.135.232</td><td>Marrom</td><td>Skatista</td><td>+55 (021) 4307 4419</td></tr>\n",
       "<tr><td>162.047.598-76</td><td>stephany89@hotmai...</td><td>t%^1USz$DN</td><td>1944-06-16</td><td>PB</td><td>2023-02-01</td><td>68.193.32.227</td><td>Magenta</td><td>Cartunista</td><td>(071) 3336 6068</td></tr>\n",
       "<tr><td>785.469.302-10</td><td>martinsbeatriz@uo...</td><td>tn0qTo9$&amp;N</td><td>1969-09-24</td><td>PB</td><td>2023-01-05</td><td>123.135.60.13</td><td>Verde Claro</td><td>Copeiro</td><td>71 0790-7505</td></tr>\n",
       "<tr><td>672.549.308-47</td><td>sarah76@bol.com.br</td><td>V^a2T8%p)$</td><td>1912-03-17</td><td>PB</td><td>2023-03-03</td><td>4.68.100.185</td><td>Amarelo</td><td>Tecnólogo Em Proc...</td><td>51 3990 9542</td></tr>\n",
       "<tr><td>285.609.317-59</td><td>claricerocha@gmai...</td><td>aT@4HKEkUI</td><td>1964-11-21</td><td>PB</td><td>2023-03-14</td><td>29.171.64.135</td><td>Laranja</td><td>Peão De Rodeiro</td><td>+55 11 6134-3382</td></tr>\n",
       "<tr><td>295.031.768-59</td><td>piresenzo-gabriel...</td><td>I2!Te0r_#P</td><td>1958-03-28</td><td>PB</td><td>2023-01-10</td><td>94.51.224.152</td><td>Amarelo</td><td>Espeleologista</td><td>0500-415-3076</td></tr>\n",
       "<tr><td>968.031.572-02</td><td>correialeticia@ho...</td><td>F+0Gl&amp;gOLj</td><td>2015-02-19</td><td>PB</td><td>2023-01-28</td><td>137.121.8.37</td><td>Ciano</td><td>Psiquiatra</td><td>61 3171 0390</td></tr>\n",
       "<tr><td>368.250.974-74</td><td>gfernandes@ig.com.br</td><td>vlJ35Dhx+_</td><td>1946-08-30</td><td>PB</td><td>2023-03-06</td><td>39.229.21.9</td><td>Branco</td><td>Nefrologista</td><td>(081) 1668-0671</td></tr>\n",
       "<tr><td>368.290.754-83</td><td>vianalaura@bol.co...</td><td>j1YtLeOs!3</td><td>2007-08-21</td><td>PB</td><td>2023-02-03</td><td>13.48.10.2</td><td>Magenta</td><td>Engenheiro Mecatr...</td><td>21 9084 1048</td></tr>\n",
       "<tr><td>367.408.952-10</td><td>eduarda90@ig.com.br</td><td>1ZCXbqif!Q</td><td>1923-04-29</td><td>PB</td><td>2023-02-02</td><td>190.97.27.99</td><td>Rosa</td><td>Atleta De Arremes...</td><td>+55 (031) 1407 8991</td></tr>\n",
       "<tr><td>718.526.309-30</td><td>xsales@uol.com.br</td><td>8Z6q5QCzN!</td><td>1994-04-03</td><td>PB</td><td>2023-01-30</td><td>117.171.210.60</td><td>Azul Escuro</td><td>Faxineiro</td><td>+55 31 7767 7960</td></tr>\n",
       "<tr><td>735.169.048-01</td><td>fernandaviana@gma...</td><td>9tR^6Wqagl</td><td>1929-03-02</td><td>PB</td><td>2023-02-04</td><td>126.184.239.121</td><td>Azul</td><td>Tecnólogo Em Espo...</td><td>+55 (011) 8742 5441</td></tr>\n",
       "<tr><td>104.958.726-01</td><td>cunhajuliana@ig.c...</td><td>!oS3zb3&amp;t3</td><td>1938-12-09</td><td>PB</td><td>2023-02-02</td><td>159.189.154.242</td><td>Azul Escuro</td><td>Bioquímico</td><td>(061) 7110 9766</td></tr>\n",
       "<tr><td>042.185.693-98</td><td>ramosmaria-vitori...</td><td>%F4ZTe9fN@</td><td>1910-01-11</td><td>PB</td><td>2023-01-17</td><td>112.163.112.71</td><td>Azul</td><td>Toxicologista</td><td>+55 (071) 8276-0640</td></tr>\n",
       "<tr><td>759.816.034-10</td><td>sophiapinto@gmail...</td><td>!A@6AELeOV</td><td>1973-10-01</td><td>PB</td><td>2023-02-22</td><td>140.162.175.20</td><td>Amarelo</td><td>Cinematográfo</td><td>+55 61 3425-9225</td></tr>\n",
       "<tr><td>963.542.718-28</td><td>lunada-cruz@bol.c...</td><td>(Z5WkfrP$c</td><td>2000-06-13</td><td>PB</td><td>2023-01-27</td><td>129.148.149.12</td><td>Roxo</td><td>Advogado</td><td>+55 84 3978 9135</td></tr>\n",
       "<tr><td>186.942.307-04</td><td>usouza@uol.com.br</td><td>vQ0Ku@T$%I</td><td>1908-09-28</td><td>PB</td><td>2023-02-16</td><td>37.20.9.87</td><td>Magenta</td><td>Matemático</td><td>(021) 1526-5985</td></tr>\n",
       "</table>\n",
       "only showing top 20 rows\n"
      ],
      "text/plain": [
       "+--------------+--------------------+----------+------------------+------+-------------+---------------+------------+--------------------+-------------------+\n",
       "|           cpf|               email|     senha|data_de_nascimento|estado|data_cadastro|           ipv4|cor_favorita|           profissao|           telefone|\n",
       "+--------------+--------------------+----------+------------------+------+-------------+---------------+------------+--------------------+-------------------+\n",
       "|023.965.814-06| daniela34@ig.com.br|a6erVAf%)9|        1924-10-14|    PB|   2023-01-03|204.207.148.123|     Amarelo|        Ortodontista|   +55 31 5756 9535|\n",
       "|189.462.350-98|  onunes@hotmail.com|pIKUqi2)!5|        1951-05-15|    PB|   2023-01-11| 198.91.114.111|     Laranja|            Político|      0800-590-6357|\n",
       "|279.430.816-50| gmartins@bol.com.br|_d3VPWjvc2|        1941-07-24|    PB|   2023-01-27| 167.248.54.174| Azul Escuro|Tecnólogo Em Proc...|   +55 21 0579-4147|\n",
       "|518.490.623-15|  ana08@yahoo.com.br|Dg9epjTlI)|        2003-10-20|    PB|   2023-02-02| 104.37.135.232|      Marrom|            Skatista|+55 (021) 4307 4419|\n",
       "|162.047.598-76|stephany89@hotmai...|t%^1USz$DN|        1944-06-16|    PB|   2023-02-01|  68.193.32.227|     Magenta|          Cartunista|    (071) 3336 6068|\n",
       "|785.469.302-10|martinsbeatriz@uo...|tn0qTo9$&N|        1969-09-24|    PB|   2023-01-05|  123.135.60.13| Verde Claro|             Copeiro|       71 0790-7505|\n",
       "|672.549.308-47|  sarah76@bol.com.br|V^a2T8%p)$|        1912-03-17|    PB|   2023-03-03|   4.68.100.185|     Amarelo|Tecnólogo Em Proc...|       51 3990 9542|\n",
       "|285.609.317-59|claricerocha@gmai...|aT@4HKEkUI|        1964-11-21|    PB|   2023-03-14|  29.171.64.135|     Laranja|     Peão De Rodeiro|   +55 11 6134-3382|\n",
       "|295.031.768-59|piresenzo-gabriel...|I2!Te0r_#P|        1958-03-28|    PB|   2023-01-10|  94.51.224.152|     Amarelo|      Espeleologista|      0500-415-3076|\n",
       "|968.031.572-02|correialeticia@ho...|F+0Gl&gOLj|        2015-02-19|    PB|   2023-01-28|   137.121.8.37|       Ciano|          Psiquiatra|       61 3171 0390|\n",
       "|368.250.974-74|gfernandes@ig.com.br|vlJ35Dhx+_|        1946-08-30|    PB|   2023-03-06|    39.229.21.9|      Branco|        Nefrologista|    (081) 1668-0671|\n",
       "|368.290.754-83|vianalaura@bol.co...|j1YtLeOs!3|        2007-08-21|    PB|   2023-02-03|     13.48.10.2|     Magenta|Engenheiro Mecatr...|       21 9084 1048|\n",
       "|367.408.952-10| eduarda90@ig.com.br|1ZCXbqif!Q|        1923-04-29|    PB|   2023-02-02|   190.97.27.99|        Rosa|Atleta De Arremes...|+55 (031) 1407 8991|\n",
       "|718.526.309-30|   xsales@uol.com.br|8Z6q5QCzN!|        1994-04-03|    PB|   2023-01-30| 117.171.210.60| Azul Escuro|           Faxineiro|   +55 31 7767 7960|\n",
       "|735.169.048-01|fernandaviana@gma...|9tR^6Wqagl|        1929-03-02|    PB|   2023-02-04|126.184.239.121|        Azul|Tecnólogo Em Espo...|+55 (011) 8742 5441|\n",
       "|104.958.726-01|cunhajuliana@ig.c...|!oS3zb3&t3|        1938-12-09|    PB|   2023-02-02|159.189.154.242| Azul Escuro|          Bioquímico|    (061) 7110 9766|\n",
       "|042.185.693-98|ramosmaria-vitori...|%F4ZTe9fN@|        1910-01-11|    PB|   2023-01-17| 112.163.112.71|        Azul|       Toxicologista|+55 (071) 8276-0640|\n",
       "|759.816.034-10|sophiapinto@gmail...|!A@6AELeOV|        1973-10-01|    PB|   2023-02-22| 140.162.175.20|     Amarelo|       Cinematográfo|   +55 61 3425-9225|\n",
       "|963.542.718-28|lunada-cruz@bol.c...|(Z5WkfrP$c|        2000-06-13|    PB|   2023-01-27| 129.148.149.12|        Roxo|            Advogado|   +55 84 3978 9135|\n",
       "|186.942.307-04|   usouza@uol.com.br|vQ0Ku@T$%I|        1908-09-28|    PB|   2023-02-16|     37.20.9.87|     Magenta|          Matemático|    (021) 1526-5985|\n",
       "+--------------+--------------------+----------+------------------+------+-------------+---------------+------------+--------------------+-------------------+\n",
       "only showing top 20 rows"
      ]
     },
     "execution_count": 14,
     "metadata": {},
     "output_type": "execute_result"
    }
   ],
   "source": [
    "spark.sql('''\n",
    "    select * \n",
    "    from tabela_pb\n",
    "    ''')"
   ]
  },
  {
   "cell_type": "code",
   "execution_count": 16,
   "id": "a153f8d7",
   "metadata": {},
   "outputs": [
    {
     "data": {
      "text/html": [
       "<table border='1'>\n",
       "<tr><th>cpf</th><th>email</th><th>senha</th><th>data_de_nascimento</th><th>estado</th><th>data_cadastro</th><th>ipv4</th><th>cor_favorita</th><th>profissao</th><th>telefone</th></tr>\n",
       "<tr><td>047.528.369-47</td><td>almeidaevelyn@gma...</td><td>@8JmQG4t@x</td><td>1980-11-13</td><td>AL</td><td>2023-02-15</td><td>92.65.10.245</td><td>Marrom</td><td>Paisagista</td><td>+55 (084) 8760-9088</td></tr>\n",
       "<tr><td>089.462.357-56</td><td>vitoria83@ig.com.br</td><td>(8gXQeIeA3</td><td>2014-11-18</td><td>AL</td><td>2023-02-24</td><td>182.161.33.191</td><td>Marrom</td><td>Oculista</td><td>+55 (084) 8655 2371</td></tr>\n",
       "<tr><td>149.857.260-01</td><td>mda-costa@hotmail...</td><td>4hf6EYFb$m</td><td>2005-08-07</td><td>AL</td><td>2023-01-08</td><td>101.34.19.246</td><td>Rosa</td><td>Gagsman</td><td>0800 183 2070</td></tr>\n",
       "<tr><td>492.568.703-47</td><td>ksouza@bol.com.br</td><td>+)az^0NfXB</td><td>1976-09-11</td><td>AL</td><td>2023-02-14</td><td>50.116.252.134</td><td>Azul Escuro</td><td>Contramestre Em T...</td><td>(081) 7077 2234</td></tr>\n",
       "<tr><td>874.601.952-94</td><td>da-motavitor@bol....</td><td>o$7WpLQxwv</td><td>1995-04-25</td><td>AL</td><td>2023-02-01</td><td>94.25.133.33</td><td>Amarelo</td><td>Conferente De Rec...</td><td>0900-325-7445</td></tr>\n",
       "<tr><td>657.214.809-20</td><td>ericklopes@yahoo....</td><td>XbRGy2Rl&amp;A</td><td>1958-01-09</td><td>AL</td><td>2023-02-13</td><td>202.177.238.170</td><td>Amarelo</td><td>Engenheiro De Ilu...</td><td>(084) 7938 6983</td></tr>\n",
       "<tr><td>325.790.861-02</td><td>cauamendes@gmail.com</td><td>O5!x0OjlfW</td><td>2011-05-30</td><td>AL</td><td>2023-01-08</td><td>39.75.199.7</td><td>Azul</td><td>Profissional De H...</td><td>+55 (084) 5929-0843</td></tr>\n",
       "<tr><td>416.805.379-20</td><td>giovanna74@hotmai...</td><td>%4P39oUloo</td><td>1978-08-17</td><td>AL</td><td>2023-01-31</td><td>208.222.188.39</td><td>Verde Escuro</td><td>Contatólogo</td><td>(011) 2667 4246</td></tr>\n",
       "<tr><td>164.352.978-19</td><td>vianavitor-gabrie...</td><td>$6mSRa!s%S</td><td>1990-11-06</td><td>AL</td><td>2023-03-08</td><td>17.3.19.99</td><td>Verde Escuro</td><td>Investigador Part...</td><td>+55 (021) 8237-1575</td></tr>\n",
       "<tr><td>517.830.694-57</td><td>laura27@uol.com.br</td><td>&amp;s6Hqc2EfK</td><td>1975-06-19</td><td>AL</td><td>2023-01-03</td><td>71.196.222.150</td><td>Azul Escuro</td><td>Jogador De Handebol</td><td>+55 31 1910-4434</td></tr>\n",
       "<tr><td>218.904.576-20</td><td>carolina17@bol.co...</td><td>*X3+S$SkuE</td><td>1918-02-17</td><td>AL</td><td>2023-01-25</td><td>197.131.151.35</td><td>Cinza</td><td>Intérprete De Bíb...</td><td>+55 84 9299-9147</td></tr>\n",
       "<tr><td>361.970.245-43</td><td>bianca84@yahoo.co...</td><td>hr09TiPM)9</td><td>1976-09-11</td><td>AL</td><td>2023-02-28</td><td>206.230.73.56</td><td>Cinza</td><td>Engenheiro Florestal</td><td>+55 81 8049 3523</td></tr>\n",
       "<tr><td>105.942.678-11</td><td>pedro-lucasribeir...</td><td>JhcAh2BD(1</td><td>1912-05-23</td><td>AL</td><td>2023-03-13</td><td>11.211.167.201</td><td>Roxo</td><td>Engenheiro De Pro...</td><td>(051) 3076 7255</td></tr>\n",
       "<tr><td>820.951.347-88</td><td>joaquimda-mota@uo...</td><td>_+3QbXYeT2</td><td>1935-10-08</td><td>AL</td><td>2023-01-17</td><td>221.160.229.2</td><td>Verde Escuro</td><td>Ferramenteiro</td><td>+55 (031) 5120 4914</td></tr>\n",
       "<tr><td>072.534.618-35</td><td>oliveiravitor-hug...</td><td>W_V7sBzqn(</td><td>1988-04-28</td><td>AL</td><td>2023-02-17</td><td>64.50.187.249</td><td>Preto</td><td>Embalador</td><td>(051) 1487-2130</td></tr>\n",
       "<tr><td>943.728.605-10</td><td>renan79@uol.com.br</td><td>NdCG$twv@7</td><td>1925-10-19</td><td>AL</td><td>2023-01-08</td><td>131.101.208.80</td><td>Azul</td><td>Bedel</td><td>+55 (041) 3585 3814</td></tr>\n",
       "<tr><td>634.205.971-34</td><td>aazevedo@yahoo.co...</td><td>&amp;3HILwOn4R</td><td>1924-09-25</td><td>AL</td><td>2023-03-09</td><td>219.11.145.237</td><td>Verde Escuro</td><td>Senador</td><td>+55 (061) 7082-6767</td></tr>\n",
       "<tr><td>279.350.146-80</td><td>martinsigor@gmail...</td><td>#4UzFg@hF9</td><td>1979-04-04</td><td>AL</td><td>2023-03-13</td><td>191.9.240.131</td><td>Laranja</td><td>Zelador</td><td>+55 61 4120-8301</td></tr>\n",
       "<tr><td>072.689.531-86</td><td>barrosbeatriz@ig....</td><td>9*5yMlULUd</td><td>1985-01-23</td><td>AL</td><td>2023-01-25</td><td>12.161.99.105</td><td>Violeta</td><td>Funileiro</td><td>+55 (084) 0013-6905</td></tr>\n",
       "<tr><td>469.871.053-75</td><td>peixotoalice@bol....</td><td>bi31GU1r!*</td><td>1981-03-18</td><td>AL</td><td>2023-01-05</td><td>54.124.232.47</td><td>Laranja</td><td>Eletricista De Au...</td><td>0500-234-6005</td></tr>\n",
       "</table>\n",
       "only showing top 20 rows\n"
      ],
      "text/plain": [
       "+--------------+--------------------+----------+------------------+------+-------------+---------------+------------+--------------------+-------------------+\n",
       "|           cpf|               email|     senha|data_de_nascimento|estado|data_cadastro|           ipv4|cor_favorita|           profissao|           telefone|\n",
       "+--------------+--------------------+----------+------------------+------+-------------+---------------+------------+--------------------+-------------------+\n",
       "|469.871.053-75|peixotoalice@bol....|bi31GU1r!*|        1981-03-18|    AL|   2023-01-05|  54.124.232.47|     Laranja|Eletricista De Au...|      0500-234-6005|\n",
       "|361.970.245-43|bianca84@yahoo.co...|hr09TiPM)9|        1976-09-11|    AL|   2023-02-28|  206.230.73.56|       Cinza|Engenheiro Florestal|   +55 81 8049 3523|\n",
       "|072.689.531-86|barrosbeatriz@ig....|9*5yMlULUd|        1985-01-23|    AL|   2023-01-25|  12.161.99.105|     Violeta|           Funileiro|+55 (084) 0013-6905|\n",
       "|325.790.861-02|cauamendes@gmail.com|O5!x0OjlfW|        2011-05-30|    AL|   2023-01-08|    39.75.199.7|        Azul|Profissional De H...|+55 (084) 5929-0843|\n",
       "|218.904.576-20|carolina17@bol.co...|*X3+S$SkuE|        1918-02-17|    AL|   2023-01-25| 197.131.151.35|       Cinza|Intérprete De Bíb...|   +55 84 9299-9147|\n",
       "|072.534.618-35|oliveiravitor-hug...|W_V7sBzqn(|        1988-04-28|    AL|   2023-02-17|  64.50.187.249|       Preto|           Embalador|    (051) 1487-2130|\n",
       "|279.350.146-80|martinsigor@gmail...|#4UzFg@hF9|        1979-04-04|    AL|   2023-03-13|  191.9.240.131|     Laranja|             Zelador|   +55 61 4120-8301|\n",
       "|149.857.260-01|mda-costa@hotmail...|4hf6EYFb$m|        2005-08-07|    AL|   2023-01-08|  101.34.19.246|        Rosa|             Gagsman|      0800 183 2070|\n",
       "|657.214.809-20|ericklopes@yahoo....|XbRGy2Rl&A|        1958-01-09|    AL|   2023-02-13|202.177.238.170|     Amarelo|Engenheiro De Ilu...|    (084) 7938 6983|\n",
       "|164.352.978-19|vianavitor-gabrie...|$6mSRa!s%S|        1990-11-06|    AL|   2023-03-08|     17.3.19.99|Verde Escuro|Investigador Part...|+55 (021) 8237-1575|\n",
       "|517.830.694-57|  laura27@uol.com.br|&s6Hqc2EfK|        1975-06-19|    AL|   2023-01-03| 71.196.222.150| Azul Escuro| Jogador De Handebol|   +55 31 1910-4434|\n",
       "|105.942.678-11|pedro-lucasribeir...|JhcAh2BD(1|        1912-05-23|    AL|   2023-03-13| 11.211.167.201|        Roxo|Engenheiro De Pro...|    (051) 3076 7255|\n",
       "|820.951.347-88|joaquimda-mota@uo...|_+3QbXYeT2|        1935-10-08|    AL|   2023-01-17|  221.160.229.2|Verde Escuro|       Ferramenteiro|+55 (031) 5120 4914|\n",
       "|943.728.605-10|  renan79@uol.com.br|NdCG$twv@7|        1925-10-19|    AL|   2023-01-08| 131.101.208.80|        Azul|               Bedel|+55 (041) 3585 3814|\n",
       "|634.205.971-34|aazevedo@yahoo.co...|&3HILwOn4R|        1924-09-25|    AL|   2023-03-09| 219.11.145.237|Verde Escuro|             Senador|+55 (061) 7082-6767|\n",
       "|047.528.369-47|almeidaevelyn@gma...|@8JmQG4t@x|        1980-11-13|    AL|   2023-02-15|   92.65.10.245|      Marrom|          Paisagista|+55 (084) 8760-9088|\n",
       "|089.462.357-56| vitoria83@ig.com.br|(8gXQeIeA3|        2014-11-18|    AL|   2023-02-24| 182.161.33.191|      Marrom|            Oculista|+55 (084) 8655 2371|\n",
       "|492.568.703-47|   ksouza@bol.com.br|+)az^0NfXB|        1976-09-11|    AL|   2023-02-14| 50.116.252.134| Azul Escuro|Contramestre Em T...|    (081) 7077 2234|\n",
       "|874.601.952-94|da-motavitor@bol....|o$7WpLQxwv|        1995-04-25|    AL|   2023-02-01|   94.25.133.33|     Amarelo|Conferente De Rec...|      0900-325-7445|\n",
       "|416.805.379-20|giovanna74@hotmai...|%4P39oUloo|        1978-08-17|    AL|   2023-01-31| 208.222.188.39|Verde Escuro|         Contatólogo|    (011) 2667 4246|\n",
       "+--------------+--------------------+----------+------------------+------+-------------+---------------+------------+--------------------+-------------------+\n",
       "only showing top 20 rows"
      ]
     },
     "execution_count": 16,
     "metadata": {},
     "output_type": "execute_result"
    }
   ],
   "source": [
    "spark.sql('''\n",
    "    select * \n",
    "    from tabela_pb\n",
    "    UNION ALL\n",
    "    select * \n",
    "    from tabela_pe\n",
    "    UNION ALL\n",
    "    select * \n",
    "    from tabela_al order by estado asc\n",
    "    ''')"
   ]
  },
  {
   "cell_type": "code",
   "execution_count": null,
   "id": "281c70d8",
   "metadata": {},
   "outputs": [],
   "source": []
  }
 ],
 "metadata": {
  "kernelspec": {
   "display_name": ".venv",
   "language": "python",
   "name": "python3"
  },
  "language_info": {
   "codemirror_mode": {
    "name": "ipython",
    "version": 3
   },
   "file_extension": ".py",
   "mimetype": "text/x-python",
   "name": "python",
   "nbconvert_exporter": "python",
   "pygments_lexer": "ipython3",
   "version": "3.12.4"
  }
 },
 "nbformat": 4,
 "nbformat_minor": 5
}
